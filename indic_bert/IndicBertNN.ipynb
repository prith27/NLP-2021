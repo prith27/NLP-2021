{
  "nbformat": 4,
  "nbformat_minor": 0,
  "metadata": {
    "colab": {
      "name": "IndicBertNN.ipynb",
      "provenance": []
    },
    "kernelspec": {
      "name": "python3",
      "display_name": "Python 3"
    },
    "language_info": {
      "name": "python"
    },
    "accelerator": "GPU"
  },
  "cells": [
    {
      "cell_type": "code",
      "metadata": {
        "colab": {
          "base_uri": "https://localhost:8080/"
        },
        "id": "44VfJizbIQrm",
        "outputId": "bb293f7c-4088-4468-f26a-7f44ef5bfb4e"
      },
      "source": [
        "% cd drive/MyDrive/Colab\\ Notebooks/"
      ],
      "execution_count": 1,
      "outputs": [
        {
          "output_type": "stream",
          "text": [
            "/content/drive/MyDrive/Colab Notebooks\n"
          ],
          "name": "stdout"
        }
      ]
    },
    {
      "cell_type": "code",
      "metadata": {
        "id": "8rBs4FlCJQ0K"
      },
      "source": [
        "import pickle\n",
        "\n",
        "import tensorflow as tf\n",
        "from tensorflow.keras import layers, models\n",
        "\n",
        "from sklearn.metrics import classification_report\n",
        "\n",
        "import matplotlib.pyplot as plt"
      ],
      "execution_count": 2,
      "outputs": []
    },
    {
      "cell_type": "code",
      "metadata": {
        "id": "BHDKUF9tJOaI"
      },
      "source": [
        "X_train = pickle.load(open(\"X_train.sav\", 'rb'))\n",
        "X_val = pickle.load(open(\"X_val.sav\", 'rb'))"
      ],
      "execution_count": 3,
      "outputs": []
    },
    {
      "cell_type": "code",
      "metadata": {
        "id": "37sOIo9bJcwy"
      },
      "source": [
        "y_train = pickle.load(open(\"y_train.sav\", 'rb'))\n",
        "y_val = pickle.load(open(\"y_val.sav\", 'rb'))"
      ],
      "execution_count": 4,
      "outputs": []
    },
    {
      "cell_type": "code",
      "metadata": {
        "colab": {
          "base_uri": "https://localhost:8080/"
        },
        "id": "FV8LsYCCGlmI",
        "outputId": "a5b3b3a6-52f6-4ef8-c630-79f7bad41da6"
      },
      "source": [
        "X_train.shape"
      ],
      "execution_count": 5,
      "outputs": [
        {
          "output_type": "execute_result",
          "data": {
            "text/plain": [
              "(4592, 158208)"
            ]
          },
          "metadata": {},
          "execution_count": 5
        }
      ]
    },
    {
      "cell_type": "code",
      "metadata": {
        "id": "4ouwzoDJAOsi"
      },
      "source": [
        "'''\n",
        "model = models.Sequential()\n",
        "model.add(tf.keras.layers.Dense(32, input_dim=158208, activation=\"relu\"))\n",
        "model.add(tf.keras.layers.Dense(16, activation=\"relu\"))\n",
        "model.add(tf.keras.layers.Dense(1, activation=\"sigmoid\"))\n",
        "'''\n",
        "\n",
        "model = models.Sequential()\n",
        "model.add(tf.keras.layers.Dense(4, input_dim=158208, kernel_initializer='normal', activation='relu'))\n",
        "model.add(tf.keras.layers.Dropout(0.4))\n",
        "model.add(tf.keras.layers.Dense(2, input_dim=158208, kernel_initializer='normal', activation='relu'))\n",
        "model.add(tf.keras.layers.Dropout(0.2))\n",
        "model.add(tf.keras.layers.Dense(1, kernel_initializer='normal', activation='sigmoid'))\n",
        "\n",
        "loss_fn = tf.keras.losses.BinaryCrossentropy(from_logits=True)\n",
        "optimizer_fn = tf.keras.optimizers.SGD(learning_rate=0.001)\n",
        "\n",
        "model.compile(optimizer=optimizer_fn,\n",
        "              loss=loss_fn,\n",
        "              metrics=['accuracy'])"
      ],
      "execution_count": 6,
      "outputs": []
    },
    {
      "cell_type": "code",
      "metadata": {
        "colab": {
          "base_uri": "https://localhost:8080/"
        },
        "id": "7UBpErxjKh8B",
        "outputId": "400e6c34-e66d-4f9c-a813-e62c7cc66822"
      },
      "source": [
        "history = model.fit(X_train, y_train, epochs = 100, batch_size = 32, validation_data=(X_val, y_val))"
      ],
      "execution_count": 7,
      "outputs": [
        {
          "output_type": "stream",
          "text": [
            "Epoch 1/100\n"
          ],
          "name": "stdout"
        },
        {
          "output_type": "stream",
          "text": [
            "/usr/local/lib/python3.7/dist-packages/keras/backend.py:4994: UserWarning: \"`binary_crossentropy` received `from_logits=True`, but the `output` argument was produced by a sigmoid or softmax activation and thus does not represent logits. Was this intended?\"\n",
            "  '\"`binary_crossentropy` received `from_logits=True`, but the `output`'\n"
          ],
          "name": "stderr"
        },
        {
          "output_type": "stream",
          "text": [
            "144/144 [==============================] - 6s 20ms/step - loss: 0.6938 - accuracy: 0.5207 - val_loss: 0.6926 - val_accuracy: 0.5174\n",
            "Epoch 2/100\n",
            "144/144 [==============================] - 2s 15ms/step - loss: 0.6937 - accuracy: 0.5057 - val_loss: 0.6925 - val_accuracy: 0.5226\n",
            "Epoch 3/100\n",
            "144/144 [==============================] - 2s 16ms/step - loss: 0.6942 - accuracy: 0.5024 - val_loss: 0.6925 - val_accuracy: 0.5157\n",
            "Epoch 4/100\n",
            "144/144 [==============================] - 2s 16ms/step - loss: 0.6931 - accuracy: 0.5207 - val_loss: 0.6924 - val_accuracy: 0.5113\n",
            "Epoch 5/100\n",
            "144/144 [==============================] - 2s 16ms/step - loss: 0.6930 - accuracy: 0.5115 - val_loss: 0.6923 - val_accuracy: 0.5183\n",
            "Epoch 6/100\n",
            "144/144 [==============================] - 2s 16ms/step - loss: 0.6928 - accuracy: 0.5244 - val_loss: 0.6923 - val_accuracy: 0.5218\n",
            "Epoch 7/100\n",
            "144/144 [==============================] - 2s 15ms/step - loss: 0.6931 - accuracy: 0.5216 - val_loss: 0.6922 - val_accuracy: 0.5296\n",
            "Epoch 8/100\n",
            "144/144 [==============================] - 2s 17ms/step - loss: 0.6924 - accuracy: 0.5233 - val_loss: 0.6922 - val_accuracy: 0.5270\n",
            "Epoch 9/100\n",
            "144/144 [==============================] - 2s 15ms/step - loss: 0.6924 - accuracy: 0.5235 - val_loss: 0.6921 - val_accuracy: 0.5305\n",
            "Epoch 10/100\n",
            "144/144 [==============================] - 2s 15ms/step - loss: 0.6928 - accuracy: 0.5166 - val_loss: 0.6921 - val_accuracy: 0.5235\n",
            "Epoch 11/100\n",
            "144/144 [==============================] - 2s 15ms/step - loss: 0.6928 - accuracy: 0.5159 - val_loss: 0.6921 - val_accuracy: 0.5296\n",
            "Epoch 12/100\n",
            "144/144 [==============================] - 2s 15ms/step - loss: 0.6919 - accuracy: 0.5303 - val_loss: 0.6920 - val_accuracy: 0.5331\n",
            "Epoch 13/100\n",
            "144/144 [==============================] - 2s 15ms/step - loss: 0.6926 - accuracy: 0.5142 - val_loss: 0.6920 - val_accuracy: 0.5409\n",
            "Epoch 14/100\n",
            "144/144 [==============================] - 2s 15ms/step - loss: 0.6919 - accuracy: 0.5285 - val_loss: 0.6918 - val_accuracy: 0.5383\n",
            "Epoch 15/100\n",
            "144/144 [==============================] - 2s 16ms/step - loss: 0.6914 - accuracy: 0.5246 - val_loss: 0.6917 - val_accuracy: 0.5436\n",
            "Epoch 16/100\n",
            "144/144 [==============================] - 2s 16ms/step - loss: 0.6911 - accuracy: 0.5277 - val_loss: 0.6915 - val_accuracy: 0.5453\n",
            "Epoch 17/100\n",
            "144/144 [==============================] - 2s 17ms/step - loss: 0.6914 - accuracy: 0.5287 - val_loss: 0.6913 - val_accuracy: 0.5470\n",
            "Epoch 18/100\n",
            "144/144 [==============================] - 2s 16ms/step - loss: 0.6916 - accuracy: 0.5305 - val_loss: 0.6912 - val_accuracy: 0.5453\n",
            "Epoch 19/100\n",
            "144/144 [==============================] - 2s 16ms/step - loss: 0.6914 - accuracy: 0.5329 - val_loss: 0.6911 - val_accuracy: 0.5497\n",
            "Epoch 20/100\n",
            "144/144 [==============================] - 2s 16ms/step - loss: 0.6910 - accuracy: 0.5379 - val_loss: 0.6909 - val_accuracy: 0.5523\n",
            "Epoch 21/100\n",
            "144/144 [==============================] - 2s 16ms/step - loss: 0.6921 - accuracy: 0.5229 - val_loss: 0.6908 - val_accuracy: 0.5575\n",
            "Epoch 22/100\n",
            "144/144 [==============================] - 2s 16ms/step - loss: 0.6911 - accuracy: 0.5305 - val_loss: 0.6907 - val_accuracy: 0.5592\n",
            "Epoch 23/100\n",
            "144/144 [==============================] - 2s 16ms/step - loss: 0.6906 - accuracy: 0.5285 - val_loss: 0.6905 - val_accuracy: 0.5584\n",
            "Epoch 24/100\n",
            "144/144 [==============================] - 2s 16ms/step - loss: 0.6898 - accuracy: 0.5392 - val_loss: 0.6901 - val_accuracy: 0.5610\n",
            "Epoch 25/100\n",
            "144/144 [==============================] - 2s 16ms/step - loss: 0.6902 - accuracy: 0.5399 - val_loss: 0.6899 - val_accuracy: 0.5610\n",
            "Epoch 26/100\n",
            "144/144 [==============================] - 2s 16ms/step - loss: 0.6904 - accuracy: 0.5281 - val_loss: 0.6896 - val_accuracy: 0.5636\n",
            "Epoch 27/100\n",
            "144/144 [==============================] - 2s 16ms/step - loss: 0.6898 - accuracy: 0.5364 - val_loss: 0.6895 - val_accuracy: 0.5627\n",
            "Epoch 28/100\n",
            "144/144 [==============================] - 2s 16ms/step - loss: 0.6899 - accuracy: 0.5368 - val_loss: 0.6892 - val_accuracy: 0.5627\n",
            "Epoch 29/100\n",
            "144/144 [==============================] - 2s 16ms/step - loss: 0.6902 - accuracy: 0.5298 - val_loss: 0.6890 - val_accuracy: 0.5645\n",
            "Epoch 30/100\n",
            "144/144 [==============================] - 2s 16ms/step - loss: 0.6891 - accuracy: 0.5316 - val_loss: 0.6887 - val_accuracy: 0.5688\n",
            "Epoch 31/100\n",
            "144/144 [==============================] - 2s 16ms/step - loss: 0.6901 - accuracy: 0.5320 - val_loss: 0.6884 - val_accuracy: 0.5706\n",
            "Epoch 32/100\n",
            "144/144 [==============================] - 2s 15ms/step - loss: 0.6872 - accuracy: 0.5436 - val_loss: 0.6878 - val_accuracy: 0.5714\n",
            "Epoch 33/100\n",
            "144/144 [==============================] - 2s 16ms/step - loss: 0.6869 - accuracy: 0.5486 - val_loss: 0.6872 - val_accuracy: 0.5749\n",
            "Epoch 34/100\n",
            "144/144 [==============================] - 2s 16ms/step - loss: 0.6862 - accuracy: 0.5455 - val_loss: 0.6866 - val_accuracy: 0.5801\n",
            "Epoch 35/100\n",
            "144/144 [==============================] - 2s 16ms/step - loss: 0.6877 - accuracy: 0.5425 - val_loss: 0.6862 - val_accuracy: 0.5784\n",
            "Epoch 36/100\n",
            "144/144 [==============================] - 2s 16ms/step - loss: 0.6863 - accuracy: 0.5451 - val_loss: 0.6856 - val_accuracy: 0.5688\n",
            "Epoch 37/100\n",
            "144/144 [==============================] - 2s 16ms/step - loss: 0.6852 - accuracy: 0.5429 - val_loss: 0.6849 - val_accuracy: 0.5723\n",
            "Epoch 38/100\n",
            "144/144 [==============================] - 2s 15ms/step - loss: 0.6849 - accuracy: 0.5507 - val_loss: 0.6842 - val_accuracy: 0.5732\n",
            "Epoch 39/100\n",
            "144/144 [==============================] - 2s 16ms/step - loss: 0.6878 - accuracy: 0.5481 - val_loss: 0.6842 - val_accuracy: 0.5793\n",
            "Epoch 40/100\n",
            "144/144 [==============================] - 2s 16ms/step - loss: 0.6869 - accuracy: 0.5503 - val_loss: 0.6840 - val_accuracy: 0.5749\n",
            "Epoch 41/100\n",
            "144/144 [==============================] - 2s 15ms/step - loss: 0.6843 - accuracy: 0.5584 - val_loss: 0.6832 - val_accuracy: 0.5723\n",
            "Epoch 42/100\n",
            "144/144 [==============================] - 2s 15ms/step - loss: 0.6835 - accuracy: 0.5531 - val_loss: 0.6823 - val_accuracy: 0.5749\n",
            "Epoch 43/100\n",
            "144/144 [==============================] - 2s 16ms/step - loss: 0.6832 - accuracy: 0.5597 - val_loss: 0.6817 - val_accuracy: 0.5758\n",
            "Epoch 44/100\n",
            "144/144 [==============================] - 2s 16ms/step - loss: 0.6857 - accuracy: 0.5514 - val_loss: 0.6814 - val_accuracy: 0.5784\n",
            "Epoch 45/100\n",
            "144/144 [==============================] - 2s 16ms/step - loss: 0.6839 - accuracy: 0.5486 - val_loss: 0.6809 - val_accuracy: 0.5784\n",
            "Epoch 46/100\n",
            "144/144 [==============================] - 2s 16ms/step - loss: 0.6818 - accuracy: 0.5618 - val_loss: 0.6799 - val_accuracy: 0.5775\n",
            "Epoch 47/100\n",
            "144/144 [==============================] - 2s 16ms/step - loss: 0.6820 - accuracy: 0.5618 - val_loss: 0.6794 - val_accuracy: 0.5836\n",
            "Epoch 48/100\n",
            "144/144 [==============================] - 2s 16ms/step - loss: 0.6806 - accuracy: 0.5645 - val_loss: 0.6789 - val_accuracy: 0.5862\n",
            "Epoch 49/100\n",
            "144/144 [==============================] - 2s 16ms/step - loss: 0.6806 - accuracy: 0.5632 - val_loss: 0.6781 - val_accuracy: 0.5889\n",
            "Epoch 50/100\n",
            "144/144 [==============================] - 2s 16ms/step - loss: 0.6825 - accuracy: 0.5592 - val_loss: 0.6778 - val_accuracy: 0.5941\n",
            "Epoch 51/100\n",
            "144/144 [==============================] - 2s 16ms/step - loss: 0.6792 - accuracy: 0.5695 - val_loss: 0.6769 - val_accuracy: 0.5906\n",
            "Epoch 52/100\n",
            "144/144 [==============================] - 3s 18ms/step - loss: 0.6792 - accuracy: 0.5708 - val_loss: 0.6762 - val_accuracy: 0.5906\n",
            "Epoch 53/100\n",
            "144/144 [==============================] - 2s 16ms/step - loss: 0.6831 - accuracy: 0.5653 - val_loss: 0.6764 - val_accuracy: 0.5941\n",
            "Epoch 54/100\n",
            "144/144 [==============================] - 2s 16ms/step - loss: 0.6780 - accuracy: 0.5732 - val_loss: 0.6754 - val_accuracy: 0.6002\n",
            "Epoch 55/100\n",
            "144/144 [==============================] - 2s 16ms/step - loss: 0.6778 - accuracy: 0.5797 - val_loss: 0.6746 - val_accuracy: 0.6002\n",
            "Epoch 56/100\n",
            "144/144 [==============================] - 2s 16ms/step - loss: 0.6778 - accuracy: 0.5767 - val_loss: 0.6736 - val_accuracy: 0.6037\n",
            "Epoch 57/100\n",
            "144/144 [==============================] - 2s 16ms/step - loss: 0.6775 - accuracy: 0.5727 - val_loss: 0.6729 - val_accuracy: 0.6054\n",
            "Epoch 58/100\n",
            "144/144 [==============================] - 2s 16ms/step - loss: 0.6783 - accuracy: 0.5743 - val_loss: 0.6726 - val_accuracy: 0.6037\n",
            "Epoch 59/100\n",
            "144/144 [==============================] - 2s 16ms/step - loss: 0.6788 - accuracy: 0.5725 - val_loss: 0.6723 - val_accuracy: 0.6063\n",
            "Epoch 60/100\n",
            "144/144 [==============================] - 2s 16ms/step - loss: 0.6744 - accuracy: 0.5821 - val_loss: 0.6711 - val_accuracy: 0.6124\n",
            "Epoch 61/100\n",
            "144/144 [==============================] - 2s 16ms/step - loss: 0.6758 - accuracy: 0.5865 - val_loss: 0.6707 - val_accuracy: 0.6124\n",
            "Epoch 62/100\n",
            "144/144 [==============================] - 2s 16ms/step - loss: 0.6778 - accuracy: 0.5767 - val_loss: 0.6706 - val_accuracy: 0.6089\n",
            "Epoch 63/100\n",
            "144/144 [==============================] - 2s 16ms/step - loss: 0.6791 - accuracy: 0.5712 - val_loss: 0.6709 - val_accuracy: 0.6124\n",
            "Epoch 64/100\n",
            "144/144 [==============================] - 2s 16ms/step - loss: 0.6755 - accuracy: 0.5703 - val_loss: 0.6704 - val_accuracy: 0.6132\n",
            "Epoch 65/100\n",
            "144/144 [==============================] - 2s 16ms/step - loss: 0.6778 - accuracy: 0.5756 - val_loss: 0.6702 - val_accuracy: 0.6124\n",
            "Epoch 66/100\n",
            "144/144 [==============================] - 2s 16ms/step - loss: 0.6751 - accuracy: 0.5758 - val_loss: 0.6694 - val_accuracy: 0.6124\n",
            "Epoch 67/100\n",
            "144/144 [==============================] - 2s 16ms/step - loss: 0.6729 - accuracy: 0.5830 - val_loss: 0.6684 - val_accuracy: 0.6159\n",
            "Epoch 68/100\n",
            "144/144 [==============================] - 2s 16ms/step - loss: 0.6771 - accuracy: 0.5634 - val_loss: 0.6686 - val_accuracy: 0.6159\n",
            "Epoch 69/100\n",
            "144/144 [==============================] - 2s 16ms/step - loss: 0.6711 - accuracy: 0.5843 - val_loss: 0.6667 - val_accuracy: 0.6150\n",
            "Epoch 70/100\n",
            "144/144 [==============================] - 2s 16ms/step - loss: 0.6729 - accuracy: 0.5899 - val_loss: 0.6666 - val_accuracy: 0.6150\n",
            "Epoch 71/100\n",
            "144/144 [==============================] - 2s 16ms/step - loss: 0.6756 - accuracy: 0.5806 - val_loss: 0.6665 - val_accuracy: 0.6202\n",
            "Epoch 72/100\n",
            "144/144 [==============================] - 2s 16ms/step - loss: 0.6735 - accuracy: 0.5806 - val_loss: 0.6659 - val_accuracy: 0.6150\n",
            "Epoch 73/100\n",
            "144/144 [==============================] - 2s 16ms/step - loss: 0.6710 - accuracy: 0.5851 - val_loss: 0.6657 - val_accuracy: 0.6176\n",
            "Epoch 74/100\n",
            "144/144 [==============================] - 2s 16ms/step - loss: 0.6729 - accuracy: 0.5821 - val_loss: 0.6652 - val_accuracy: 0.6150\n",
            "Epoch 75/100\n",
            "144/144 [==============================] - 2s 16ms/step - loss: 0.6731 - accuracy: 0.5804 - val_loss: 0.6651 - val_accuracy: 0.6150\n",
            "Epoch 76/100\n",
            "144/144 [==============================] - 2s 16ms/step - loss: 0.6734 - accuracy: 0.5843 - val_loss: 0.6650 - val_accuracy: 0.6185\n",
            "Epoch 77/100\n",
            "144/144 [==============================] - 2s 16ms/step - loss: 0.6703 - accuracy: 0.5865 - val_loss: 0.6640 - val_accuracy: 0.6193\n",
            "Epoch 78/100\n",
            "144/144 [==============================] - 2s 16ms/step - loss: 0.6712 - accuracy: 0.5843 - val_loss: 0.6638 - val_accuracy: 0.6211\n",
            "Epoch 79/100\n",
            "144/144 [==============================] - 2s 16ms/step - loss: 0.6701 - accuracy: 0.5832 - val_loss: 0.6633 - val_accuracy: 0.6193\n",
            "Epoch 80/100\n",
            "144/144 [==============================] - 2s 16ms/step - loss: 0.6695 - accuracy: 0.5875 - val_loss: 0.6631 - val_accuracy: 0.6202\n",
            "Epoch 81/100\n",
            "144/144 [==============================] - 2s 16ms/step - loss: 0.6725 - accuracy: 0.5740 - val_loss: 0.6629 - val_accuracy: 0.6176\n",
            "Epoch 82/100\n",
            "144/144 [==============================] - 2s 16ms/step - loss: 0.6694 - accuracy: 0.5952 - val_loss: 0.6626 - val_accuracy: 0.6211\n",
            "Epoch 83/100\n",
            "144/144 [==============================] - 2s 16ms/step - loss: 0.6699 - accuracy: 0.5908 - val_loss: 0.6618 - val_accuracy: 0.6185\n",
            "Epoch 84/100\n",
            "144/144 [==============================] - 2s 16ms/step - loss: 0.6667 - accuracy: 0.6000 - val_loss: 0.6611 - val_accuracy: 0.6193\n",
            "Epoch 85/100\n",
            "144/144 [==============================] - 2s 16ms/step - loss: 0.6674 - accuracy: 0.5965 - val_loss: 0.6608 - val_accuracy: 0.6254\n",
            "Epoch 86/100\n",
            "144/144 [==============================] - 2s 16ms/step - loss: 0.6732 - accuracy: 0.5797 - val_loss: 0.6617 - val_accuracy: 0.6228\n",
            "Epoch 87/100\n",
            "144/144 [==============================] - 2s 16ms/step - loss: 0.6707 - accuracy: 0.5865 - val_loss: 0.6603 - val_accuracy: 0.6246\n",
            "Epoch 88/100\n",
            "144/144 [==============================] - 2s 16ms/step - loss: 0.6673 - accuracy: 0.5949 - val_loss: 0.6607 - val_accuracy: 0.6228\n",
            "Epoch 89/100\n",
            "144/144 [==============================] - 2s 16ms/step - loss: 0.6719 - accuracy: 0.5821 - val_loss: 0.6608 - val_accuracy: 0.6211\n",
            "Epoch 90/100\n",
            "144/144 [==============================] - 2s 16ms/step - loss: 0.6672 - accuracy: 0.5949 - val_loss: 0.6601 - val_accuracy: 0.6228\n",
            "Epoch 91/100\n",
            "144/144 [==============================] - 2s 16ms/step - loss: 0.6658 - accuracy: 0.5943 - val_loss: 0.6591 - val_accuracy: 0.6254\n",
            "Epoch 92/100\n",
            "144/144 [==============================] - 2s 16ms/step - loss: 0.6681 - accuracy: 0.5939 - val_loss: 0.6590 - val_accuracy: 0.6289\n",
            "Epoch 93/100\n",
            "144/144 [==============================] - 2s 16ms/step - loss: 0.6690 - accuracy: 0.5980 - val_loss: 0.6589 - val_accuracy: 0.6272\n",
            "Epoch 94/100\n",
            "144/144 [==============================] - 2s 16ms/step - loss: 0.6714 - accuracy: 0.5812 - val_loss: 0.6596 - val_accuracy: 0.6228\n",
            "Epoch 95/100\n",
            "144/144 [==============================] - 2s 16ms/step - loss: 0.6643 - accuracy: 0.5980 - val_loss: 0.6587 - val_accuracy: 0.6289\n",
            "Epoch 96/100\n",
            "144/144 [==============================] - 2s 16ms/step - loss: 0.6675 - accuracy: 0.5949 - val_loss: 0.6578 - val_accuracy: 0.6324\n",
            "Epoch 97/100\n",
            "144/144 [==============================] - 2s 16ms/step - loss: 0.6665 - accuracy: 0.6008 - val_loss: 0.6581 - val_accuracy: 0.6315\n",
            "Epoch 98/100\n",
            "144/144 [==============================] - 2s 16ms/step - loss: 0.6594 - accuracy: 0.6135 - val_loss: 0.6557 - val_accuracy: 0.6333\n",
            "Epoch 99/100\n",
            "144/144 [==============================] - 2s 16ms/step - loss: 0.6625 - accuracy: 0.6080 - val_loss: 0.6553 - val_accuracy: 0.6307\n",
            "Epoch 100/100\n",
            "144/144 [==============================] - 2s 16ms/step - loss: 0.6616 - accuracy: 0.6021 - val_loss: 0.6549 - val_accuracy: 0.6324\n"
          ],
          "name": "stdout"
        }
      ]
    },
    {
      "cell_type": "code",
      "metadata": {
        "id": "MeDJweXDKv3r"
      },
      "source": [
        "y_pred = model.predict(X_val)"
      ],
      "execution_count": 8,
      "outputs": []
    },
    {
      "cell_type": "code",
      "metadata": {
        "id": "YZMvglrjLzy-"
      },
      "source": [
        "y_pred = (y_pred > 0.5).astype('int64')\n",
        "y_pred = y_pred.reshape(len(y_pred))"
      ],
      "execution_count": 9,
      "outputs": []
    },
    {
      "cell_type": "code",
      "metadata": {
        "colab": {
          "base_uri": "https://localhost:8080/"
        },
        "id": "jhImhVerLesm",
        "outputId": "277eaec0-8b92-41dc-cd1a-90c3284e966b"
      },
      "source": [
        "print(classification_report(y_val, y_pred))"
      ],
      "execution_count": 10,
      "outputs": [
        {
          "output_type": "stream",
          "text": [
            "              precision    recall  f1-score   support\n",
            "\n",
            "           0       0.62      0.68      0.65       571\n",
            "           1       0.65      0.58      0.61       577\n",
            "\n",
            "    accuracy                           0.63      1148\n",
            "   macro avg       0.63      0.63      0.63      1148\n",
            "weighted avg       0.63      0.63      0.63      1148\n",
            "\n"
          ],
          "name": "stdout"
        }
      ]
    },
    {
      "cell_type": "code",
      "metadata": {
        "colab": {
          "base_uri": "https://localhost:8080/",
          "height": 279
        },
        "id": "1dVls7bZBMKI",
        "outputId": "5ee9af58-6d98-4123-b7cc-3a59f9b59a82"
      },
      "source": [
        "figure= plt.figure(figsize=(10,4))\n",
        "ax = plt.subplot(121)\n",
        "ax.plot(history.history['loss'], 'r', label='train')\n",
        "ax.plot(history.history['val_loss'], 'g', label='val')\n",
        "\n",
        "plt.legend()\n",
        "plt.grid(axis='y')\n",
        "plt.xlabel(\"epoch\")\n",
        "plt.ylabel(\"Loss\")\n",
        "\n",
        "ax2 = plt.subplot(122)\n",
        "ax2.plot(history.history['accuracy'], 'b', label=\"train\")\n",
        "ax2.plot(history.history['val_accuracy'], 'g', label=\"val\")\n",
        "plt.legend()\n",
        "plt.xlabel(\"epoch\")\n",
        "plt.ylabel(\"accuracy\")\n",
        "plt.grid(axis='y')\n",
        "# plt.savefig(\"cifar10_training_val_no_dropout\")"
      ],
      "execution_count": 11,
      "outputs": [
        {
          "output_type": "display_data",
          "data": {
            "image/png": "[encoded data removed]",
            "text/plain": [
              "<Figure size 720x288 with 2 Axes>"
            ]
          },
          "metadata": {
            "needs_background": "light"
          }
        }
      ]
    },
    {
      "cell_type": "code",
      "metadata": {
        "id": "eTHu-ZWGLhQ3"
      },
      "source": [
        "model = []\n",
        "y_pred = []"
      ],
      "execution_count": 12,
      "outputs": []
    },
    {
      "cell_type": "code",
      "metadata": {
        "id": "ussB3m0FW3DC"
      },
      "source": [
        ""
      ],
      "execution_count": 12,
      "outputs": []
    }
  ]
}