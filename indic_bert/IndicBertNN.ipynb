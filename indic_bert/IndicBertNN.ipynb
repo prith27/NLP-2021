{
  "nbformat": 4,
  "nbformat_minor": 0,
  "metadata": {
    "accelerator": "GPU",
    "colab": {
      "name": "IndicBertNN.ipynb",
      "provenance": []
    },
    "kernelspec": {
      "display_name": "Python 3",
      "name": "python3"
    },
    "language_info": {
      "name": "python"
    }
  },
  "cells": [
    {
      "cell_type": "markdown",
      "metadata": {
        "id": "5LPyKFQOvq3b"
      },
      "source": [
        "## Environment Setup"
      ]
    },
    {
      "cell_type": "code",
      "metadata": {
        "colab": {
          "base_uri": "https://localhost:8080/"
        },
        "id": "44VfJizbIQrm",
        "outputId": "17178556-82f3-43f3-977f-6c2c2b4aeabe"
      },
      "source": [
        "% cd /content/drive/MyDrive/Colab Notebooks"
      ],
      "execution_count": 1,
      "outputs": [
        {
          "output_type": "stream",
          "text": [
            "/content/drive/MyDrive/Colab Notebooks\n"
          ],
          "name": "stdout"
        }
      ]
    },
    {
      "cell_type": "markdown",
      "metadata": {
        "id": "x0vyNOIqv1EI"
      },
      "source": [
        "## Import Libraries"
      ]
    },
    {
      "cell_type": "code",
      "metadata": {
        "id": "8rBs4FlCJQ0K"
      },
      "source": [
        "import pickle\n",
        "import tensorflow as tf\n",
        "from tensorflow.keras import layers, models\n",
        "from sklearn.metrics import classification_report\n",
        "import matplotlib.pyplot as plt\n",
        "import numpy as np\n",
        "from sklearn.model_selection import train_test_split\n",
        "from sklearn.linear_model import LogisticRegression\n",
        "from sklearn.preprocessing import StandardScaler"
      ],
      "execution_count": 2,
      "outputs": []
    },
    {
      "cell_type": "code",
      "metadata": {
        "colab": {
          "base_uri": "https://localhost:8080/"
        },
        "id": "TIzn2KeiuyeB",
        "outputId": "07661ddc-bfe5-432d-ee8a-f478322479a2"
      },
      "source": [
        "output = []\n",
        "\n",
        "for i in range(29):\n",
        "    file_name = \"./embed_feat/output\" + str(i + 1) + \".txt\"\n",
        "    with open(file_name, \"rb\") as fp:   #Pickling\n",
        "        file_output = pickle.load(fp)\n",
        "        for x in file_output:\n",
        "            output.append(x)\n",
        "    print(file_name + \" done\")\n",
        "\n",
        "X = output\n",
        "output = []\n",
        "\n",
        "file_name = []\n",
        "file_output = []\n",
        "x = []\n",
        "\n",
        "print(len(X))"
      ],
      "execution_count": 3,
      "outputs": [
        {
          "output_type": "stream",
          "text": [
            "./embed_feat/output1.txt done\n",
            "./embed_feat/output2.txt done\n",
            "./embed_feat/output3.txt done\n",
            "./embed_feat/output4.txt done\n",
            "./embed_feat/output5.txt done\n",
            "./embed_feat/output6.txt done\n",
            "./embed_feat/output7.txt done\n",
            "./embed_feat/output8.txt done\n",
            "./embed_feat/output9.txt done\n",
            "./embed_feat/output10.txt done\n",
            "./embed_feat/output11.txt done\n",
            "./embed_feat/output12.txt done\n",
            "./embed_feat/output13.txt done\n",
            "./embed_feat/output14.txt done\n",
            "./embed_feat/output15.txt done\n",
            "./embed_feat/output16.txt done\n",
            "./embed_feat/output17.txt done\n",
            "./embed_feat/output18.txt done\n",
            "./embed_feat/output19.txt done\n",
            "./embed_feat/output20.txt done\n",
            "./embed_feat/output21.txt done\n",
            "./embed_feat/output22.txt done\n",
            "./embed_feat/output23.txt done\n",
            "./embed_feat/output24.txt done\n",
            "./embed_feat/output25.txt done\n",
            "./embed_feat/output26.txt done\n",
            "./embed_feat/output27.txt done\n",
            "./embed_feat/output28.txt done\n",
            "./embed_feat/output29.txt done\n",
            "5740\n"
          ],
          "name": "stdout"
        }
      ]
    },
    {
      "cell_type": "code",
      "metadata": {
        "colab": {
          "base_uri": "https://localhost:8080/"
        },
        "id": "YT3KBz5Du1XQ",
        "outputId": "44832879-3902-449a-e0e4-a3f195d9a5aa"
      },
      "source": [
        "with open('./embed_labels/label.txt', \"rb\") as fp:\n",
        "        y = pickle.load(fp)\n",
        "\n",
        "print(len(y))"
      ],
      "execution_count": 4,
      "outputs": [
        {
          "output_type": "stream",
          "text": [
            "5740\n"
          ],
          "name": "stdout"
        }
      ]
    },
    {
      "cell_type": "code",
      "metadata": {
        "id": "r7ImRfI5vKMR"
      },
      "source": [
        "X_train, X_val, y_train, y_val = train_test_split(X, y, test_size=0.2, random_state=42)\n",
        "\n",
        "X = []\n",
        "y = []"
      ],
      "execution_count": 5,
      "outputs": []
    },
    {
      "cell_type": "code",
      "metadata": {
        "id": "FV8LsYCCGlmI"
      },
      "source": [
        "X_train = np.array(X_train)\n",
        "X_train = X_train.reshape(4592, 158208)\n",
        "\n",
        "X_val = np.array(X_val)\n",
        "X_val = X_val.reshape(1148, 158208)\n",
        "\n",
        "y_train = np.array(y_train)\n",
        "y_val = np.array(y_val)"
      ],
      "execution_count": 6,
      "outputs": []
    },
    {
      "cell_type": "code",
      "metadata": {
        "id": "7EU6W2TiznVG"
      },
      "source": [
        "X_train = StandardScaler().fit_transform(X_train)\n",
        "X_val = StandardScaler().fit_transform(X_val)"
      ],
      "execution_count": 7,
      "outputs": []
    },
    {
      "cell_type": "code",
      "metadata": {
        "id": "QPxU1iZe2JzD"
      },
      "source": [
        "class MyThresholdCallback(tf.keras.callbacks.Callback):\n",
        "    def __init__(self, threshold):\n",
        "        super(MyThresholdCallback, self).__init__()\n",
        "        self.threshold = threshold\n",
        " \n",
        "    def on_epoch_end(self, epoch, logs=None): \n",
        "        val_acc = logs[\"val_accuracy\"]\n",
        "        if val_acc >= self.threshold:\n",
        "            self.model.stop_training = True"
      ],
      "execution_count": 8,
      "outputs": []
    },
    {
      "cell_type": "code",
      "metadata": {
        "id": "4ouwzoDJAOsi"
      },
      "source": [
        "'''\n",
        "model = models.Sequential()\n",
        "model.add(tf.keras.layers.Dense(32, input_dim=158208, activation=\"relu\"))\n",
        "model.add(tf.keras.layers.Dense(16, activation=\"relu\"))\n",
        "model.add(tf.keras.layers.Dense(1, activation=\"sigmoid\"))\n",
        "''' \n",
        "\n",
        "callback = MyThresholdCallback(threshold=0.70)\n",
        "\n",
        "model = models.Sequential()\n",
        "model.add(tf.keras.layers.Dense(32, input_dim=158208, kernel_initializer='normal', activation='relu'))\n",
        "model.add(tf.keras.layers.Dropout(0.6))\n",
        "model.add(tf.keras.layers.Dense(16, kernel_initializer='normal', activation='relu'))\n",
        "model.add(tf.keras.layers.Dropout(0.4))\n",
        "model.add(tf.keras.layers.Dense(8, kernel_initializer='normal', activation='relu'))\n",
        "model.add(tf.keras.layers.Dense(1, kernel_initializer='normal', activation='sigmoid'))\n",
        "\n",
        "loss_fn = tf.keras.losses.BinaryCrossentropy()\n",
        "optimizer_fn = tf.keras.optimizers.SGD(learning_rate=0.005)\n",
        "\n",
        "model.compile(optimizer=optimizer_fn,\n",
        "              loss=loss_fn,\n",
        "              metrics=['accuracy'],\n",
        ")"
      ],
      "execution_count": 9,
      "outputs": []
    },
    {
      "cell_type": "code",
      "metadata": {
        "colab": {
          "base_uri": "https://localhost:8080/"
        },
        "id": "7UBpErxjKh8B",
        "outputId": "d441e642-9cdc-4021-e01c-ff0b2f024fe8"
      },
      "source": [
        "history = model.fit(X_train, y_train, epochs = 1000, batch_size = 32, validation_data=(X_val, y_val), callbacks=[callback])"
      ],
      "execution_count": 10,
      "outputs": [
        {
          "output_type": "stream",
          "text": [
            "Epoch 1/1000\n",
            "144/144 [==============================] - 6s 21ms/step - loss: 0.6956 - accuracy: 0.4956 - val_loss: 0.6934 - val_accuracy: 0.4878\n",
            "Epoch 2/1000\n",
            "144/144 [==============================] - 2s 17ms/step - loss: 0.6936 - accuracy: 0.5033 - val_loss: 0.6931 - val_accuracy: 0.4930\n",
            "Epoch 3/1000\n",
            "144/144 [==============================] - 2s 17ms/step - loss: 0.6930 - accuracy: 0.5030 - val_loss: 0.6930 - val_accuracy: 0.4948\n",
            "Epoch 4/1000\n",
            "144/144 [==============================] - 2s 17ms/step - loss: 0.6932 - accuracy: 0.5094 - val_loss: 0.6928 - val_accuracy: 0.4878\n",
            "Epoch 5/1000\n",
            "144/144 [==============================] - 2s 17ms/step - loss: 0.6919 - accuracy: 0.5189 - val_loss: 0.6923 - val_accuracy: 0.4913\n",
            "Epoch 6/1000\n",
            "144/144 [==============================] - 2s 17ms/step - loss: 0.6927 - accuracy: 0.5122 - val_loss: 0.6922 - val_accuracy: 0.4913\n",
            "Epoch 7/1000\n",
            "144/144 [==============================] - 2s 17ms/step - loss: 0.6920 - accuracy: 0.5174 - val_loss: 0.6918 - val_accuracy: 0.4922\n",
            "Epoch 8/1000\n",
            "144/144 [==============================] - 2s 17ms/step - loss: 0.6922 - accuracy: 0.5316 - val_loss: 0.6914 - val_accuracy: 0.4913\n",
            "Epoch 9/1000\n",
            "144/144 [==============================] - 2s 17ms/step - loss: 0.6912 - accuracy: 0.5270 - val_loss: 0.6906 - val_accuracy: 0.5070\n",
            "Epoch 10/1000\n",
            "144/144 [==============================] - 2s 17ms/step - loss: 0.6910 - accuracy: 0.5246 - val_loss: 0.6899 - val_accuracy: 0.5209\n",
            "Epoch 11/1000\n",
            "144/144 [==============================] - 3s 19ms/step - loss: 0.6892 - accuracy: 0.5379 - val_loss: 0.6886 - val_accuracy: 0.5375\n",
            "Epoch 12/1000\n",
            "144/144 [==============================] - 2s 17ms/step - loss: 0.6884 - accuracy: 0.5333 - val_loss: 0.6868 - val_accuracy: 0.5470\n",
            "Epoch 13/1000\n",
            "144/144 [==============================] - 2s 17ms/step - loss: 0.6884 - accuracy: 0.5403 - val_loss: 0.6853 - val_accuracy: 0.5618\n",
            "Epoch 14/1000\n",
            "144/144 [==============================] - 2s 17ms/step - loss: 0.6832 - accuracy: 0.5625 - val_loss: 0.6825 - val_accuracy: 0.5706\n",
            "Epoch 15/1000\n",
            "144/144 [==============================] - 2s 17ms/step - loss: 0.6849 - accuracy: 0.5459 - val_loss: 0.6800 - val_accuracy: 0.5836\n",
            "Epoch 16/1000\n",
            "144/144 [==============================] - 2s 17ms/step - loss: 0.6832 - accuracy: 0.5429 - val_loss: 0.6775 - val_accuracy: 0.5889\n",
            "Epoch 17/1000\n",
            "144/144 [==============================] - 2s 17ms/step - loss: 0.6768 - accuracy: 0.5703 - val_loss: 0.6732 - val_accuracy: 0.6037\n",
            "Epoch 18/1000\n",
            "144/144 [==============================] - 2s 17ms/step - loss: 0.6767 - accuracy: 0.5723 - val_loss: 0.6700 - val_accuracy: 0.6063\n",
            "Epoch 19/1000\n",
            "144/144 [==============================] - 3s 18ms/step - loss: 0.6743 - accuracy: 0.5688 - val_loss: 0.6668 - val_accuracy: 0.6185\n",
            "Epoch 20/1000\n",
            "144/144 [==============================] - 3s 18ms/step - loss: 0.6722 - accuracy: 0.5791 - val_loss: 0.6637 - val_accuracy: 0.6202\n",
            "Epoch 21/1000\n",
            "144/144 [==============================] - 3s 18ms/step - loss: 0.6674 - accuracy: 0.5936 - val_loss: 0.6593 - val_accuracy: 0.6350\n",
            "Epoch 22/1000\n",
            "144/144 [==============================] - 3s 18ms/step - loss: 0.6659 - accuracy: 0.5930 - val_loss: 0.6558 - val_accuracy: 0.6324\n",
            "Epoch 23/1000\n",
            "144/144 [==============================] - 3s 18ms/step - loss: 0.6570 - accuracy: 0.6010 - val_loss: 0.6518 - val_accuracy: 0.6411\n",
            "Epoch 24/1000\n",
            "144/144 [==============================] - 3s 18ms/step - loss: 0.6581 - accuracy: 0.5976 - val_loss: 0.6487 - val_accuracy: 0.6376\n",
            "Epoch 25/1000\n",
            "144/144 [==============================] - 3s 18ms/step - loss: 0.6608 - accuracy: 0.5928 - val_loss: 0.6490 - val_accuracy: 0.6429\n",
            "Epoch 26/1000\n",
            "144/144 [==============================] - 3s 18ms/step - loss: 0.6610 - accuracy: 0.6028 - val_loss: 0.6481 - val_accuracy: 0.6368\n",
            "Epoch 27/1000\n",
            "144/144 [==============================] - 3s 18ms/step - loss: 0.6497 - accuracy: 0.6087 - val_loss: 0.6439 - val_accuracy: 0.6350\n",
            "Epoch 28/1000\n",
            "144/144 [==============================] - 3s 18ms/step - loss: 0.6507 - accuracy: 0.6167 - val_loss: 0.6426 - val_accuracy: 0.6455\n",
            "Epoch 29/1000\n",
            "144/144 [==============================] - 3s 18ms/step - loss: 0.6517 - accuracy: 0.6165 - val_loss: 0.6412 - val_accuracy: 0.6463\n",
            "Epoch 30/1000\n",
            "144/144 [==============================] - 3s 18ms/step - loss: 0.6446 - accuracy: 0.6226 - val_loss: 0.6395 - val_accuracy: 0.6437\n",
            "Epoch 31/1000\n",
            "144/144 [==============================] - 3s 17ms/step - loss: 0.6423 - accuracy: 0.6241 - val_loss: 0.6374 - val_accuracy: 0.6455\n",
            "Epoch 32/1000\n",
            "144/144 [==============================] - 3s 18ms/step - loss: 0.6469 - accuracy: 0.6241 - val_loss: 0.6388 - val_accuracy: 0.6385\n",
            "Epoch 33/1000\n",
            "144/144 [==============================] - 3s 18ms/step - loss: 0.6419 - accuracy: 0.6311 - val_loss: 0.6358 - val_accuracy: 0.6498\n",
            "Epoch 34/1000\n",
            "144/144 [==============================] - 3s 18ms/step - loss: 0.6332 - accuracy: 0.6339 - val_loss: 0.6334 - val_accuracy: 0.6463\n",
            "Epoch 35/1000\n",
            "144/144 [==============================] - 3s 18ms/step - loss: 0.6372 - accuracy: 0.6341 - val_loss: 0.6333 - val_accuracy: 0.6516\n",
            "Epoch 36/1000\n",
            "144/144 [==============================] - 3s 18ms/step - loss: 0.6355 - accuracy: 0.6383 - val_loss: 0.6324 - val_accuracy: 0.6516\n",
            "Epoch 37/1000\n",
            "144/144 [==============================] - 3s 18ms/step - loss: 0.6339 - accuracy: 0.6374 - val_loss: 0.6311 - val_accuracy: 0.6542\n",
            "Epoch 38/1000\n",
            "144/144 [==============================] - 3s 18ms/step - loss: 0.6354 - accuracy: 0.6365 - val_loss: 0.6303 - val_accuracy: 0.6638\n",
            "Epoch 39/1000\n",
            "144/144 [==============================] - 3s 18ms/step - loss: 0.6278 - accuracy: 0.6426 - val_loss: 0.6290 - val_accuracy: 0.6551\n",
            "Epoch 40/1000\n",
            "144/144 [==============================] - 3s 18ms/step - loss: 0.6258 - accuracy: 0.6459 - val_loss: 0.6278 - val_accuracy: 0.6577\n",
            "Epoch 41/1000\n",
            "144/144 [==============================] - 3s 18ms/step - loss: 0.6279 - accuracy: 0.6394 - val_loss: 0.6278 - val_accuracy: 0.6611\n",
            "Epoch 42/1000\n",
            "144/144 [==============================] - 3s 18ms/step - loss: 0.6215 - accuracy: 0.6435 - val_loss: 0.6271 - val_accuracy: 0.6611\n",
            "Epoch 43/1000\n",
            "144/144 [==============================] - 3s 18ms/step - loss: 0.6181 - accuracy: 0.6598 - val_loss: 0.6235 - val_accuracy: 0.6594\n",
            "Epoch 44/1000\n",
            "144/144 [==============================] - 3s 18ms/step - loss: 0.6272 - accuracy: 0.6485 - val_loss: 0.6253 - val_accuracy: 0.6585\n",
            "Epoch 45/1000\n",
            "144/144 [==============================] - 3s 18ms/step - loss: 0.6238 - accuracy: 0.6553 - val_loss: 0.6239 - val_accuracy: 0.6611\n",
            "Epoch 46/1000\n",
            "144/144 [==============================] - 3s 18ms/step - loss: 0.6118 - accuracy: 0.6649 - val_loss: 0.6213 - val_accuracy: 0.6664\n",
            "Epoch 47/1000\n",
            "144/144 [==============================] - 3s 18ms/step - loss: 0.6205 - accuracy: 0.6614 - val_loss: 0.6222 - val_accuracy: 0.6611\n",
            "Epoch 48/1000\n",
            "144/144 [==============================] - 3s 18ms/step - loss: 0.6110 - accuracy: 0.6583 - val_loss: 0.6210 - val_accuracy: 0.6620\n",
            "Epoch 49/1000\n",
            "144/144 [==============================] - 3s 18ms/step - loss: 0.6167 - accuracy: 0.6496 - val_loss: 0.6237 - val_accuracy: 0.6594\n",
            "Epoch 50/1000\n",
            "144/144 [==============================] - 3s 18ms/step - loss: 0.6128 - accuracy: 0.6611 - val_loss: 0.6202 - val_accuracy: 0.6603\n",
            "Epoch 51/1000\n",
            "144/144 [==============================] - 3s 18ms/step - loss: 0.6091 - accuracy: 0.6644 - val_loss: 0.6204 - val_accuracy: 0.6611\n",
            "Epoch 52/1000\n",
            "144/144 [==============================] - 3s 18ms/step - loss: 0.6041 - accuracy: 0.6742 - val_loss: 0.6185 - val_accuracy: 0.6603\n",
            "Epoch 53/1000\n",
            "144/144 [==============================] - 3s 18ms/step - loss: 0.6012 - accuracy: 0.6788 - val_loss: 0.6172 - val_accuracy: 0.6646\n",
            "Epoch 54/1000\n",
            "144/144 [==============================] - 3s 18ms/step - loss: 0.6079 - accuracy: 0.6725 - val_loss: 0.6170 - val_accuracy: 0.6611\n",
            "Epoch 55/1000\n",
            "144/144 [==============================] - 3s 18ms/step - loss: 0.6075 - accuracy: 0.6675 - val_loss: 0.6166 - val_accuracy: 0.6629\n",
            "Epoch 56/1000\n",
            "144/144 [==============================] - 3s 18ms/step - loss: 0.6032 - accuracy: 0.6712 - val_loss: 0.6169 - val_accuracy: 0.6646\n",
            "Epoch 57/1000\n",
            "144/144 [==============================] - 3s 18ms/step - loss: 0.6014 - accuracy: 0.6707 - val_loss: 0.6180 - val_accuracy: 0.6594\n",
            "Epoch 58/1000\n",
            "144/144 [==============================] - 3s 18ms/step - loss: 0.5976 - accuracy: 0.6688 - val_loss: 0.6159 - val_accuracy: 0.6629\n",
            "Epoch 59/1000\n",
            "144/144 [==============================] - 3s 18ms/step - loss: 0.5971 - accuracy: 0.6773 - val_loss: 0.6153 - val_accuracy: 0.6629\n",
            "Epoch 60/1000\n",
            "144/144 [==============================] - 3s 18ms/step - loss: 0.6006 - accuracy: 0.6818 - val_loss: 0.6140 - val_accuracy: 0.6681\n",
            "Epoch 61/1000\n",
            "144/144 [==============================] - 3s 18ms/step - loss: 0.5973 - accuracy: 0.6786 - val_loss: 0.6148 - val_accuracy: 0.6620\n",
            "Epoch 62/1000\n",
            "144/144 [==============================] - 3s 18ms/step - loss: 0.5933 - accuracy: 0.6799 - val_loss: 0.6134 - val_accuracy: 0.6620\n",
            "Epoch 63/1000\n",
            "144/144 [==============================] - 3s 18ms/step - loss: 0.5936 - accuracy: 0.6766 - val_loss: 0.6126 - val_accuracy: 0.6629\n",
            "Epoch 64/1000\n",
            "144/144 [==============================] - 3s 18ms/step - loss: 0.5907 - accuracy: 0.6851 - val_loss: 0.6113 - val_accuracy: 0.6629\n",
            "Epoch 65/1000\n",
            "144/144 [==============================] - 3s 18ms/step - loss: 0.5915 - accuracy: 0.6860 - val_loss: 0.6123 - val_accuracy: 0.6629\n",
            "Epoch 66/1000\n",
            "144/144 [==============================] - 3s 18ms/step - loss: 0.5864 - accuracy: 0.6855 - val_loss: 0.6112 - val_accuracy: 0.6638\n",
            "Epoch 67/1000\n",
            "144/144 [==============================] - 3s 18ms/step - loss: 0.5929 - accuracy: 0.6882 - val_loss: 0.6125 - val_accuracy: 0.6655\n",
            "Epoch 68/1000\n",
            "144/144 [==============================] - 3s 18ms/step - loss: 0.5896 - accuracy: 0.6964 - val_loss: 0.6121 - val_accuracy: 0.6655\n",
            "Epoch 69/1000\n",
            "144/144 [==============================] - 3s 18ms/step - loss: 0.5831 - accuracy: 0.6932 - val_loss: 0.6110 - val_accuracy: 0.6638\n",
            "Epoch 70/1000\n",
            "144/144 [==============================] - 3s 18ms/step - loss: 0.5835 - accuracy: 0.6921 - val_loss: 0.6113 - val_accuracy: 0.6603\n",
            "Epoch 71/1000\n",
            "144/144 [==============================] - 3s 18ms/step - loss: 0.5814 - accuracy: 0.6879 - val_loss: 0.6114 - val_accuracy: 0.6611\n",
            "Epoch 72/1000\n",
            "144/144 [==============================] - 3s 18ms/step - loss: 0.5739 - accuracy: 0.7001 - val_loss: 0.6102 - val_accuracy: 0.6646\n",
            "Epoch 73/1000\n",
            "144/144 [==============================] - 3s 18ms/step - loss: 0.5771 - accuracy: 0.6940 - val_loss: 0.6108 - val_accuracy: 0.6533\n",
            "Epoch 74/1000\n",
            "144/144 [==============================] - 3s 18ms/step - loss: 0.5790 - accuracy: 0.6975 - val_loss: 0.6109 - val_accuracy: 0.6577\n",
            "Epoch 75/1000\n",
            "144/144 [==============================] - 3s 18ms/step - loss: 0.5765 - accuracy: 0.6980 - val_loss: 0.6099 - val_accuracy: 0.6559\n",
            "Epoch 76/1000\n",
            "144/144 [==============================] - 3s 18ms/step - loss: 0.5806 - accuracy: 0.6964 - val_loss: 0.6093 - val_accuracy: 0.6620\n",
            "Epoch 77/1000\n",
            "144/144 [==============================] - 3s 18ms/step - loss: 0.5766 - accuracy: 0.7023 - val_loss: 0.6097 - val_accuracy: 0.6585\n",
            "Epoch 78/1000\n",
            "144/144 [==============================] - 3s 18ms/step - loss: 0.5745 - accuracy: 0.7067 - val_loss: 0.6077 - val_accuracy: 0.6646\n",
            "Epoch 79/1000\n",
            "144/144 [==============================] - 3s 18ms/step - loss: 0.5681 - accuracy: 0.7145 - val_loss: 0.6076 - val_accuracy: 0.6620\n",
            "Epoch 80/1000\n",
            "144/144 [==============================] - 3s 18ms/step - loss: 0.5647 - accuracy: 0.7091 - val_loss: 0.6069 - val_accuracy: 0.6611\n",
            "Epoch 81/1000\n",
            "144/144 [==============================] - 3s 18ms/step - loss: 0.5725 - accuracy: 0.7038 - val_loss: 0.6073 - val_accuracy: 0.6611\n",
            "Epoch 82/1000\n",
            "144/144 [==============================] - 3s 18ms/step - loss: 0.5722 - accuracy: 0.7041 - val_loss: 0.6073 - val_accuracy: 0.6629\n",
            "Epoch 83/1000\n",
            "144/144 [==============================] - 3s 18ms/step - loss: 0.5697 - accuracy: 0.7091 - val_loss: 0.6071 - val_accuracy: 0.6577\n",
            "Epoch 84/1000\n",
            "144/144 [==============================] - 3s 18ms/step - loss: 0.5628 - accuracy: 0.7154 - val_loss: 0.6065 - val_accuracy: 0.6603\n",
            "Epoch 85/1000\n",
            "144/144 [==============================] - 3s 18ms/step - loss: 0.5633 - accuracy: 0.7106 - val_loss: 0.6072 - val_accuracy: 0.6611\n",
            "Epoch 86/1000\n",
            "144/144 [==============================] - 3s 18ms/step - loss: 0.5588 - accuracy: 0.7064 - val_loss: 0.6067 - val_accuracy: 0.6629\n",
            "Epoch 87/1000\n",
            "144/144 [==============================] - 3s 18ms/step - loss: 0.5603 - accuracy: 0.7143 - val_loss: 0.6055 - val_accuracy: 0.6638\n",
            "Epoch 88/1000\n",
            "144/144 [==============================] - 3s 18ms/step - loss: 0.5552 - accuracy: 0.7169 - val_loss: 0.6059 - val_accuracy: 0.6646\n",
            "Epoch 89/1000\n",
            "144/144 [==============================] - 3s 17ms/step - loss: 0.5528 - accuracy: 0.7189 - val_loss: 0.6043 - val_accuracy: 0.6699\n",
            "Epoch 90/1000\n",
            "144/144 [==============================] - 3s 18ms/step - loss: 0.5594 - accuracy: 0.7195 - val_loss: 0.6049 - val_accuracy: 0.6699\n",
            "Epoch 91/1000\n",
            "144/144 [==============================] - 3s 18ms/step - loss: 0.5568 - accuracy: 0.7206 - val_loss: 0.6049 - val_accuracy: 0.6638\n",
            "Epoch 92/1000\n",
            "144/144 [==============================] - 3s 18ms/step - loss: 0.5434 - accuracy: 0.7295 - val_loss: 0.6043 - val_accuracy: 0.6638\n",
            "Epoch 93/1000\n",
            "144/144 [==============================] - 3s 18ms/step - loss: 0.5470 - accuracy: 0.7300 - val_loss: 0.6033 - val_accuracy: 0.6716\n",
            "Epoch 94/1000\n",
            "144/144 [==============================] - 3s 18ms/step - loss: 0.5485 - accuracy: 0.7195 - val_loss: 0.6033 - val_accuracy: 0.6690\n",
            "Epoch 95/1000\n",
            "144/144 [==============================] - 3s 18ms/step - loss: 0.5455 - accuracy: 0.7326 - val_loss: 0.6041 - val_accuracy: 0.6690\n",
            "Epoch 96/1000\n",
            "144/144 [==============================] - 3s 18ms/step - loss: 0.5295 - accuracy: 0.7374 - val_loss: 0.6046 - val_accuracy: 0.6690\n",
            "Epoch 97/1000\n",
            "144/144 [==============================] - 3s 18ms/step - loss: 0.5367 - accuracy: 0.7260 - val_loss: 0.6051 - val_accuracy: 0.6646\n",
            "Epoch 98/1000\n",
            "144/144 [==============================] - 3s 18ms/step - loss: 0.5425 - accuracy: 0.7278 - val_loss: 0.6056 - val_accuracy: 0.6681\n",
            "Epoch 99/1000\n",
            "144/144 [==============================] - 3s 18ms/step - loss: 0.5470 - accuracy: 0.7274 - val_loss: 0.6034 - val_accuracy: 0.6681\n",
            "Epoch 100/1000\n",
            "144/144 [==============================] - 3s 18ms/step - loss: 0.5401 - accuracy: 0.7232 - val_loss: 0.6033 - val_accuracy: 0.6655\n",
            "Epoch 101/1000\n",
            "144/144 [==============================] - 3s 18ms/step - loss: 0.5348 - accuracy: 0.7361 - val_loss: 0.6031 - val_accuracy: 0.6707\n",
            "Epoch 102/1000\n",
            "144/144 [==============================] - 3s 18ms/step - loss: 0.5313 - accuracy: 0.7319 - val_loss: 0.6027 - val_accuracy: 0.6672\n",
            "Epoch 103/1000\n",
            "144/144 [==============================] - 3s 18ms/step - loss: 0.5370 - accuracy: 0.7334 - val_loss: 0.6019 - val_accuracy: 0.6733\n",
            "Epoch 104/1000\n",
            "144/144 [==============================] - 3s 18ms/step - loss: 0.5316 - accuracy: 0.7361 - val_loss: 0.6021 - val_accuracy: 0.6690\n",
            "Epoch 105/1000\n",
            "144/144 [==============================] - 3s 18ms/step - loss: 0.5213 - accuracy: 0.7369 - val_loss: 0.6018 - val_accuracy: 0.6742\n",
            "Epoch 106/1000\n",
            "144/144 [==============================] - 3s 18ms/step - loss: 0.5334 - accuracy: 0.7361 - val_loss: 0.6012 - val_accuracy: 0.6751\n",
            "Epoch 107/1000\n",
            "144/144 [==============================] - 3s 18ms/step - loss: 0.5270 - accuracy: 0.7415 - val_loss: 0.6014 - val_accuracy: 0.6725\n",
            "Epoch 108/1000\n",
            "144/144 [==============================] - 3s 18ms/step - loss: 0.5234 - accuracy: 0.7415 - val_loss: 0.6013 - val_accuracy: 0.6716\n",
            "Epoch 109/1000\n",
            "144/144 [==============================] - 3s 18ms/step - loss: 0.5256 - accuracy: 0.7439 - val_loss: 0.6016 - val_accuracy: 0.6733\n",
            "Epoch 110/1000\n",
            "144/144 [==============================] - 3s 18ms/step - loss: 0.5260 - accuracy: 0.7437 - val_loss: 0.6018 - val_accuracy: 0.6707\n",
            "Epoch 111/1000\n",
            "144/144 [==============================] - 3s 18ms/step - loss: 0.5180 - accuracy: 0.7474 - val_loss: 0.6008 - val_accuracy: 0.6725\n",
            "Epoch 112/1000\n",
            "144/144 [==============================] - 3s 18ms/step - loss: 0.5214 - accuracy: 0.7432 - val_loss: 0.6020 - val_accuracy: 0.6716\n",
            "Epoch 113/1000\n",
            "144/144 [==============================] - 3s 18ms/step - loss: 0.5170 - accuracy: 0.7430 - val_loss: 0.6016 - val_accuracy: 0.6725\n",
            "Epoch 114/1000\n",
            "144/144 [==============================] - 3s 18ms/step - loss: 0.5169 - accuracy: 0.7432 - val_loss: 0.6004 - val_accuracy: 0.6751\n",
            "Epoch 115/1000\n",
            "144/144 [==============================] - 3s 18ms/step - loss: 0.5169 - accuracy: 0.7424 - val_loss: 0.6001 - val_accuracy: 0.6786\n",
            "Epoch 116/1000\n",
            "144/144 [==============================] - 3s 18ms/step - loss: 0.5021 - accuracy: 0.7635 - val_loss: 0.6012 - val_accuracy: 0.6794\n",
            "Epoch 117/1000\n",
            "144/144 [==============================] - 3s 18ms/step - loss: 0.5134 - accuracy: 0.7520 - val_loss: 0.5998 - val_accuracy: 0.6794\n",
            "Epoch 118/1000\n",
            "144/144 [==============================] - 3s 18ms/step - loss: 0.4981 - accuracy: 0.7605 - val_loss: 0.6016 - val_accuracy: 0.6707\n",
            "Epoch 119/1000\n",
            "144/144 [==============================] - 3s 18ms/step - loss: 0.5101 - accuracy: 0.7574 - val_loss: 0.6011 - val_accuracy: 0.6681\n",
            "Epoch 120/1000\n",
            "144/144 [==============================] - 3s 18ms/step - loss: 0.5066 - accuracy: 0.7552 - val_loss: 0.6002 - val_accuracy: 0.6777\n",
            "Epoch 121/1000\n",
            "144/144 [==============================] - 3s 18ms/step - loss: 0.5038 - accuracy: 0.7576 - val_loss: 0.6007 - val_accuracy: 0.6733\n",
            "Epoch 122/1000\n",
            "144/144 [==============================] - 3s 18ms/step - loss: 0.5070 - accuracy: 0.7557 - val_loss: 0.5992 - val_accuracy: 0.6768\n",
            "Epoch 123/1000\n",
            "144/144 [==============================] - 3s 18ms/step - loss: 0.4996 - accuracy: 0.7591 - val_loss: 0.5990 - val_accuracy: 0.6803\n",
            "Epoch 124/1000\n",
            "144/144 [==============================] - 3s 18ms/step - loss: 0.5061 - accuracy: 0.7563 - val_loss: 0.5990 - val_accuracy: 0.6742\n",
            "Epoch 125/1000\n",
            "144/144 [==============================] - 3s 18ms/step - loss: 0.4958 - accuracy: 0.7574 - val_loss: 0.5993 - val_accuracy: 0.6768\n",
            "Epoch 126/1000\n",
            "144/144 [==============================] - 3s 18ms/step - loss: 0.5028 - accuracy: 0.7581 - val_loss: 0.5984 - val_accuracy: 0.6733\n",
            "Epoch 127/1000\n",
            "144/144 [==============================] - 3s 18ms/step - loss: 0.4957 - accuracy: 0.7635 - val_loss: 0.5987 - val_accuracy: 0.6786\n",
            "Epoch 128/1000\n",
            "144/144 [==============================] - 3s 18ms/step - loss: 0.4935 - accuracy: 0.7607 - val_loss: 0.5979 - val_accuracy: 0.6821\n",
            "Epoch 129/1000\n",
            "144/144 [==============================] - 3s 18ms/step - loss: 0.4873 - accuracy: 0.7655 - val_loss: 0.5980 - val_accuracy: 0.6794\n",
            "Epoch 130/1000\n",
            "144/144 [==============================] - 3s 18ms/step - loss: 0.4944 - accuracy: 0.7607 - val_loss: 0.5977 - val_accuracy: 0.6812\n",
            "Epoch 131/1000\n",
            "144/144 [==============================] - 3s 18ms/step - loss: 0.4788 - accuracy: 0.7661 - val_loss: 0.5994 - val_accuracy: 0.6777\n",
            "Epoch 132/1000\n",
            "144/144 [==============================] - 3s 18ms/step - loss: 0.4887 - accuracy: 0.7711 - val_loss: 0.5994 - val_accuracy: 0.6751\n",
            "Epoch 133/1000\n",
            "144/144 [==============================] - 3s 18ms/step - loss: 0.4803 - accuracy: 0.7633 - val_loss: 0.5989 - val_accuracy: 0.6803\n",
            "Epoch 134/1000\n",
            "144/144 [==============================] - 3s 18ms/step - loss: 0.4799 - accuracy: 0.7720 - val_loss: 0.5995 - val_accuracy: 0.6838\n",
            "Epoch 135/1000\n",
            "144/144 [==============================] - 3s 18ms/step - loss: 0.4719 - accuracy: 0.7713 - val_loss: 0.6002 - val_accuracy: 0.6812\n",
            "Epoch 136/1000\n",
            "144/144 [==============================] - 3s 18ms/step - loss: 0.4723 - accuracy: 0.7753 - val_loss: 0.5995 - val_accuracy: 0.6786\n",
            "Epoch 137/1000\n",
            "144/144 [==============================] - 3s 18ms/step - loss: 0.4852 - accuracy: 0.7744 - val_loss: 0.5978 - val_accuracy: 0.6786\n",
            "Epoch 138/1000\n",
            "144/144 [==============================] - 3s 18ms/step - loss: 0.4623 - accuracy: 0.7835 - val_loss: 0.6003 - val_accuracy: 0.6873\n",
            "Epoch 139/1000\n",
            "144/144 [==============================] - 3s 18ms/step - loss: 0.4677 - accuracy: 0.7822 - val_loss: 0.5987 - val_accuracy: 0.6855\n",
            "Epoch 140/1000\n",
            "144/144 [==============================] - 3s 18ms/step - loss: 0.4707 - accuracy: 0.7744 - val_loss: 0.6007 - val_accuracy: 0.6855\n",
            "Epoch 141/1000\n",
            "144/144 [==============================] - 3s 18ms/step - loss: 0.4712 - accuracy: 0.7748 - val_loss: 0.6013 - val_accuracy: 0.6821\n",
            "Epoch 142/1000\n",
            "144/144 [==============================] - 3s 18ms/step - loss: 0.4618 - accuracy: 0.7807 - val_loss: 0.6029 - val_accuracy: 0.6821\n",
            "Epoch 143/1000\n",
            "144/144 [==============================] - 3s 18ms/step - loss: 0.4679 - accuracy: 0.7757 - val_loss: 0.6023 - val_accuracy: 0.6794\n",
            "Epoch 144/1000\n",
            "144/144 [==============================] - 3s 18ms/step - loss: 0.4641 - accuracy: 0.7744 - val_loss: 0.6033 - val_accuracy: 0.6803\n",
            "Epoch 145/1000\n",
            "144/144 [==============================] - 3s 18ms/step - loss: 0.4641 - accuracy: 0.7833 - val_loss: 0.6020 - val_accuracy: 0.6821\n",
            "Epoch 146/1000\n",
            "144/144 [==============================] - 3s 18ms/step - loss: 0.4564 - accuracy: 0.7875 - val_loss: 0.6026 - val_accuracy: 0.6786\n",
            "Epoch 147/1000\n",
            "144/144 [==============================] - 3s 18ms/step - loss: 0.4579 - accuracy: 0.7783 - val_loss: 0.5987 - val_accuracy: 0.6777\n",
            "Epoch 148/1000\n",
            "144/144 [==============================] - 3s 18ms/step - loss: 0.4506 - accuracy: 0.7946 - val_loss: 0.6002 - val_accuracy: 0.6829\n",
            "Epoch 149/1000\n",
            "144/144 [==============================] - 3s 18ms/step - loss: 0.4573 - accuracy: 0.7879 - val_loss: 0.6001 - val_accuracy: 0.6847\n",
            "Epoch 150/1000\n",
            "144/144 [==============================] - 3s 18ms/step - loss: 0.4587 - accuracy: 0.7855 - val_loss: 0.5988 - val_accuracy: 0.6838\n",
            "Epoch 151/1000\n",
            "144/144 [==============================] - 3s 18ms/step - loss: 0.4465 - accuracy: 0.7842 - val_loss: 0.6014 - val_accuracy: 0.6864\n",
            "Epoch 152/1000\n",
            "144/144 [==============================] - 3s 18ms/step - loss: 0.4439 - accuracy: 0.7864 - val_loss: 0.6041 - val_accuracy: 0.6821\n",
            "Epoch 153/1000\n",
            "144/144 [==============================] - 3s 18ms/step - loss: 0.4320 - accuracy: 0.7925 - val_loss: 0.6052 - val_accuracy: 0.6882\n",
            "Epoch 154/1000\n",
            "144/144 [==============================] - 3s 18ms/step - loss: 0.4383 - accuracy: 0.7864 - val_loss: 0.6071 - val_accuracy: 0.6838\n",
            "Epoch 155/1000\n",
            "144/144 [==============================] - 3s 18ms/step - loss: 0.4364 - accuracy: 0.7957 - val_loss: 0.6037 - val_accuracy: 0.6855\n",
            "Epoch 156/1000\n",
            "144/144 [==============================] - 3s 18ms/step - loss: 0.4337 - accuracy: 0.7959 - val_loss: 0.6044 - val_accuracy: 0.6847\n",
            "Epoch 157/1000\n",
            "144/144 [==============================] - 3s 18ms/step - loss: 0.4325 - accuracy: 0.7953 - val_loss: 0.6046 - val_accuracy: 0.6916\n",
            "Epoch 158/1000\n",
            "144/144 [==============================] - 3s 18ms/step - loss: 0.4289 - accuracy: 0.7977 - val_loss: 0.6051 - val_accuracy: 0.6960\n",
            "Epoch 159/1000\n",
            "144/144 [==============================] - 3s 18ms/step - loss: 0.4198 - accuracy: 0.8047 - val_loss: 0.6070 - val_accuracy: 0.6925\n",
            "Epoch 160/1000\n",
            "144/144 [==============================] - 3s 18ms/step - loss: 0.4089 - accuracy: 0.8042 - val_loss: 0.6164 - val_accuracy: 0.6951\n",
            "Epoch 161/1000\n",
            "144/144 [==============================] - 3s 18ms/step - loss: 0.4190 - accuracy: 0.8088 - val_loss: 0.6017 - val_accuracy: 0.6943\n",
            "Epoch 162/1000\n",
            "144/144 [==============================] - 3s 18ms/step - loss: 0.4171 - accuracy: 0.8029 - val_loss: 0.6052 - val_accuracy: 0.6916\n",
            "Epoch 163/1000\n",
            "144/144 [==============================] - 3s 18ms/step - loss: 0.4207 - accuracy: 0.7973 - val_loss: 0.6038 - val_accuracy: 0.6899\n",
            "Epoch 164/1000\n",
            "144/144 [==============================] - 3s 18ms/step - loss: 0.4185 - accuracy: 0.7997 - val_loss: 0.6005 - val_accuracy: 0.6986\n",
            "Epoch 165/1000\n",
            "144/144 [==============================] - 3s 18ms/step - loss: 0.4220 - accuracy: 0.8047 - val_loss: 0.6013 - val_accuracy: 0.6969\n",
            "Epoch 166/1000\n",
            "144/144 [==============================] - 3s 18ms/step - loss: 0.4078 - accuracy: 0.8095 - val_loss: 0.6053 - val_accuracy: 0.6934\n",
            "Epoch 167/1000\n",
            "144/144 [==============================] - 3s 18ms/step - loss: 0.4089 - accuracy: 0.8105 - val_loss: 0.6059 - val_accuracy: 0.6934\n",
            "Epoch 168/1000\n",
            "144/144 [==============================] - 3s 18ms/step - loss: 0.4036 - accuracy: 0.8092 - val_loss: 0.6116 - val_accuracy: 0.6986\n",
            "Epoch 169/1000\n",
            "144/144 [==============================] - 3s 18ms/step - loss: 0.4116 - accuracy: 0.8079 - val_loss: 0.6108 - val_accuracy: 0.6943\n",
            "Epoch 170/1000\n",
            "144/144 [==============================] - 3s 18ms/step - loss: 0.4071 - accuracy: 0.8134 - val_loss: 0.6115 - val_accuracy: 0.6960\n",
            "Epoch 171/1000\n",
            "144/144 [==============================] - 3s 18ms/step - loss: 0.4017 - accuracy: 0.8212 - val_loss: 0.6129 - val_accuracy: 0.6873\n",
            "Epoch 172/1000\n",
            "144/144 [==============================] - 3s 18ms/step - loss: 0.3876 - accuracy: 0.8212 - val_loss: 0.6149 - val_accuracy: 0.6951\n",
            "Epoch 173/1000\n",
            "144/144 [==============================] - 3s 18ms/step - loss: 0.3995 - accuracy: 0.8195 - val_loss: 0.6166 - val_accuracy: 0.6995\n",
            "Epoch 174/1000\n",
            "144/144 [==============================] - 3s 18ms/step - loss: 0.3968 - accuracy: 0.8112 - val_loss: 0.6145 - val_accuracy: 0.6969\n",
            "Epoch 175/1000\n",
            "144/144 [==============================] - 3s 18ms/step - loss: 0.3974 - accuracy: 0.8127 - val_loss: 0.6096 - val_accuracy: 0.6969\n",
            "Epoch 176/1000\n",
            "144/144 [==============================] - 3s 18ms/step - loss: 0.3893 - accuracy: 0.8164 - val_loss: 0.6113 - val_accuracy: 0.6934\n",
            "Epoch 177/1000\n",
            "144/144 [==============================] - 3s 18ms/step - loss: 0.3773 - accuracy: 0.8288 - val_loss: 0.6254 - val_accuracy: 0.6934\n",
            "Epoch 178/1000\n",
            "144/144 [==============================] - 3s 18ms/step - loss: 0.3881 - accuracy: 0.8182 - val_loss: 0.6150 - val_accuracy: 0.7003\n"
          ],
          "name": "stdout"
        }
      ]
    },
    {
      "cell_type": "code",
      "metadata": {
        "id": "MeDJweXDKv3r"
      },
      "source": [
        "y_pred = model.predict(X_val)"
      ],
      "execution_count": 11,
      "outputs": []
    },
    {
      "cell_type": "code",
      "metadata": {
        "id": "YZMvglrjLzy-"
      },
      "source": [
        "y_pred = (y_pred > 0.5).astype('int64')\n",
        "y_pred = y_pred.reshape(len(y_pred))"
      ],
      "execution_count": 12,
      "outputs": []
    },
    {
      "cell_type": "code",
      "metadata": {
        "colab": {
          "base_uri": "https://localhost:8080/"
        },
        "id": "jhImhVerLesm",
        "outputId": "bb7d414a-b538-438b-ccf1-269122fe74c5"
      },
      "source": [
        "print(classification_report(y_val, y_pred))"
      ],
      "execution_count": 13,
      "outputs": [
        {
          "output_type": "stream",
          "text": [
            "              precision    recall  f1-score   support\n",
            "\n",
            "           0       0.70      0.70      0.70       571\n",
            "           1       0.70      0.70      0.70       577\n",
            "\n",
            "    accuracy                           0.70      1148\n",
            "   macro avg       0.70      0.70      0.70      1148\n",
            "weighted avg       0.70      0.70      0.70      1148\n",
            "\n"
          ],
          "name": "stdout"
        }
      ]
    },
    {
      "cell_type": "code",
      "metadata": {
        "colab": {
          "base_uri": "https://localhost:8080/",
          "height": 279
        },
        "id": "1dVls7bZBMKI",
        "outputId": "2177fe54-c9d8-474e-cd0d-efc677257236"
      },
      "source": [
        "figure= plt.figure(figsize=(10,4))\n",
        "ax = plt.subplot(121)\n",
        "ax.plot(history.history['loss'], 'r', label='train')\n",
        "ax.plot(history.history['val_loss'], 'g', label='val')\n",
        "\n",
        "plt.legend()\n",
        "plt.grid(axis='y')\n",
        "plt.xlabel(\"epoch\")\n",
        "plt.ylabel(\"Loss\")\n",
        "\n",
        "ax2 = plt.subplot(122)\n",
        "ax2.plot(history.history['accuracy'], 'b', label=\"train\")\n",
        "ax2.plot(history.history['val_accuracy'], 'g', label=\"val\")\n",
        "plt.legend()\n",
        "plt.xlabel(\"epoch\")\n",
        "plt.ylabel(\"accuracy\")\n",
        "plt.grid(axis='y')\n",
        "# plt.savefig(\"cifar10_training_val_no_dropout\")"
      ],
      "execution_count": 14,
      "outputs": [
        {
          "output_type": "display_data",
          "data": {
            "image/png": "[encoded data removed]",
            "text/plain": [
              "<Figure size 720x288 with 2 Axes>"
            ]
          },
          "metadata": {
            "needs_background": "light"
          }
        }
      ]
    },
    {
      "cell_type": "code",
      "metadata": {
        "id": "eTHu-ZWGLhQ3"
      },
      "source": [
        "model = []\n",
        "y_pred = []"
      ],
      "execution_count": 15,
      "outputs": []
    },
    {
      "cell_type": "markdown",
      "metadata": {
        "id": "pwQuztQKszGl"
      },
      "source": [
        "## Train on complete Data"
      ]
    },
    {
      "cell_type": "code",
      "metadata": {
        "colab": {
          "base_uri": "https://localhost:8080/"
        },
        "id": "ussB3m0FW3DC",
        "outputId": "8acd8bcb-ab9d-4f47-8837-b6477a6102d3"
      },
      "source": [
        "output = []\n",
        "\n",
        "for i in range(29):\n",
        "    file_name = \"./embed_feat/output\" + str(i + 1) + \".txt\"\n",
        "    with open(file_name, \"rb\") as fp:   #Pickling\n",
        "        file_output = pickle.load(fp)\n",
        "        for x in file_output:\n",
        "            output.append(x)\n",
        "    print(file_name + \" done\")\n",
        "\n",
        "X = output\n",
        "output = []\n",
        "\n",
        "file_name = []\n",
        "file_output = []\n",
        "x = []\n",
        "\n",
        "print(len(X))"
      ],
      "execution_count": 3,
      "outputs": [
        {
          "output_type": "stream",
          "text": [
            "./embed_feat/output1.txt done\n",
            "./embed_feat/output2.txt done\n",
            "./embed_feat/output3.txt done\n",
            "./embed_feat/output4.txt done\n",
            "./embed_feat/output5.txt done\n",
            "./embed_feat/output6.txt done\n",
            "./embed_feat/output7.txt done\n",
            "./embed_feat/output8.txt done\n",
            "./embed_feat/output9.txt done\n",
            "./embed_feat/output10.txt done\n",
            "./embed_feat/output11.txt done\n",
            "./embed_feat/output12.txt done\n",
            "./embed_feat/output13.txt done\n",
            "./embed_feat/output14.txt done\n",
            "./embed_feat/output15.txt done\n",
            "./embed_feat/output16.txt done\n",
            "./embed_feat/output17.txt done\n",
            "./embed_feat/output18.txt done\n",
            "./embed_feat/output19.txt done\n",
            "./embed_feat/output20.txt done\n",
            "./embed_feat/output21.txt done\n",
            "./embed_feat/output22.txt done\n",
            "./embed_feat/output23.txt done\n",
            "./embed_feat/output24.txt done\n",
            "./embed_feat/output25.txt done\n",
            "./embed_feat/output26.txt done\n",
            "./embed_feat/output27.txt done\n",
            "./embed_feat/output28.txt done\n",
            "./embed_feat/output29.txt done\n",
            "5740\n"
          ],
          "name": "stdout"
        }
      ]
    },
    {
      "cell_type": "code",
      "metadata": {
        "colab": {
          "base_uri": "https://localhost:8080/"
        },
        "id": "-yUNEROps8xZ",
        "outputId": "0bc3e16d-bd79-43fe-d949-e559e7820ebf"
      },
      "source": [
        "with open('./embed_labels/label.txt', \"rb\") as fp:\n",
        "        y = pickle.load(fp)\n",
        "\n",
        "print(len(y))"
      ],
      "execution_count": 4,
      "outputs": [
        {
          "output_type": "stream",
          "text": [
            "5740\n"
          ],
          "name": "stdout"
        }
      ]
    },
    {
      "cell_type": "code",
      "metadata": {
        "id": "IgEKkr1Hs9Y9"
      },
      "source": [
        "X = np.array(X)\n",
        "X = X.reshape(5740, 158208)\n",
        "y = np.array(y)"
      ],
      "execution_count": 5,
      "outputs": []
    },
    {
      "cell_type": "code",
      "metadata": {
        "id": "l9udMwwswqkN"
      },
      "source": [
        "X = StandardScaler().fit_transform(X)"
      ],
      "execution_count": 6,
      "outputs": []
    },
    {
      "cell_type": "code",
      "metadata": {
        "id": "ZvNqjQBYyoyo"
      },
      "source": [
        "model = models.Sequential()\n",
        "model.add(tf.keras.layers.Dense(32, input_dim=158208, kernel_initializer='normal', activation='relu'))\n",
        "model.add(tf.keras.layers.Dropout(0.6))\n",
        "model.add(tf.keras.layers.Dense(16, kernel_initializer='normal', activation='relu'))\n",
        "model.add(tf.keras.layers.Dropout(0.4))\n",
        "model.add(tf.keras.layers.Dense(8, kernel_initializer='normal', activation='relu'))\n",
        "model.add(tf.keras.layers.Dense(1, kernel_initializer='normal', activation='sigmoid'))\n",
        "\n",
        "loss_fn = tf.keras.losses.BinaryCrossentropy()\n",
        "optimizer_fn = tf.keras.optimizers.SGD(learning_rate=0.005)\n",
        "\n",
        "model.compile(optimizer=optimizer_fn,\n",
        "              loss=loss_fn,\n",
        "              metrics=['accuracy'],\n",
        ")"
      ],
      "execution_count": 9,
      "outputs": []
    },
    {
      "cell_type": "code",
      "metadata": {
        "colab": {
          "base_uri": "https://localhost:8080/"
        },
        "id": "7fzZuGdpy0RN",
        "outputId": "4dec3483-60bd-406d-b6c6-e60d479821fd"
      },
      "source": [
        "history = model.fit(X, y, epochs = 200, batch_size = 32)"
      ],
      "execution_count": 10,
      "outputs": [
        {
          "output_type": "stream",
          "text": [
            "Epoch 1/200\n",
            "180/180 [==============================] - 6s 15ms/step - loss: 0.6946 - accuracy: 0.4972\n",
            "Epoch 2/200\n",
            "180/180 [==============================] - 3s 15ms/step - loss: 0.6923 - accuracy: 0.5179\n",
            "Epoch 3/200\n",
            "180/180 [==============================] - 3s 15ms/step - loss: 0.6909 - accuracy: 0.5197\n",
            "Epoch 4/200\n",
            "180/180 [==============================] - 3s 15ms/step - loss: 0.6903 - accuracy: 0.5235\n",
            "Epoch 5/200\n",
            "180/180 [==============================] - 3s 15ms/step - loss: 0.6888 - accuracy: 0.5376\n",
            "Epoch 6/200\n",
            "180/180 [==============================] - 3s 15ms/step - loss: 0.6882 - accuracy: 0.5402\n",
            "Epoch 7/200\n",
            "180/180 [==============================] - 3s 15ms/step - loss: 0.6872 - accuracy: 0.5303\n",
            "Epoch 8/200\n",
            "180/180 [==============================] - 3s 15ms/step - loss: 0.6805 - accuracy: 0.5575\n",
            "Epoch 9/200\n",
            "180/180 [==============================] - 3s 15ms/step - loss: 0.6809 - accuracy: 0.5505\n",
            "Epoch 10/200\n",
            "180/180 [==============================] - 3s 15ms/step - loss: 0.6766 - accuracy: 0.5704\n",
            "Epoch 11/200\n",
            "180/180 [==============================] - 3s 15ms/step - loss: 0.6771 - accuracy: 0.5732\n",
            "Epoch 12/200\n",
            "180/180 [==============================] - 3s 15ms/step - loss: 0.6759 - accuracy: 0.5676\n",
            "Epoch 13/200\n",
            "180/180 [==============================] - 3s 15ms/step - loss: 0.6719 - accuracy: 0.5784\n",
            "Epoch 14/200\n",
            "180/180 [==============================] - 3s 15ms/step - loss: 0.6694 - accuracy: 0.5742\n",
            "Epoch 15/200\n",
            "180/180 [==============================] - 3s 15ms/step - loss: 0.6709 - accuracy: 0.5747\n",
            "Epoch 16/200\n",
            "180/180 [==============================] - 3s 15ms/step - loss: 0.6668 - accuracy: 0.5887\n",
            "Epoch 17/200\n",
            "180/180 [==============================] - 3s 15ms/step - loss: 0.6602 - accuracy: 0.5988\n",
            "Epoch 18/200\n",
            "180/180 [==============================] - 3s 15ms/step - loss: 0.6637 - accuracy: 0.5944\n",
            "Epoch 19/200\n",
            "180/180 [==============================] - 3s 15ms/step - loss: 0.6612 - accuracy: 0.5956\n",
            "Epoch 20/200\n",
            "180/180 [==============================] - 3s 15ms/step - loss: 0.6576 - accuracy: 0.6035\n",
            "Epoch 21/200\n",
            "180/180 [==============================] - 3s 15ms/step - loss: 0.6596 - accuracy: 0.5932\n",
            "Epoch 22/200\n",
            "180/180 [==============================] - 3s 15ms/step - loss: 0.6544 - accuracy: 0.6120\n",
            "Epoch 23/200\n",
            "180/180 [==============================] - 3s 15ms/step - loss: 0.6537 - accuracy: 0.6120\n",
            "Epoch 24/200\n",
            "180/180 [==============================] - 3s 15ms/step - loss: 0.6513 - accuracy: 0.6033\n",
            "Epoch 25/200\n",
            "180/180 [==============================] - 3s 15ms/step - loss: 0.6524 - accuracy: 0.6268\n",
            "Epoch 26/200\n",
            "180/180 [==============================] - 3s 15ms/step - loss: 0.6491 - accuracy: 0.6150\n",
            "Epoch 27/200\n",
            "180/180 [==============================] - 3s 15ms/step - loss: 0.6481 - accuracy: 0.6139\n",
            "Epoch 28/200\n",
            "180/180 [==============================] - 3s 15ms/step - loss: 0.6468 - accuracy: 0.6145\n",
            "Epoch 29/200\n",
            "180/180 [==============================] - 3s 15ms/step - loss: 0.6435 - accuracy: 0.6296\n",
            "Epoch 30/200\n",
            "180/180 [==============================] - 3s 15ms/step - loss: 0.6423 - accuracy: 0.6258\n",
            "Epoch 31/200\n",
            "180/180 [==============================] - 3s 15ms/step - loss: 0.6365 - accuracy: 0.6347\n",
            "Epoch 32/200\n",
            "180/180 [==============================] - 3s 15ms/step - loss: 0.6393 - accuracy: 0.6307\n",
            "Epoch 33/200\n",
            "180/180 [==============================] - 3s 15ms/step - loss: 0.6394 - accuracy: 0.6328\n",
            "Epoch 34/200\n",
            "180/180 [==============================] - 3s 15ms/step - loss: 0.6374 - accuracy: 0.6270\n",
            "Epoch 35/200\n",
            "180/180 [==============================] - 3s 15ms/step - loss: 0.6354 - accuracy: 0.6385\n",
            "Epoch 36/200\n",
            "180/180 [==============================] - 3s 15ms/step - loss: 0.6317 - accuracy: 0.6416\n",
            "Epoch 37/200\n",
            "180/180 [==============================] - 3s 15ms/step - loss: 0.6365 - accuracy: 0.6314\n",
            "Epoch 38/200\n",
            "180/180 [==============================] - 3s 15ms/step - loss: 0.6315 - accuracy: 0.6509\n",
            "Epoch 39/200\n",
            "180/180 [==============================] - 3s 15ms/step - loss: 0.6242 - accuracy: 0.6516\n",
            "Epoch 40/200\n",
            "180/180 [==============================] - 3s 15ms/step - loss: 0.6280 - accuracy: 0.6477\n",
            "Epoch 41/200\n",
            "180/180 [==============================] - 3s 15ms/step - loss: 0.6279 - accuracy: 0.6483\n",
            "Epoch 42/200\n",
            "180/180 [==============================] - 3s 15ms/step - loss: 0.6239 - accuracy: 0.6467\n",
            "Epoch 43/200\n",
            "180/180 [==============================] - 3s 15ms/step - loss: 0.6238 - accuracy: 0.6523\n",
            "Epoch 44/200\n",
            "180/180 [==============================] - 3s 15ms/step - loss: 0.6212 - accuracy: 0.6526\n",
            "Epoch 45/200\n",
            "180/180 [==============================] - 3s 15ms/step - loss: 0.6237 - accuracy: 0.6571\n",
            "Epoch 46/200\n",
            "180/180 [==============================] - 3s 15ms/step - loss: 0.6219 - accuracy: 0.6563\n",
            "Epoch 47/200\n",
            "180/180 [==============================] - 3s 15ms/step - loss: 0.6210 - accuracy: 0.6557\n",
            "Epoch 48/200\n",
            "180/180 [==============================] - 3s 15ms/step - loss: 0.6130 - accuracy: 0.6582\n",
            "Epoch 49/200\n",
            "180/180 [==============================] - 3s 15ms/step - loss: 0.6169 - accuracy: 0.6587\n",
            "Epoch 50/200\n",
            "180/180 [==============================] - 3s 15ms/step - loss: 0.6104 - accuracy: 0.6664\n",
            "Epoch 51/200\n",
            "180/180 [==============================] - 3s 15ms/step - loss: 0.6145 - accuracy: 0.6622\n",
            "Epoch 52/200\n",
            "180/180 [==============================] - 3s 15ms/step - loss: 0.6187 - accuracy: 0.6681\n",
            "Epoch 53/200\n",
            "180/180 [==============================] - 3s 15ms/step - loss: 0.6128 - accuracy: 0.6618\n",
            "Epoch 54/200\n",
            "180/180 [==============================] - 3s 15ms/step - loss: 0.6036 - accuracy: 0.6667\n",
            "Epoch 55/200\n",
            "180/180 [==============================] - 3s 15ms/step - loss: 0.6100 - accuracy: 0.6721\n",
            "Epoch 56/200\n",
            "180/180 [==============================] - 3s 15ms/step - loss: 0.6104 - accuracy: 0.6706\n",
            "Epoch 57/200\n",
            "180/180 [==============================] - 3s 15ms/step - loss: 0.6085 - accuracy: 0.6726\n",
            "Epoch 58/200\n",
            "180/180 [==============================] - 3s 15ms/step - loss: 0.6047 - accuracy: 0.6636\n",
            "Epoch 59/200\n",
            "180/180 [==============================] - 3s 15ms/step - loss: 0.6005 - accuracy: 0.6730\n",
            "Epoch 60/200\n",
            "180/180 [==============================] - 3s 15ms/step - loss: 0.6012 - accuracy: 0.6714\n",
            "Epoch 61/200\n",
            "180/180 [==============================] - 3s 15ms/step - loss: 0.6003 - accuracy: 0.6848\n",
            "Epoch 62/200\n",
            "180/180 [==============================] - 3s 15ms/step - loss: 0.6021 - accuracy: 0.6735\n",
            "Epoch 63/200\n",
            "180/180 [==============================] - 3s 15ms/step - loss: 0.5982 - accuracy: 0.6847\n",
            "Epoch 64/200\n",
            "180/180 [==============================] - 3s 15ms/step - loss: 0.5980 - accuracy: 0.6784\n",
            "Epoch 65/200\n",
            "180/180 [==============================] - 3s 15ms/step - loss: 0.5961 - accuracy: 0.6805\n",
            "Epoch 66/200\n",
            "180/180 [==============================] - 3s 15ms/step - loss: 0.5975 - accuracy: 0.6834\n",
            "Epoch 67/200\n",
            "180/180 [==============================] - 3s 15ms/step - loss: 0.5890 - accuracy: 0.6894\n",
            "Epoch 68/200\n",
            "180/180 [==============================] - 3s 15ms/step - loss: 0.5900 - accuracy: 0.6871\n",
            "Epoch 69/200\n",
            "180/180 [==============================] - 3s 15ms/step - loss: 0.5895 - accuracy: 0.6958\n",
            "Epoch 70/200\n",
            "180/180 [==============================] - 3s 15ms/step - loss: 0.5867 - accuracy: 0.6936\n",
            "Epoch 71/200\n",
            "180/180 [==============================] - 3s 15ms/step - loss: 0.5865 - accuracy: 0.6885\n",
            "Epoch 72/200\n",
            "180/180 [==============================] - 3s 15ms/step - loss: 0.5860 - accuracy: 0.6969\n",
            "Epoch 73/200\n",
            "180/180 [==============================] - 3s 15ms/step - loss: 0.5813 - accuracy: 0.6977\n",
            "Epoch 74/200\n",
            "180/180 [==============================] - 3s 15ms/step - loss: 0.5852 - accuracy: 0.6885\n",
            "Epoch 75/200\n",
            "180/180 [==============================] - 3s 15ms/step - loss: 0.5799 - accuracy: 0.6997\n",
            "Epoch 76/200\n",
            "180/180 [==============================] - 3s 15ms/step - loss: 0.5847 - accuracy: 0.6920\n",
            "Epoch 77/200\n",
            "180/180 [==============================] - 3s 15ms/step - loss: 0.5740 - accuracy: 0.6995\n",
            "Epoch 78/200\n",
            "180/180 [==============================] - 3s 15ms/step - loss: 0.5789 - accuracy: 0.6941\n",
            "Epoch 79/200\n",
            "180/180 [==============================] - 3s 15ms/step - loss: 0.5677 - accuracy: 0.7085\n",
            "Epoch 80/200\n",
            "180/180 [==============================] - 3s 15ms/step - loss: 0.5743 - accuracy: 0.7071\n",
            "Epoch 81/200\n",
            "180/180 [==============================] - 3s 15ms/step - loss: 0.5692 - accuracy: 0.7044\n",
            "Epoch 82/200\n",
            "180/180 [==============================] - 3s 15ms/step - loss: 0.5724 - accuracy: 0.7063\n",
            "Epoch 83/200\n",
            "180/180 [==============================] - 3s 15ms/step - loss: 0.5773 - accuracy: 0.7009\n",
            "Epoch 84/200\n",
            "180/180 [==============================] - 3s 15ms/step - loss: 0.5672 - accuracy: 0.7101\n",
            "Epoch 85/200\n",
            "180/180 [==============================] - 3s 15ms/step - loss: 0.5684 - accuracy: 0.7082\n",
            "Epoch 86/200\n",
            "180/180 [==============================] - 3s 15ms/step - loss: 0.5635 - accuracy: 0.7139\n",
            "Epoch 87/200\n",
            "180/180 [==============================] - 3s 15ms/step - loss: 0.5627 - accuracy: 0.7054\n",
            "Epoch 88/200\n",
            "180/180 [==============================] - 3s 15ms/step - loss: 0.5588 - accuracy: 0.7179\n",
            "Epoch 89/200\n",
            "180/180 [==============================] - 3s 15ms/step - loss: 0.5604 - accuracy: 0.7064\n",
            "Epoch 90/200\n",
            "180/180 [==============================] - 3s 15ms/step - loss: 0.5571 - accuracy: 0.7117\n",
            "Epoch 91/200\n",
            "180/180 [==============================] - 3s 15ms/step - loss: 0.5589 - accuracy: 0.7171\n",
            "Epoch 92/200\n",
            "180/180 [==============================] - 3s 15ms/step - loss: 0.5510 - accuracy: 0.7225\n",
            "Epoch 93/200\n",
            "180/180 [==============================] - 3s 15ms/step - loss: 0.5606 - accuracy: 0.7108\n",
            "Epoch 94/200\n",
            "180/180 [==============================] - 3s 15ms/step - loss: 0.5529 - accuracy: 0.7157\n",
            "Epoch 95/200\n",
            "180/180 [==============================] - 3s 15ms/step - loss: 0.5532 - accuracy: 0.7146\n",
            "Epoch 96/200\n",
            "180/180 [==============================] - 3s 15ms/step - loss: 0.5540 - accuracy: 0.7223\n",
            "Epoch 97/200\n",
            "180/180 [==============================] - 3s 15ms/step - loss: 0.5497 - accuracy: 0.7277\n",
            "Epoch 98/200\n",
            "180/180 [==============================] - 3s 15ms/step - loss: 0.5493 - accuracy: 0.7284\n",
            "Epoch 99/200\n",
            "180/180 [==============================] - 3s 15ms/step - loss: 0.5479 - accuracy: 0.7244\n",
            "Epoch 100/200\n",
            "180/180 [==============================] - 3s 15ms/step - loss: 0.5412 - accuracy: 0.7277\n",
            "Epoch 101/200\n",
            "180/180 [==============================] - 3s 15ms/step - loss: 0.5367 - accuracy: 0.7362\n",
            "Epoch 102/200\n",
            "180/180 [==============================] - 3s 15ms/step - loss: 0.5376 - accuracy: 0.7303\n",
            "Epoch 103/200\n",
            "180/180 [==============================] - 3s 15ms/step - loss: 0.5395 - accuracy: 0.7303\n",
            "Epoch 104/200\n",
            "180/180 [==============================] - 3s 15ms/step - loss: 0.5476 - accuracy: 0.7213\n",
            "Epoch 105/200\n",
            "180/180 [==============================] - 3s 15ms/step - loss: 0.5336 - accuracy: 0.7326\n",
            "Epoch 106/200\n",
            "180/180 [==============================] - 3s 15ms/step - loss: 0.5354 - accuracy: 0.7341\n",
            "Epoch 107/200\n",
            "180/180 [==============================] - 3s 15ms/step - loss: 0.5424 - accuracy: 0.7406\n",
            "Epoch 108/200\n",
            "180/180 [==============================] - 3s 15ms/step - loss: 0.5401 - accuracy: 0.7326\n",
            "Epoch 109/200\n",
            "180/180 [==============================] - 3s 15ms/step - loss: 0.5257 - accuracy: 0.7432\n",
            "Epoch 110/200\n",
            "180/180 [==============================] - 3s 15ms/step - loss: 0.5280 - accuracy: 0.7347\n",
            "Epoch 111/200\n",
            "180/180 [==============================] - 3s 15ms/step - loss: 0.5262 - accuracy: 0.7443\n",
            "Epoch 112/200\n",
            "180/180 [==============================] - 3s 15ms/step - loss: 0.5259 - accuracy: 0.7462\n",
            "Epoch 113/200\n",
            "180/180 [==============================] - 3s 15ms/step - loss: 0.5284 - accuracy: 0.7359\n",
            "Epoch 114/200\n",
            "180/180 [==============================] - 3s 15ms/step - loss: 0.5272 - accuracy: 0.7469\n",
            "Epoch 115/200\n",
            "180/180 [==============================] - 3s 15ms/step - loss: 0.5243 - accuracy: 0.7395\n",
            "Epoch 116/200\n",
            "180/180 [==============================] - 3s 15ms/step - loss: 0.5251 - accuracy: 0.7415\n",
            "Epoch 117/200\n",
            "180/180 [==============================] - 3s 15ms/step - loss: 0.5143 - accuracy: 0.7444\n",
            "Epoch 118/200\n",
            "180/180 [==============================] - 3s 15ms/step - loss: 0.5131 - accuracy: 0.7498\n",
            "Epoch 119/200\n",
            "180/180 [==============================] - 3s 15ms/step - loss: 0.5154 - accuracy: 0.7467\n",
            "Epoch 120/200\n",
            "180/180 [==============================] - 3s 15ms/step - loss: 0.5078 - accuracy: 0.7486\n",
            "Epoch 121/200\n",
            "180/180 [==============================] - 3s 15ms/step - loss: 0.5121 - accuracy: 0.7491\n",
            "Epoch 122/200\n",
            "180/180 [==============================] - 3s 15ms/step - loss: 0.5058 - accuracy: 0.7568\n",
            "Epoch 123/200\n",
            "180/180 [==============================] - 3s 15ms/step - loss: 0.5061 - accuracy: 0.7542\n",
            "Epoch 124/200\n",
            "180/180 [==============================] - 3s 15ms/step - loss: 0.5176 - accuracy: 0.7455\n",
            "Epoch 125/200\n",
            "180/180 [==============================] - 3s 15ms/step - loss: 0.5025 - accuracy: 0.7524\n",
            "Epoch 126/200\n",
            "180/180 [==============================] - 3s 15ms/step - loss: 0.5070 - accuracy: 0.7505\n",
            "Epoch 127/200\n",
            "180/180 [==============================] - 3s 15ms/step - loss: 0.4953 - accuracy: 0.7585\n",
            "Epoch 128/200\n",
            "180/180 [==============================] - 3s 15ms/step - loss: 0.5027 - accuracy: 0.7610\n",
            "Epoch 129/200\n",
            "180/180 [==============================] - 3s 15ms/step - loss: 0.5072 - accuracy: 0.7517\n",
            "Epoch 130/200\n",
            "180/180 [==============================] - 3s 15ms/step - loss: 0.4930 - accuracy: 0.7627\n",
            "Epoch 131/200\n",
            "180/180 [==============================] - 3s 15ms/step - loss: 0.4923 - accuracy: 0.7611\n",
            "Epoch 132/200\n",
            "180/180 [==============================] - 3s 15ms/step - loss: 0.4939 - accuracy: 0.7660\n",
            "Epoch 133/200\n",
            "180/180 [==============================] - 3s 15ms/step - loss: 0.4879 - accuracy: 0.7667\n",
            "Epoch 134/200\n",
            "180/180 [==============================] - 3s 15ms/step - loss: 0.4890 - accuracy: 0.7662\n",
            "Epoch 135/200\n",
            "180/180 [==============================] - 3s 15ms/step - loss: 0.4840 - accuracy: 0.7685\n",
            "Epoch 136/200\n",
            "180/180 [==============================] - 3s 15ms/step - loss: 0.4842 - accuracy: 0.7603\n",
            "Epoch 137/200\n",
            "180/180 [==============================] - 3s 15ms/step - loss: 0.4842 - accuracy: 0.7713\n",
            "Epoch 138/200\n",
            "180/180 [==============================] - 3s 15ms/step - loss: 0.4882 - accuracy: 0.7613\n",
            "Epoch 139/200\n",
            "180/180 [==============================] - 3s 16ms/step - loss: 0.4759 - accuracy: 0.7733\n",
            "Epoch 140/200\n",
            "180/180 [==============================] - 3s 15ms/step - loss: 0.4815 - accuracy: 0.7716\n",
            "Epoch 141/200\n",
            "180/180 [==============================] - 3s 16ms/step - loss: 0.4826 - accuracy: 0.7699\n",
            "Epoch 142/200\n",
            "180/180 [==============================] - 3s 15ms/step - loss: 0.4808 - accuracy: 0.7749\n",
            "Epoch 143/200\n",
            "180/180 [==============================] - 3s 15ms/step - loss: 0.4747 - accuracy: 0.7765\n",
            "Epoch 144/200\n",
            "180/180 [==============================] - 3s 15ms/step - loss: 0.4705 - accuracy: 0.7794\n",
            "Epoch 145/200\n",
            "180/180 [==============================] - 3s 15ms/step - loss: 0.4649 - accuracy: 0.7819\n",
            "Epoch 146/200\n",
            "180/180 [==============================] - 3s 15ms/step - loss: 0.4604 - accuracy: 0.7894\n",
            "Epoch 147/200\n",
            "180/180 [==============================] - 3s 15ms/step - loss: 0.4590 - accuracy: 0.7838\n",
            "Epoch 148/200\n",
            "180/180 [==============================] - 3s 15ms/step - loss: 0.4740 - accuracy: 0.7784\n",
            "Epoch 149/200\n",
            "180/180 [==============================] - 3s 15ms/step - loss: 0.4509 - accuracy: 0.7841\n",
            "Epoch 150/200\n",
            "180/180 [==============================] - 3s 15ms/step - loss: 0.4598 - accuracy: 0.7834\n",
            "Epoch 151/200\n",
            "180/180 [==============================] - 3s 15ms/step - loss: 0.4552 - accuracy: 0.7848\n",
            "Epoch 152/200\n",
            "180/180 [==============================] - 3s 15ms/step - loss: 0.4549 - accuracy: 0.7882\n",
            "Epoch 153/200\n",
            "180/180 [==============================] - 3s 15ms/step - loss: 0.4476 - accuracy: 0.7911\n",
            "Epoch 154/200\n",
            "180/180 [==============================] - 3s 15ms/step - loss: 0.4432 - accuracy: 0.7948\n",
            "Epoch 155/200\n",
            "180/180 [==============================] - 3s 15ms/step - loss: 0.4525 - accuracy: 0.7864\n",
            "Epoch 156/200\n",
            "180/180 [==============================] - 3s 15ms/step - loss: 0.4403 - accuracy: 0.7930\n",
            "Epoch 157/200\n",
            "180/180 [==============================] - 3s 15ms/step - loss: 0.4349 - accuracy: 0.7955\n",
            "Epoch 158/200\n",
            "180/180 [==============================] - 3s 15ms/step - loss: 0.4431 - accuracy: 0.7955\n",
            "Epoch 159/200\n",
            "180/180 [==============================] - 3s 15ms/step - loss: 0.4359 - accuracy: 0.7965\n",
            "Epoch 160/200\n",
            "180/180 [==============================] - 3s 15ms/step - loss: 0.4314 - accuracy: 0.8024\n",
            "Epoch 161/200\n",
            "180/180 [==============================] - 3s 15ms/step - loss: 0.4375 - accuracy: 0.7916\n",
            "Epoch 162/200\n",
            "180/180 [==============================] - 3s 15ms/step - loss: 0.4334 - accuracy: 0.7908\n",
            "Epoch 163/200\n",
            "180/180 [==============================] - 3s 16ms/step - loss: 0.4326 - accuracy: 0.7979\n",
            "Epoch 164/200\n",
            "180/180 [==============================] - 3s 15ms/step - loss: 0.4292 - accuracy: 0.7984\n",
            "Epoch 165/200\n",
            "180/180 [==============================] - 3s 16ms/step - loss: 0.4210 - accuracy: 0.8054\n",
            "Epoch 166/200\n",
            "180/180 [==============================] - 3s 15ms/step - loss: 0.4279 - accuracy: 0.8044\n",
            "Epoch 167/200\n",
            "180/180 [==============================] - 3s 15ms/step - loss: 0.4162 - accuracy: 0.8105\n",
            "Epoch 168/200\n",
            "180/180 [==============================] - 3s 15ms/step - loss: 0.4179 - accuracy: 0.8117\n",
            "Epoch 169/200\n",
            "180/180 [==============================] - 3s 15ms/step - loss: 0.4117 - accuracy: 0.8091\n",
            "Epoch 170/200\n",
            "180/180 [==============================] - 3s 15ms/step - loss: 0.4078 - accuracy: 0.8073\n",
            "Epoch 171/200\n",
            "180/180 [==============================] - 3s 15ms/step - loss: 0.4094 - accuracy: 0.8103\n",
            "Epoch 172/200\n",
            "180/180 [==============================] - 3s 15ms/step - loss: 0.4079 - accuracy: 0.8160\n",
            "Epoch 173/200\n",
            "180/180 [==============================] - 3s 15ms/step - loss: 0.4117 - accuracy: 0.8084\n",
            "Epoch 174/200\n",
            "180/180 [==============================] - 3s 15ms/step - loss: 0.4032 - accuracy: 0.8199\n",
            "Epoch 175/200\n",
            "180/180 [==============================] - 3s 15ms/step - loss: 0.3991 - accuracy: 0.8195\n",
            "Epoch 176/200\n",
            "180/180 [==============================] - 3s 15ms/step - loss: 0.3980 - accuracy: 0.8155\n",
            "Epoch 177/200\n",
            "180/180 [==============================] - 3s 15ms/step - loss: 0.3861 - accuracy: 0.8268\n",
            "Epoch 178/200\n",
            "180/180 [==============================] - 3s 15ms/step - loss: 0.3968 - accuracy: 0.8164\n",
            "Epoch 179/200\n",
            "180/180 [==============================] - 3s 15ms/step - loss: 0.3856 - accuracy: 0.8223\n",
            "Epoch 180/200\n",
            "180/180 [==============================] - 3s 15ms/step - loss: 0.3927 - accuracy: 0.8190\n",
            "Epoch 181/200\n",
            "180/180 [==============================] - 3s 15ms/step - loss: 0.3884 - accuracy: 0.8237\n",
            "Epoch 182/200\n",
            "180/180 [==============================] - 3s 15ms/step - loss: 0.3874 - accuracy: 0.8204\n",
            "Epoch 183/200\n",
            "180/180 [==============================] - 3s 15ms/step - loss: 0.3871 - accuracy: 0.8237\n",
            "Epoch 184/200\n",
            "180/180 [==============================] - 3s 15ms/step - loss: 0.3743 - accuracy: 0.8300\n",
            "Epoch 185/200\n",
            "180/180 [==============================] - 3s 16ms/step - loss: 0.3711 - accuracy: 0.8312\n",
            "Epoch 186/200\n",
            "180/180 [==============================] - 3s 16ms/step - loss: 0.3729 - accuracy: 0.8315\n",
            "Epoch 187/200\n",
            "180/180 [==============================] - 3s 15ms/step - loss: 0.3718 - accuracy: 0.8307\n",
            "Epoch 188/200\n",
            "180/180 [==============================] - 3s 15ms/step - loss: 0.3751 - accuracy: 0.8314\n",
            "Epoch 189/200\n",
            "180/180 [==============================] - 3s 15ms/step - loss: 0.3696 - accuracy: 0.8326\n",
            "Epoch 190/200\n",
            "180/180 [==============================] - 3s 15ms/step - loss: 0.3728 - accuracy: 0.8268\n",
            "Epoch 191/200\n",
            "180/180 [==============================] - 3s 15ms/step - loss: 0.3541 - accuracy: 0.8382\n",
            "Epoch 192/200\n",
            "180/180 [==============================] - 3s 15ms/step - loss: 0.3645 - accuracy: 0.8364\n",
            "Epoch 193/200\n",
            "180/180 [==============================] - 3s 16ms/step - loss: 0.3609 - accuracy: 0.8343\n",
            "Epoch 194/200\n",
            "180/180 [==============================] - 3s 15ms/step - loss: 0.3626 - accuracy: 0.8357\n",
            "Epoch 195/200\n",
            "180/180 [==============================] - 3s 15ms/step - loss: 0.3517 - accuracy: 0.8382\n",
            "Epoch 196/200\n",
            "180/180 [==============================] - 3s 15ms/step - loss: 0.3608 - accuracy: 0.8382\n",
            "Epoch 197/200\n",
            "180/180 [==============================] - 3s 15ms/step - loss: 0.3505 - accuracy: 0.8446\n",
            "Epoch 198/200\n",
            "180/180 [==============================] - 3s 15ms/step - loss: 0.3462 - accuracy: 0.8465\n",
            "Epoch 199/200\n",
            "180/180 [==============================] - 3s 16ms/step - loss: 0.3342 - accuracy: 0.8477\n",
            "Epoch 200/200\n",
            "180/180 [==============================] - 3s 15ms/step - loss: 0.3468 - accuracy: 0.8425\n"
          ],
          "name": "stdout"
        }
      ]
    },
    {
      "cell_type": "markdown",
      "metadata": {
        "id": "Moi23rvO1e6V"
      },
      "source": [
        "## Save Model to Disk"
      ]
    },
    {
      "cell_type": "code",
      "metadata": {
        "colab": {
          "base_uri": "https://localhost:8080/"
        },
        "id": "YzjA_P67zOzF",
        "outputId": "eb2286d1-3400-48e1-9663-1e4806e25776"
      },
      "source": [
        "model.save('./nn_model')"
      ],
      "execution_count": 12,
      "outputs": [
        {
          "output_type": "stream",
          "text": [
            "INFO:tensorflow:Assets written to: ./nn_model/assets\n"
          ],
          "name": "stdout"
        }
      ]
    },
    {
      "cell_type": "markdown",
      "metadata": {
        "id": "ydtiDXA12htl"
      },
      "source": [
        "## Load Model from Disk"
      ]
    },
    {
      "cell_type": "code",
      "metadata": {
        "id": "xe28hP0d2Sal"
      },
      "source": [
        "model1 = tf.keras.models.load_model('./nn_model')"
      ],
      "execution_count": 14,
      "outputs": []
    },
    {
      "cell_type": "markdown",
      "metadata": {
        "id": "CinHtYU23BUM"
      },
      "source": [
        "## Load Training Data from Disk"
      ]
    },
    {
      "cell_type": "code",
      "metadata": {
        "id": "YmDnSg7-2s-1"
      },
      "source": [
        "X_test = pickle.load(open(\"/content/drive/MyDrive/Colab Notebooks/X_test.sav\", \"rb\"))"
      ],
      "execution_count": 16,
      "outputs": []
    },
    {
      "cell_type": "code",
      "metadata": {
        "id": "BciaEQHI5Bb4"
      },
      "source": [
        "X_test = StandardScaler().fit_transform(X_test)"
      ],
      "execution_count": 18,
      "outputs": []
    },
    {
      "cell_type": "code",
      "metadata": {
        "colab": {
          "base_uri": "https://localhost:8080/"
        },
        "id": "8m3TuPxU5G-0",
        "outputId": "697083d0-48c9-4e00-ae6a-b05ed373d860"
      },
      "source": [
        "y_pred = model.predict(X_test)\n",
        "print(y_pred) "
      ],
      "execution_count": 24,
      "outputs": [
        {
          "output_type": "stream",
          "text": [
            "[[0.0863409 ]\n",
            " [0.12175   ]\n",
            " [0.13569932]\n",
            " ...\n",
            " [0.16165873]\n",
            " [0.8414782 ]\n",
            " [0.77845   ]]\n"
          ],
          "name": "stdout"
        }
      ]
    },
    {
      "cell_type": "code",
      "metadata": {
        "id": "Fn1BPaST6CiY"
      },
      "source": [
        "y_pred = (y_pred > 0.5).astype('int64')\n",
        "y_pred = y_pred.reshape(len(y_pred)) "
      ],
      "execution_count": 25,
      "outputs": []
    },
    {
      "cell_type": "code",
      "metadata": {
        "colab": {
          "base_uri": "https://localhost:8080/"
        },
        "id": "-Kk48jlG5T6C",
        "outputId": "725fef24-3568-43bd-c2d5-ed7f37ee9537"
      },
      "source": [
        "print(y_pred)"
      ],
      "execution_count": 26,
      "outputs": [
        {
          "output_type": "stream",
          "text": [
            "[0 0 0 ... 0 1 1]\n"
          ],
          "name": "stdout"
        }
      ]
    },
    {
      "cell_type": "code",
      "metadata": {
        "colab": {
          "base_uri": "https://localhost:8080/"
        },
        "id": "rq6T1Ps_71EH",
        "outputId": "292504a9-76d4-42af-eb6e-19bcef5b624f"
      },
      "source": [
        "len(y_pred)"
      ],
      "execution_count": 29,
      "outputs": [
        {
          "output_type": "execute_result",
          "data": {
            "text/plain": [
              "1348"
            ]
          },
          "metadata": {},
          "execution_count": 29
        }
      ]
    },
    {
      "cell_type": "code",
      "metadata": {
        "id": "OysgCpf65Xbe"
      },
      "source": [
        "y_test = []\n",
        "\n",
        "for i in range(len(y_pred)):\n",
        "  if y_pred[i] == 0:\n",
        "    y_test.append('NONE')\n",
        "  else:\n",
        "    y_test.append('HOF')"
      ],
      "execution_count": 30,
      "outputs": []
    },
    {
      "cell_type": "code",
      "metadata": {
        "colab": {
          "base_uri": "https://localhost:8080/"
        },
        "id": "hWu63Z_r7jyp",
        "outputId": "ce9888c7-decb-43e1-f0c3-6f9dac6257bb"
      },
      "source": [
        "print(y_test)"
      ],
      "execution_count": 31,
      "outputs": [
        {
          "output_type": "stream",
          "text": [
            "['NONE', 'NONE', 'NONE', 'NONE', 'NONE', 'NONE', 'NONE', 'NONE', 'HOF', 'NONE', 'HOF', 'NONE', 'HOF', 'NONE', 'NONE', 'NONE', 'NONE', 'NONE', 'NONE', 'NONE', 'NONE', 'NONE', 'NONE', 'NONE', 'NONE', 'HOF', 'NONE', 'HOF', 'NONE', 'NONE', 'NONE', 'HOF', 'NONE', 'HOF', 'NONE', 'HOF', 'NONE', 'NONE', 'NONE', 'HOF', 'NONE', 'NONE', 'NONE', 'NONE', 'NONE', 'HOF', 'NONE', 'NONE', 'HOF', 'NONE', 'NONE', 'NONE', 'NONE', 'NONE', 'NONE', 'NONE', 'NONE', 'NONE', 'NONE', 'NONE', 'HOF', 'NONE', 'NONE', 'NONE', 'NONE', 'HOF', 'NONE', 'NONE', 'NONE', 'NONE', 'NONE', 'NONE', 'NONE', 'NONE', 'NONE', 'NONE', 'NONE', 'NONE', 'HOF', 'NONE', 'NONE', 'NONE', 'HOF', 'NONE', 'NONE', 'HOF', 'NONE', 'NONE', 'NONE', 'NONE', 'NONE', 'NONE', 'NONE', 'NONE', 'NONE', 'NONE', 'HOF', 'NONE', 'NONE', 'NONE', 'NONE', 'NONE', 'NONE', 'HOF', 'NONE', 'NONE', 'HOF', 'HOF', 'HOF', 'NONE', 'NONE', 'HOF', 'HOF', 'NONE', 'HOF', 'NONE', 'NONE', 'HOF', 'NONE', 'HOF', 'NONE', 'NONE', 'NONE', 'NONE', 'NONE', 'HOF', 'NONE', 'HOF', 'HOF', 'HOF', 'HOF', 'HOF', 'HOF', 'HOF', 'HOF', 'HOF', 'HOF', 'NONE', 'HOF', 'HOF', 'HOF', 'NONE', 'HOF', 'HOF', 'HOF', 'HOF', 'HOF', 'HOF', 'HOF', 'HOF', 'HOF', 'HOF', 'NONE', 'NONE', 'HOF', 'NONE', 'NONE', 'NONE', 'NONE', 'NONE', 'NONE', 'HOF', 'HOF', 'NONE', 'HOF', 'NONE', 'NONE', 'NONE', 'HOF', 'NONE', 'NONE', 'NONE', 'HOF', 'NONE', 'HOF', 'HOF', 'NONE', 'HOF', 'NONE', 'HOF', 'HOF', 'HOF', 'HOF', 'HOF', 'HOF', 'HOF', 'HOF', 'HOF', 'HOF', 'NONE', 'NONE', 'HOF', 'HOF', 'NONE', 'NONE', 'NONE', 'NONE', 'NONE', 'HOF', 'HOF', 'HOF', 'NONE', 'NONE', 'NONE', 'HOF', 'NONE', 'HOF', 'HOF', 'HOF', 'HOF', 'HOF', 'HOF', 'HOF', 'HOF', 'HOF', 'HOF', 'HOF', 'HOF', 'HOF', 'HOF', 'HOF', 'NONE', 'HOF', 'HOF', 'NONE', 'NONE', 'NONE', 'NONE', 'NONE', 'NONE', 'NONE', 'NONE', 'NONE', 'HOF', 'NONE', 'NONE', 'HOF', 'NONE', 'NONE', 'NONE', 'NONE', 'NONE', 'NONE', 'HOF', 'NONE', 'HOF', 'NONE', 'HOF', 'HOF', 'HOF', 'HOF', 'NONE', 'NONE', 'HOF', 'NONE', 'HOF', 'NONE', 'HOF', 'HOF', 'HOF', 'HOF', 'HOF', 'HOF', 'HOF', 'HOF', 'HOF', 'HOF', 'HOF', 'HOF', 'HOF', 'HOF', 'NONE', 'HOF', 'HOF', 'HOF', 'NONE', 'HOF', 'HOF', 'HOF', 'HOF', 'HOF', 'HOF', 'HOF', 'HOF', 'HOF', 'HOF', 'HOF', 'HOF', 'NONE', 'HOF', 'HOF', 'HOF', 'HOF', 'HOF', 'HOF', 'HOF', 'HOF', 'HOF', 'NONE', 'NONE', 'HOF', 'HOF', 'HOF', 'HOF', 'HOF', 'HOF', 'HOF', 'HOF', 'HOF', 'HOF', 'HOF', 'HOF', 'HOF', 'HOF', 'HOF', 'HOF', 'HOF', 'HOF', 'HOF', 'HOF', 'HOF', 'HOF', 'HOF', 'NONE', 'HOF', 'HOF', 'HOF', 'HOF', 'HOF', 'HOF', 'HOF', 'HOF', 'HOF', 'HOF', 'NONE', 'HOF', 'NONE', 'HOF', 'HOF', 'HOF', 'HOF', 'NONE', 'HOF', 'HOF', 'HOF', 'HOF', 'HOF', 'NONE', 'HOF', 'HOF', 'HOF', 'HOF', 'HOF', 'NONE', 'HOF', 'HOF', 'HOF', 'HOF', 'HOF', 'HOF', 'HOF', 'HOF', 'HOF', 'NONE', 'HOF', 'HOF', 'HOF', 'HOF', 'NONE', 'HOF', 'HOF', 'HOF', 'HOF', 'HOF', 'HOF', 'HOF', 'HOF', 'HOF', 'HOF', 'HOF', 'HOF', 'HOF', 'HOF', 'HOF', 'HOF', 'HOF', 'HOF', 'HOF', 'HOF', 'HOF', 'HOF', 'HOF', 'HOF', 'NONE', 'HOF', 'NONE', 'HOF', 'HOF', 'HOF', 'HOF', 'NONE', 'HOF', 'HOF', 'NONE', 'HOF', 'NONE', 'NONE', 'NONE', 'HOF', 'HOF', 'HOF', 'HOF', 'HOF', 'HOF', 'HOF', 'HOF', 'HOF', 'HOF', 'HOF', 'HOF', 'HOF', 'HOF', 'HOF', 'HOF', 'HOF', 'HOF', 'HOF', 'HOF', 'HOF', 'HOF', 'HOF', 'HOF', 'HOF', 'HOF', 'HOF', 'HOF', 'HOF', 'HOF', 'HOF', 'HOF', 'NONE', 'NONE', 'HOF', 'HOF', 'HOF', 'HOF', 'HOF', 'HOF', 'HOF', 'HOF', 'NONE', 'HOF', 'NONE', 'HOF', 'HOF', 'HOF', 'NONE', 'HOF', 'HOF', 'HOF', 'HOF', 'HOF', 'HOF', 'HOF', 'HOF', 'HOF', 'HOF', 'HOF', 'HOF', 'HOF', 'HOF', 'HOF', 'HOF', 'NONE', 'HOF', 'HOF', 'NONE', 'NONE', 'HOF', 'NONE', 'HOF', 'HOF', 'HOF', 'HOF', 'NONE', 'NONE', 'NONE', 'NONE', 'NONE', 'HOF', 'HOF', 'HOF', 'NONE', 'NONE', 'NONE', 'NONE', 'NONE', 'HOF', 'NONE', 'HOF', 'HOF', 'HOF', 'HOF', 'HOF', 'NONE', 'NONE', 'HOF', 'HOF', 'HOF', 'NONE', 'NONE', 'NONE', 'HOF', 'HOF', 'HOF', 'HOF', 'HOF', 'HOF', 'HOF', 'HOF', 'HOF', 'HOF', 'NONE', 'HOF', 'HOF', 'HOF', 'HOF', 'HOF', 'HOF', 'HOF', 'HOF', 'HOF', 'HOF', 'HOF', 'HOF', 'HOF', 'HOF', 'HOF', 'HOF', 'HOF', 'HOF', 'HOF', 'HOF', 'HOF', 'HOF', 'HOF', 'HOF', 'HOF', 'HOF', 'HOF', 'NONE', 'HOF', 'NONE', 'HOF', 'HOF', 'HOF', 'NONE', 'HOF', 'HOF', 'HOF', 'NONE', 'HOF', 'HOF', 'NONE', 'HOF', 'HOF', 'HOF', 'HOF', 'HOF', 'HOF', 'NONE', 'NONE', 'HOF', 'HOF', 'HOF', 'HOF', 'HOF', 'HOF', 'HOF', 'HOF', 'HOF', 'HOF', 'HOF', 'HOF', 'HOF', 'HOF', 'NONE', 'HOF', 'NONE', 'HOF', 'HOF', 'HOF', 'HOF', 'HOF', 'HOF', 'HOF', 'HOF', 'HOF', 'HOF', 'HOF', 'HOF', 'HOF', 'HOF', 'HOF', 'HOF', 'HOF', 'HOF', 'HOF', 'HOF', 'HOF', 'HOF', 'HOF', 'HOF', 'HOF', 'HOF', 'HOF', 'HOF', 'HOF', 'HOF', 'HOF', 'HOF', 'HOF', 'NONE', 'HOF', 'NONE', 'HOF', 'NONE', 'NONE', 'NONE', 'NONE', 'NONE', 'NONE', 'NONE', 'NONE', 'NONE', 'HOF', 'NONE', 'NONE', 'NONE', 'HOF', 'NONE', 'HOF', 'HOF', 'HOF', 'NONE', 'NONE', 'NONE', 'HOF', 'NONE', 'NONE', 'NONE', 'NONE', 'NONE', 'HOF', 'NONE', 'NONE', 'NONE', 'NONE', 'NONE', 'HOF', 'NONE', 'NONE', 'HOF', 'NONE', 'NONE', 'HOF', 'NONE', 'NONE', 'NONE', 'NONE', 'HOF', 'NONE', 'NONE', 'NONE', 'NONE', 'NONE', 'NONE', 'NONE', 'NONE', 'HOF', 'NONE', 'NONE', 'NONE', 'HOF', 'NONE', 'NONE', 'NONE', 'HOF', 'NONE', 'NONE', 'NONE', 'NONE', 'NONE', 'HOF', 'NONE', 'NONE', 'NONE', 'NONE', 'HOF', 'HOF', 'NONE', 'NONE', 'NONE', 'NONE', 'NONE', 'NONE', 'HOF', 'HOF', 'NONE', 'HOF', 'HOF', 'NONE', 'NONE', 'NONE', 'NONE', 'NONE', 'HOF', 'HOF', 'NONE', 'NONE', 'HOF', 'NONE', 'NONE', 'NONE', 'NONE', 'NONE', 'NONE', 'NONE', 'NONE', 'HOF', 'NONE', 'NONE', 'NONE', 'HOF', 'NONE', 'NONE', 'NONE', 'NONE', 'NONE', 'NONE', 'NONE', 'NONE', 'HOF', 'NONE', 'HOF', 'NONE', 'NONE', 'NONE', 'NONE', 'HOF', 'NONE', 'NONE', 'HOF', 'NONE', 'NONE', 'NONE', 'NONE', 'HOF', 'NONE', 'HOF', 'NONE', 'NONE', 'HOF', 'HOF', 'HOF', 'HOF', 'NONE', 'HOF', 'NONE', 'NONE', 'NONE', 'HOF', 'NONE', 'NONE', 'NONE', 'NONE', 'NONE', 'HOF', 'NONE', 'NONE', 'NONE', 'HOF', 'NONE', 'NONE', 'NONE', 'HOF', 'HOF', 'HOF', 'NONE', 'HOF', 'NONE', 'NONE', 'NONE', 'NONE', 'NONE', 'NONE', 'NONE', 'NONE', 'NONE', 'NONE', 'HOF', 'NONE', 'NONE', 'NONE', 'HOF', 'HOF', 'HOF', 'NONE', 'NONE', 'NONE', 'NONE', 'NONE', 'NONE', 'HOF', 'HOF', 'NONE', 'NONE', 'NONE', 'HOF', 'HOF', 'NONE', 'HOF', 'NONE', 'NONE', 'NONE', 'NONE', 'HOF', 'NONE', 'HOF', 'NONE', 'HOF', 'HOF', 'NONE', 'NONE', 'NONE', 'NONE', 'NONE', 'NONE', 'NONE', 'NONE', 'NONE', 'NONE', 'HOF', 'NONE', 'NONE', 'NONE', 'NONE', 'HOF', 'HOF', 'NONE', 'NONE', 'NONE', 'HOF', 'NONE', 'NONE', 'NONE', 'HOF', 'NONE', 'NONE', 'NONE', 'NONE', 'NONE', 'NONE', 'NONE', 'NONE', 'NONE', 'HOF', 'NONE', 'HOF', 'HOF', 'NONE', 'NONE', 'HOF', 'NONE', 'NONE', 'NONE', 'NONE', 'NONE', 'HOF', 'HOF', 'NONE', 'HOF', 'HOF', 'NONE', 'NONE', 'NONE', 'HOF', 'NONE', 'NONE', 'NONE', 'NONE', 'NONE', 'NONE', 'NONE', 'NONE', 'NONE', 'NONE', 'HOF', 'NONE', 'NONE', 'NONE', 'NONE', 'NONE', 'NONE', 'NONE', 'NONE', 'NONE', 'NONE', 'NONE', 'NONE', 'HOF', 'HOF', 'NONE', 'HOF', 'NONE', 'NONE', 'NONE', 'NONE', 'NONE', 'NONE', 'HOF', 'HOF', 'NONE', 'NONE', 'HOF', 'NONE', 'NONE', 'NONE', 'NONE', 'NONE', 'NONE', 'NONE', 'NONE', 'NONE', 'NONE', 'NONE', 'NONE', 'NONE', 'HOF', 'HOF', 'NONE', 'HOF', 'NONE', 'NONE', 'HOF', 'HOF', 'NONE', 'HOF', 'HOF', 'NONE', 'NONE', 'NONE', 'NONE', 'NONE', 'NONE', 'NONE', 'NONE', 'NONE', 'NONE', 'NONE', 'HOF', 'NONE', 'HOF', 'NONE', 'NONE', 'HOF', 'HOF', 'NONE', 'NONE', 'NONE', 'HOF', 'NONE', 'NONE', 'HOF', 'HOF', 'HOF', 'NONE', 'NONE', 'NONE', 'HOF', 'HOF', 'HOF', 'NONE', 'NONE', 'NONE', 'NONE', 'NONE', 'HOF', 'NONE', 'NONE', 'NONE', 'NONE', 'HOF', 'HOF', 'HOF', 'HOF', 'NONE', 'NONE', 'NONE', 'NONE', 'NONE', 'HOF', 'NONE', 'NONE', 'NONE', 'NONE', 'NONE', 'NONE', 'NONE', 'NONE', 'NONE', 'HOF', 'NONE', 'HOF', 'NONE', 'NONE', 'HOF', 'NONE', 'HOF', 'HOF', 'HOF', 'HOF', 'HOF', 'HOF', 'HOF', 'HOF', 'NONE', 'HOF', 'HOF', 'NONE', 'HOF', 'HOF', 'NONE', 'NONE', 'NONE', 'HOF', 'NONE', 'NONE', 'NONE', 'HOF', 'HOF', 'NONE', 'HOF', 'HOF', 'HOF', 'HOF', 'HOF', 'HOF', 'HOF', 'HOF', 'HOF', 'NONE', 'NONE', 'NONE', 'NONE', 'NONE', 'HOF', 'HOF', 'NONE', 'NONE', 'NONE', 'HOF', 'HOF', 'NONE', 'HOF', 'NONE', 'NONE', 'HOF', 'NONE', 'NONE', 'HOF', 'NONE', 'HOF', 'NONE', 'NONE', 'NONE', 'NONE', 'NONE', 'NONE', 'NONE', 'NONE', 'NONE', 'HOF', 'NONE', 'HOF', 'HOF', 'HOF', 'NONE', 'NONE', 'NONE', 'NONE', 'NONE', 'HOF', 'NONE', 'HOF', 'HOF', 'NONE', 'HOF', 'HOF', 'HOF', 'HOF', 'HOF', 'HOF', 'HOF', 'HOF', 'HOF', 'HOF', 'NONE', 'HOF', 'HOF', 'NONE', 'NONE', 'NONE', 'NONE', 'HOF', 'NONE', 'HOF', 'NONE', 'NONE', 'HOF', 'HOF', 'HOF', 'HOF', 'NONE', 'NONE', 'HOF', 'NONE', 'HOF', 'HOF', 'NONE', 'HOF', 'HOF', 'NONE', 'HOF', 'NONE', 'HOF', 'NONE', 'NONE', 'NONE', 'NONE', 'NONE', 'NONE', 'NONE', 'NONE', 'NONE', 'NONE', 'NONE', 'NONE', 'NONE', 'NONE', 'HOF', 'NONE', 'NONE', 'HOF', 'NONE', 'NONE', 'NONE', 'HOF', 'HOF', 'NONE', 'NONE', 'HOF', 'NONE', 'NONE', 'HOF', 'NONE', 'NONE', 'NONE', 'NONE', 'NONE', 'NONE', 'HOF', 'HOF', 'HOF', 'HOF', 'NONE', 'NONE', 'NONE', 'HOF', 'NONE', 'NONE', 'HOF', 'NONE', 'HOF', 'HOF', 'NONE', 'HOF', 'NONE', 'NONE', 'NONE', 'NONE', 'HOF', 'NONE', 'NONE', 'NONE', 'NONE', 'NONE', 'NONE', 'NONE', 'NONE', 'NONE', 'NONE', 'NONE', 'NONE', 'NONE', 'NONE', 'NONE', 'NONE', 'NONE', 'HOF', 'NONE', 'HOF', 'NONE', 'NONE', 'HOF', 'HOF', 'HOF', 'HOF', 'HOF', 'HOF', 'HOF', 'HOF', 'HOF', 'HOF', 'HOF', 'HOF', 'HOF', 'HOF', 'HOF', 'HOF', 'HOF', 'NONE', 'HOF', 'HOF', 'HOF', 'HOF', 'HOF', 'HOF', 'HOF', 'HOF', 'HOF', 'HOF', 'HOF', 'HOF', 'HOF', 'HOF', 'HOF', 'HOF', 'HOF', 'HOF', 'HOF', 'HOF', 'HOF', 'HOF', 'HOF', 'HOF', 'HOF', 'HOF', 'HOF', 'HOF', 'HOF', 'HOF', 'HOF', 'HOF', 'HOF', 'HOF', 'HOF', 'HOF', 'HOF', 'HOF', 'HOF', 'HOF', 'HOF', 'HOF', 'HOF', 'HOF', 'HOF', 'HOF', 'HOF', 'HOF', 'HOF', 'HOF', 'HOF', 'HOF', 'HOF', 'HOF', 'HOF', 'HOF', 'HOF', 'HOF', 'HOF', 'HOF', 'HOF', 'HOF', 'HOF', 'HOF', 'HOF', 'HOF', 'HOF', 'HOF', 'HOF', 'HOF', 'HOF', 'HOF', 'HOF', 'HOF', 'HOF', 'HOF', 'HOF', 'HOF', 'HOF', 'HOF', 'HOF', 'HOF', 'HOF', 'HOF', 'HOF', 'HOF', 'NONE', 'NONE', 'HOF', 'NONE', 'HOF', 'HOF', 'HOF', 'HOF', 'HOF', 'HOF', 'HOF', 'HOF', 'HOF', 'HOF', 'HOF', 'HOF', 'HOF', 'NONE', 'HOF', 'HOF', 'HOF', 'HOF', 'HOF', 'HOF', 'HOF', 'NONE', 'HOF', 'NONE', 'HOF', 'HOF']\n"
          ],
          "name": "stdout"
        }
      ]
    },
    {
      "cell_type": "markdown",
      "metadata": {
        "id": "eMWqNFFA8M50"
      },
      "source": [
        "## Loading Test Tweets"
      ]
    },
    {
      "cell_type": "code",
      "metadata": {
        "colab": {
          "base_uri": "https://localhost:8080/"
        },
        "id": "D2ByNI8X8wrR",
        "outputId": "18f47b2b-8629-4b19-e870-b44f8ccc9621"
      },
      "source": [
        "! git clone https://github.com/bhargav25dave1996/ICHCL_baseline.git\n",
        "% cd /content/drive/MyDrive/Colab Notebooks/ICHCL_baseline"
      ],
      "execution_count": 34,
      "outputs": [
        {
          "output_type": "stream",
          "text": [
            "fatal: destination path 'ICHCL_baseline' already exists and is not an empty directory.\n",
            "/content/drive/MyDrive/Colab Notebooks/ICHCL_baseline\n"
          ],
          "name": "stdout"
        }
      ]
    },
    {
      "cell_type": "code",
      "metadata": {
        "colab": {
          "base_uri": "https://localhost:8080/"
        },
        "id": "Oa3RWByv9E9K",
        "outputId": "855821dd-b477-4960-afde-ef40a41b01e3"
      },
      "source": [
        "import pickle\n",
        "import numpy as np\n",
        "\n",
        "from sklearn.linear_model import LogisticRegression\n",
        "from sklearn.svm import SVC\n",
        "from sklearn.naive_bayes import GaussianNB\n",
        "from sklearn.linear_model import SGDClassifier\n",
        "from sklearn.neighbors import KNeighborsClassifier\n",
        "from sklearn.tree import DecisionTreeClassifier\n",
        "from sklearn.ensemble import RandomForestClassifier\n",
        "\n",
        "import nltk\n",
        "nltk.download('stopwords')\n",
        "\n",
        "import pandas as pd\n",
        "import numpy as np\n",
        "from glob import glob\n",
        "import re\n",
        "import json\n",
        "\n",
        "import time\n",
        "import pickle\n",
        "\n",
        "from sklearn.feature_extraction.text import TfidfVectorizer\n",
        "from sklearn.model_selection import train_test_split\n",
        "from sklearn.linear_model import LogisticRegression\n",
        "from sklearn.metrics import classification_report\n",
        "from sklearn.preprocessing import LabelEncoder\n",
        "\n",
        "from tensorflow.keras import Sequential\n",
        "from tensorflow.keras.layers import Dense, Dropout\n",
        "\n",
        "\n",
        "from nltk.corpus import stopwords\n",
        "from nltk.stem import SnowballStemmer\n",
        "import stemmer as hindi_stemmer\n",
        "\n",
        "import torch\n",
        "import tensorflow as tf"
      ],
      "execution_count": 47,
      "outputs": [
        {
          "output_type": "stream",
          "text": [
            "[nltk_data] Downloading package stopwords to /root/nltk_data...\n",
            "[nltk_data]   Package stopwords is already up-to-date!\n"
          ],
          "name": "stdout"
        }
      ]
    },
    {
      "cell_type": "code",
      "metadata": {
        "id": "QnWw1a9k8Eby"
      },
      "source": [
        "english_stopwords = stopwords.words(\"english\")\n",
        "with open('final_stopwords.txt', encoding = 'utf-8') as f:\n",
        "    hindi_stopwords = f.readlines()\n",
        "    for i in range(len(hindi_stopwords)):\n",
        "        hindi_stopwords[i] = re.sub('\\n','',hindi_stopwords[i])\n",
        "stopwords = english_stopwords + hindi_stopwords\n",
        "english_stemmer = SnowballStemmer(\"english\")"
      ],
      "execution_count": 48,
      "outputs": []
    },
    {
      "cell_type": "code",
      "metadata": {
        "id": "8jgWJG-A8aGU"
      },
      "source": [
        "test_directories = []\n",
        "for i in glob(\"/content/drive/MyDrive/Colab Notebooks/subtask2_test/*/\"):\n",
        "    for j in glob(i+'*/'):\n",
        "        test_directories.append(j)"
      ],
      "execution_count": 49,
      "outputs": []
    },
    {
      "cell_type": "code",
      "metadata": {
        "id": "drbKyqLe8byd"
      },
      "source": [
        "data = []\n",
        "for i in test_directories:\n",
        "    with open(i+'data.json', encoding='utf-8') as f:\n",
        "        data.append(json.load(f))"
      ],
      "execution_count": 50,
      "outputs": []
    },
    {
      "cell_type": "code",
      "metadata": {
        "id": "3KAvc5Ym8ddz"
      },
      "source": [
        "def te_flatten(d):\n",
        "    flat_text = []\n",
        "    flat_text.append({\n",
        "        'tweet_id':d['tweet_id'],\n",
        "        'text':d['tweet'],\n",
        "    })\n",
        "\n",
        "    for i in d['comments']:\n",
        "            flat_text.append({\n",
        "                'tweet_id':i['tweet_id'],\n",
        "                'text':flat_text[0]['text'] + i['tweet'],\n",
        "            })\n",
        "            if 'replies' in i.keys():\n",
        "                for j in i['replies']:\n",
        "                    flat_text.append({\n",
        "                        'tweet_id':j['tweet_id'],\n",
        "                        'text':flat_text[0]['text'] + i['tweet'] + j['tweet'],\n",
        "                    })\n",
        "    return flat_text"
      ],
      "execution_count": 51,
      "outputs": []
    },
    {
      "cell_type": "code",
      "metadata": {
        "id": "xKJ-EljR8fOx"
      },
      "source": [
        "test_tweetid_data = []\n",
        "#for test\n",
        "for i in range(len(data)):\n",
        "    for j in te_flatten(data[i]):\n",
        "        test_tweetid_data.append(j)"
      ],
      "execution_count": 52,
      "outputs": []
    },
    {
      "cell_type": "code",
      "metadata": {
        "id": "Jdwt99Bx8it6"
      },
      "source": [
        "test_tweetid_data = []\n",
        "#for test\n",
        "for i in range(len(data)):\n",
        "    for j in te_flatten(data[i]):\n",
        "        test_tweetid_data.append(j)"
      ],
      "execution_count": 53,
      "outputs": []
    },
    {
      "cell_type": "code",
      "metadata": {
        "id": "RhyfTLzi8oTU"
      },
      "source": [
        "test_df = pd.DataFrame(test_tweetid_data, columns = test_tweetid_data[0].keys(), index = None)"
      ],
      "execution_count": 54,
      "outputs": []
    },
    {
      "cell_type": "code",
      "metadata": {
        "colab": {
          "base_uri": "https://localhost:8080/",
          "height": 206
        },
        "id": "iEPdtzTJ8rIK",
        "outputId": "428a7cfd-8794-4953-a53b-2bbc88030c07"
      },
      "source": [
        "test_df.head()"
      ],
      "execution_count": 55,
      "outputs": [
        {
          "output_type": "execute_result",
          "data": {
            "text/html": [
              "<div>\n",
              "<style scoped>\n",
              "    .dataframe tbody tr th:only-of-type {\n",
              "        vertical-align: middle;\n",
              "    }\n",
              "\n",
              "    .dataframe tbody tr th {\n",
              "        vertical-align: top;\n",
              "    }\n",
              "\n",
              "    .dataframe thead th {\n",
              "        text-align: right;\n",
              "    }\n",
              "</style>\n",
              "<table border=\"1\" class=\"dataframe\">\n",
              "  <thead>\n",
              "    <tr style=\"text-align: right;\">\n",
              "      <th></th>\n",
              "      <th>tweet_id</th>\n",
              "      <th>text</th>\n",
              "    </tr>\n",
              "  </thead>\n",
              "  <tbody>\n",
              "    <tr>\n",
              "      <th>0</th>\n",
              "      <td>1392808101007478794</td>\n",
              "      <td>In Gujarat, some believers have been going to ...</td>\n",
              "    </tr>\n",
              "    <tr>\n",
              "      <th>1</th>\n",
              "      <td>1392808747928539137</td>\n",
              "      <td>In Gujarat, some believers have been going to ...</td>\n",
              "    </tr>\n",
              "    <tr>\n",
              "      <th>2</th>\n",
              "      <td>1392808849762000898</td>\n",
              "      <td>In Gujarat, some believers have been going to ...</td>\n",
              "    </tr>\n",
              "    <tr>\n",
              "      <th>3</th>\n",
              "      <td>1392836845361242121</td>\n",
              "      <td>In Gujarat, some believers have been going to ...</td>\n",
              "    </tr>\n",
              "    <tr>\n",
              "      <th>4</th>\n",
              "      <td>1392900440409337857</td>\n",
              "      <td>In Gujarat, some believers have been going to ...</td>\n",
              "    </tr>\n",
              "  </tbody>\n",
              "</table>\n",
              "</div>"
            ],
            "text/plain": [
              "              tweet_id                                               text\n",
              "0  1392808101007478794  In Gujarat, some believers have been going to ...\n",
              "1  1392808747928539137  In Gujarat, some believers have been going to ...\n",
              "2  1392808849762000898  In Gujarat, some believers have been going to ...\n",
              "3  1392836845361242121  In Gujarat, some believers have been going to ...\n",
              "4  1392900440409337857  In Gujarat, some believers have been going to ..."
            ]
          },
          "metadata": {},
          "execution_count": 55
        }
      ]
    },
    {
      "cell_type": "code",
      "metadata": {
        "id": "58i1lJyJ-SWc"
      },
      "source": [
        "y_test = np.array(y_test)\n",
        "tweet_id = test_df['tweet_id']\n",
        "tweet_id = np.array(tweet_id)"
      ],
      "execution_count": 56,
      "outputs": []
    },
    {
      "cell_type": "code",
      "metadata": {
        "id": "NBpwyEzk-hfs"
      },
      "source": [
        "submission = {'tweet_id': tweet_id, 'label':y_test}\n",
        "submission = pd.DataFrame(submission)"
      ],
      "execution_count": 57,
      "outputs": []
    },
    {
      "cell_type": "code",
      "metadata": {
        "colab": {
          "base_uri": "https://localhost:8080/",
          "height": 206
        },
        "id": "ha97QS9r-igV",
        "outputId": "0bd84f2c-c244-4db6-9640-206389725dd6"
      },
      "source": [
        "submission.head()"
      ],
      "execution_count": 58,
      "outputs": [
        {
          "output_type": "execute_result",
          "data": {
            "text/html": [
              "<div>\n",
              "<style scoped>\n",
              "    .dataframe tbody tr th:only-of-type {\n",
              "        vertical-align: middle;\n",
              "    }\n",
              "\n",
              "    .dataframe tbody tr th {\n",
              "        vertical-align: top;\n",
              "    }\n",
              "\n",
              "    .dataframe thead th {\n",
              "        text-align: right;\n",
              "    }\n",
              "</style>\n",
              "<table border=\"1\" class=\"dataframe\">\n",
              "  <thead>\n",
              "    <tr style=\"text-align: right;\">\n",
              "      <th></th>\n",
              "      <th>tweet_id</th>\n",
              "      <th>label</th>\n",
              "    </tr>\n",
              "  </thead>\n",
              "  <tbody>\n",
              "    <tr>\n",
              "      <th>0</th>\n",
              "      <td>1392808101007478794</td>\n",
              "      <td>NONE</td>\n",
              "    </tr>\n",
              "    <tr>\n",
              "      <th>1</th>\n",
              "      <td>1392808747928539137</td>\n",
              "      <td>NONE</td>\n",
              "    </tr>\n",
              "    <tr>\n",
              "      <th>2</th>\n",
              "      <td>1392808849762000898</td>\n",
              "      <td>NONE</td>\n",
              "    </tr>\n",
              "    <tr>\n",
              "      <th>3</th>\n",
              "      <td>1392836845361242121</td>\n",
              "      <td>NONE</td>\n",
              "    </tr>\n",
              "    <tr>\n",
              "      <th>4</th>\n",
              "      <td>1392900440409337857</td>\n",
              "      <td>NONE</td>\n",
              "    </tr>\n",
              "  </tbody>\n",
              "</table>\n",
              "</div>"
            ],
            "text/plain": [
              "              tweet_id label\n",
              "0  1392808101007478794  NONE\n",
              "1  1392808747928539137  NONE\n",
              "2  1392808849762000898  NONE\n",
              "3  1392836845361242121  NONE\n",
              "4  1392900440409337857  NONE"
            ]
          },
          "metadata": {},
          "execution_count": 58
        }
      ]
    },
    {
      "cell_type": "code",
      "metadata": {
        "id": "e_q35zeX-xhS"
      },
      "source": [
        "submission.to_csv('/content/drive/MyDrive/Colab Notebooks/nn_submission.csv', index = False)"
      ],
      "execution_count": 59,
      "outputs": []
    },
    {
      "cell_type": "code",
      "metadata": {
        "id": "CplS3CdZ-16i"
      },
      "source": [
        ""
      ],
      "execution_count": null,
      "outputs": []
    }
  ]
}