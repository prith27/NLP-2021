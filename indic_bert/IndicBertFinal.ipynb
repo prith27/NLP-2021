{
  "nbformat": 4,
  "nbformat_minor": 0,
  "metadata": {
    "colab": {
      "name": "IndicBertFinal.ipynb",
      "provenance": [],
      "machine_shape": "hm"
    },
    "kernelspec": {
      "name": "python3",
      "display_name": "Python 3"
    },
    "language_info": {
      "name": "python"
    },
    "widgets": {
      "application/vnd.jupyter.widget-state+json": {
        "144b70c4825e445fb34f46acc878c57a": {
          "model_module": "@jupyter-widgets/controls",
          "model_name": "HBoxModel",
          "model_module_version": "1.5.0",
          "state": {
            "_view_name": "HBoxView",
            "_dom_classes": [],
            "_model_name": "HBoxModel",
            "_view_module": "@jupyter-widgets/controls",
            "_model_module_version": "1.5.0",
            "_view_count": null,
            "_view_module_version": "1.5.0",
            "box_style": "",
            "layout": "IPY_MODEL_849d48ef307c437faa37741bca844d20",
            "_model_module": "@jupyter-widgets/controls",
            "children": [
              "IPY_MODEL_1c637924a7a642008eb788d1a1ded5f3",
              "IPY_MODEL_23dcf61245584712b91198378ad82869",
              "IPY_MODEL_b5549d69c74d4bbdb50f403e237cdb29"
            ]
          }
        },
        "849d48ef307c437faa37741bca844d20": {
          "model_module": "@jupyter-widgets/base",
          "model_name": "LayoutModel",
          "model_module_version": "1.2.0",
          "state": {
            "_view_name": "LayoutView",
            "grid_template_rows": null,
            "right": null,
            "justify_content": null,
            "_view_module": "@jupyter-widgets/base",
            "overflow": null,
            "_model_module_version": "1.2.0",
            "_view_count": null,
            "flex_flow": null,
            "width": null,
            "min_width": null,
            "border": null,
            "align_items": null,
            "bottom": null,
            "_model_module": "@jupyter-widgets/base",
            "top": null,
            "grid_column": null,
            "overflow_y": null,
            "overflow_x": null,
            "grid_auto_flow": null,
            "grid_area": null,
            "grid_template_columns": null,
            "flex": null,
            "_model_name": "LayoutModel",
            "justify_items": null,
            "grid_row": null,
            "max_height": null,
            "align_content": null,
            "visibility": null,
            "align_self": null,
            "height": null,
            "min_height": null,
            "padding": null,
            "grid_auto_rows": null,
            "grid_gap": null,
            "max_width": null,
            "order": null,
            "_view_module_version": "1.2.0",
            "grid_template_areas": null,
            "object_position": null,
            "object_fit": null,
            "grid_auto_columns": null,
            "margin": null,
            "display": null,
            "left": null
          }
        },
        "1c637924a7a642008eb788d1a1ded5f3": {
          "model_module": "@jupyter-widgets/controls",
          "model_name": "HTMLModel",
          "model_module_version": "1.5.0",
          "state": {
            "_view_name": "HTMLView",
            "style": "IPY_MODEL_3bb93541e0fe47b7a2e31561ba813c40",
            "_dom_classes": [],
            "description": "",
            "_model_name": "HTMLModel",
            "placeholder": "​",
            "_view_module": "@jupyter-widgets/controls",
            "_model_module_version": "1.5.0",
            "value": "Downloading: 100%",
            "_view_count": null,
            "_view_module_version": "1.5.0",
            "description_tooltip": null,
            "_model_module": "@jupyter-widgets/controls",
            "layout": "IPY_MODEL_a9b762750a424e709a30bb93755081ee"
          }
        },
        "23dcf61245584712b91198378ad82869": {
          "model_module": "@jupyter-widgets/controls",
          "model_name": "FloatProgressModel",
          "model_module_version": "1.5.0",
          "state": {
            "_view_name": "ProgressView",
            "style": "IPY_MODEL_b2ca52a264594b99ba31aca169300e21",
            "_dom_classes": [],
            "description": "",
            "_model_name": "FloatProgressModel",
            "bar_style": "success",
            "max": 507,
            "_view_module": "@jupyter-widgets/controls",
            "_model_module_version": "1.5.0",
            "value": 507,
            "_view_count": null,
            "_view_module_version": "1.5.0",
            "orientation": "horizontal",
            "min": 0,
            "description_tooltip": null,
            "_model_module": "@jupyter-widgets/controls",
            "layout": "IPY_MODEL_dc42708b67304ee39c39d45eadec98a7"
          }
        },
        "b5549d69c74d4bbdb50f403e237cdb29": {
          "model_module": "@jupyter-widgets/controls",
          "model_name": "HTMLModel",
          "model_module_version": "1.5.0",
          "state": {
            "_view_name": "HTMLView",
            "style": "IPY_MODEL_01d3f2b398db4025a7ff441156ee7ae5",
            "_dom_classes": [],
            "description": "",
            "_model_name": "HTMLModel",
            "placeholder": "​",
            "_view_module": "@jupyter-widgets/controls",
            "_model_module_version": "1.5.0",
            "value": " 507/507 [00:00&lt;00:00, 15.7kB/s]",
            "_view_count": null,
            "_view_module_version": "1.5.0",
            "description_tooltip": null,
            "_model_module": "@jupyter-widgets/controls",
            "layout": "IPY_MODEL_5e09fea62f5c49b8888838d22f2226b4"
          }
        },
        "3bb93541e0fe47b7a2e31561ba813c40": {
          "model_module": "@jupyter-widgets/controls",
          "model_name": "DescriptionStyleModel",
          "model_module_version": "1.5.0",
          "state": {
            "_view_name": "StyleView",
            "_model_name": "DescriptionStyleModel",
            "description_width": "",
            "_view_module": "@jupyter-widgets/base",
            "_model_module_version": "1.5.0",
            "_view_count": null,
            "_view_module_version": "1.2.0",
            "_model_module": "@jupyter-widgets/controls"
          }
        },
        "a9b762750a424e709a30bb93755081ee": {
          "model_module": "@jupyter-widgets/base",
          "model_name": "LayoutModel",
          "model_module_version": "1.2.0",
          "state": {
            "_view_name": "LayoutView",
            "grid_template_rows": null,
            "right": null,
            "justify_content": null,
            "_view_module": "@jupyter-widgets/base",
            "overflow": null,
            "_model_module_version": "1.2.0",
            "_view_count": null,
            "flex_flow": null,
            "width": null,
            "min_width": null,
            "border": null,
            "align_items": null,
            "bottom": null,
            "_model_module": "@jupyter-widgets/base",
            "top": null,
            "grid_column": null,
            "overflow_y": null,
            "overflow_x": null,
            "grid_auto_flow": null,
            "grid_area": null,
            "grid_template_columns": null,
            "flex": null,
            "_model_name": "LayoutModel",
            "justify_items": null,
            "grid_row": null,
            "max_height": null,
            "align_content": null,
            "visibility": null,
            "align_self": null,
            "height": null,
            "min_height": null,
            "padding": null,
            "grid_auto_rows": null,
            "grid_gap": null,
            "max_width": null,
            "order": null,
            "_view_module_version": "1.2.0",
            "grid_template_areas": null,
            "object_position": null,
            "object_fit": null,
            "grid_auto_columns": null,
            "margin": null,
            "display": null,
            "left": null
          }
        },
        "b2ca52a264594b99ba31aca169300e21": {
          "model_module": "@jupyter-widgets/controls",
          "model_name": "ProgressStyleModel",
          "model_module_version": "1.5.0",
          "state": {
            "_view_name": "StyleView",
            "_model_name": "ProgressStyleModel",
            "description_width": "",
            "_view_module": "@jupyter-widgets/base",
            "_model_module_version": "1.5.0",
            "_view_count": null,
            "_view_module_version": "1.2.0",
            "bar_color": null,
            "_model_module": "@jupyter-widgets/controls"
          }
        },
        "dc42708b67304ee39c39d45eadec98a7": {
          "model_module": "@jupyter-widgets/base",
          "model_name": "LayoutModel",
          "model_module_version": "1.2.0",
          "state": {
            "_view_name": "LayoutView",
            "grid_template_rows": null,
            "right": null,
            "justify_content": null,
            "_view_module": "@jupyter-widgets/base",
            "overflow": null,
            "_model_module_version": "1.2.0",
            "_view_count": null,
            "flex_flow": null,
            "width": null,
            "min_width": null,
            "border": null,
            "align_items": null,
            "bottom": null,
            "_model_module": "@jupyter-widgets/base",
            "top": null,
            "grid_column": null,
            "overflow_y": null,
            "overflow_x": null,
            "grid_auto_flow": null,
            "grid_area": null,
            "grid_template_columns": null,
            "flex": null,
            "_model_name": "LayoutModel",
            "justify_items": null,
            "grid_row": null,
            "max_height": null,
            "align_content": null,
            "visibility": null,
            "align_self": null,
            "height": null,
            "min_height": null,
            "padding": null,
            "grid_auto_rows": null,
            "grid_gap": null,
            "max_width": null,
            "order": null,
            "_view_module_version": "1.2.0",
            "grid_template_areas": null,
            "object_position": null,
            "object_fit": null,
            "grid_auto_columns": null,
            "margin": null,
            "display": null,
            "left": null
          }
        },
        "01d3f2b398db4025a7ff441156ee7ae5": {
          "model_module": "@jupyter-widgets/controls",
          "model_name": "DescriptionStyleModel",
          "model_module_version": "1.5.0",
          "state": {
            "_view_name": "StyleView",
            "_model_name": "DescriptionStyleModel",
            "description_width": "",
            "_view_module": "@jupyter-widgets/base",
            "_model_module_version": "1.5.0",
            "_view_count": null,
            "_view_module_version": "1.2.0",
            "_model_module": "@jupyter-widgets/controls"
          }
        },
        "5e09fea62f5c49b8888838d22f2226b4": {
          "model_module": "@jupyter-widgets/base",
          "model_name": "LayoutModel",
          "model_module_version": "1.2.0",
          "state": {
            "_view_name": "LayoutView",
            "grid_template_rows": null,
            "right": null,
            "justify_content": null,
            "_view_module": "@jupyter-widgets/base",
            "overflow": null,
            "_model_module_version": "1.2.0",
            "_view_count": null,
            "flex_flow": null,
            "width": null,
            "min_width": null,
            "border": null,
            "align_items": null,
            "bottom": null,
            "_model_module": "@jupyter-widgets/base",
            "top": null,
            "grid_column": null,
            "overflow_y": null,
            "overflow_x": null,
            "grid_auto_flow": null,
            "grid_area": null,
            "grid_template_columns": null,
            "flex": null,
            "_model_name": "LayoutModel",
            "justify_items": null,
            "grid_row": null,
            "max_height": null,
            "align_content": null,
            "visibility": null,
            "align_self": null,
            "height": null,
            "min_height": null,
            "padding": null,
            "grid_auto_rows": null,
            "grid_gap": null,
            "max_width": null,
            "order": null,
            "_view_module_version": "1.2.0",
            "grid_template_areas": null,
            "object_position": null,
            "object_fit": null,
            "grid_auto_columns": null,
            "margin": null,
            "display": null,
            "left": null
          }
        },
        "decfbf77ae7b4ee3804ab3a3c219ba0b": {
          "model_module": "@jupyter-widgets/controls",
          "model_name": "HBoxModel",
          "model_module_version": "1.5.0",
          "state": {
            "_view_name": "HBoxView",
            "_dom_classes": [],
            "_model_name": "HBoxModel",
            "_view_module": "@jupyter-widgets/controls",
            "_model_module_version": "1.5.0",
            "_view_count": null,
            "_view_module_version": "1.5.0",
            "box_style": "",
            "layout": "IPY_MODEL_5299ac2a7e7048d78b7a0e14ceb7f1be",
            "_model_module": "@jupyter-widgets/controls",
            "children": [
              "IPY_MODEL_3e1a48a6f4754ad893de6a8066496a8f",
              "IPY_MODEL_fff2321f774a4e3a8f3fdbc9c073f6b7",
              "IPY_MODEL_fe6ffe6da77e4d6b9413fcaea220cffc"
            ]
          }
        },
        "5299ac2a7e7048d78b7a0e14ceb7f1be": {
          "model_module": "@jupyter-widgets/base",
          "model_name": "LayoutModel",
          "model_module_version": "1.2.0",
          "state": {
            "_view_name": "LayoutView",
            "grid_template_rows": null,
            "right": null,
            "justify_content": null,
            "_view_module": "@jupyter-widgets/base",
            "overflow": null,
            "_model_module_version": "1.2.0",
            "_view_count": null,
            "flex_flow": null,
            "width": null,
            "min_width": null,
            "border": null,
            "align_items": null,
            "bottom": null,
            "_model_module": "@jupyter-widgets/base",
            "top": null,
            "grid_column": null,
            "overflow_y": null,
            "overflow_x": null,
            "grid_auto_flow": null,
            "grid_area": null,
            "grid_template_columns": null,
            "flex": null,
            "_model_name": "LayoutModel",
            "justify_items": null,
            "grid_row": null,
            "max_height": null,
            "align_content": null,
            "visibility": null,
            "align_self": null,
            "height": null,
            "min_height": null,
            "padding": null,
            "grid_auto_rows": null,
            "grid_gap": null,
            "max_width": null,
            "order": null,
            "_view_module_version": "1.2.0",
            "grid_template_areas": null,
            "object_position": null,
            "object_fit": null,
            "grid_auto_columns": null,
            "margin": null,
            "display": null,
            "left": null
          }
        },
        "3e1a48a6f4754ad893de6a8066496a8f": {
          "model_module": "@jupyter-widgets/controls",
          "model_name": "HTMLModel",
          "model_module_version": "1.5.0",
          "state": {
            "_view_name": "HTMLView",
            "style": "IPY_MODEL_e6fb6d60c9264ef0beb06647430f73bd",
            "_dom_classes": [],
            "description": "",
            "_model_name": "HTMLModel",
            "placeholder": "​",
            "_view_module": "@jupyter-widgets/controls",
            "_model_module_version": "1.5.0",
            "value": "Downloading: 100%",
            "_view_count": null,
            "_view_module_version": "1.5.0",
            "description_tooltip": null,
            "_model_module": "@jupyter-widgets/controls",
            "layout": "IPY_MODEL_d13ae4477fa3411a9ad1e25e2ffc3cff"
          }
        },
        "fff2321f774a4e3a8f3fdbc9c073f6b7": {
          "model_module": "@jupyter-widgets/controls",
          "model_name": "FloatProgressModel",
          "model_module_version": "1.5.0",
          "state": {
            "_view_name": "ProgressView",
            "style": "IPY_MODEL_87c57e5a78d047de9f10ae3ebae24f77",
            "_dom_classes": [],
            "description": "",
            "_model_name": "FloatProgressModel",
            "bar_style": "success",
            "max": 5646064,
            "_view_module": "@jupyter-widgets/controls",
            "_model_module_version": "1.5.0",
            "value": 5646064,
            "_view_count": null,
            "_view_module_version": "1.5.0",
            "orientation": "horizontal",
            "min": 0,
            "description_tooltip": null,
            "_model_module": "@jupyter-widgets/controls",
            "layout": "IPY_MODEL_4fa817acdbe443c9ac5eae68858df4e6"
          }
        },
        "fe6ffe6da77e4d6b9413fcaea220cffc": {
          "model_module": "@jupyter-widgets/controls",
          "model_name": "HTMLModel",
          "model_module_version": "1.5.0",
          "state": {
            "_view_name": "HTMLView",
            "style": "IPY_MODEL_cce2b13532df48a3bd77c86499faba29",
            "_dom_classes": [],
            "description": "",
            "_model_name": "HTMLModel",
            "placeholder": "​",
            "_view_module": "@jupyter-widgets/controls",
            "_model_module_version": "1.5.0",
            "value": " 5.65M/5.65M [00:01&lt;00:00, 6.86MB/s]",
            "_view_count": null,
            "_view_module_version": "1.5.0",
            "description_tooltip": null,
            "_model_module": "@jupyter-widgets/controls",
            "layout": "IPY_MODEL_eb462ecf5517443dbab7bb3aa525b25f"
          }
        },
        "e6fb6d60c9264ef0beb06647430f73bd": {
          "model_module": "@jupyter-widgets/controls",
          "model_name": "DescriptionStyleModel",
          "model_module_version": "1.5.0",
          "state": {
            "_view_name": "StyleView",
            "_model_name": "DescriptionStyleModel",
            "description_width": "",
            "_view_module": "@jupyter-widgets/base",
            "_model_module_version": "1.5.0",
            "_view_count": null,
            "_view_module_version": "1.2.0",
            "_model_module": "@jupyter-widgets/controls"
          }
        },
        "d13ae4477fa3411a9ad1e25e2ffc3cff": {
          "model_module": "@jupyter-widgets/base",
          "model_name": "LayoutModel",
          "model_module_version": "1.2.0",
          "state": {
            "_view_name": "LayoutView",
            "grid_template_rows": null,
            "right": null,
            "justify_content": null,
            "_view_module": "@jupyter-widgets/base",
            "overflow": null,
            "_model_module_version": "1.2.0",
            "_view_count": null,
            "flex_flow": null,
            "width": null,
            "min_width": null,
            "border": null,
            "align_items": null,
            "bottom": null,
            "_model_module": "@jupyter-widgets/base",
            "top": null,
            "grid_column": null,
            "overflow_y": null,
            "overflow_x": null,
            "grid_auto_flow": null,
            "grid_area": null,
            "grid_template_columns": null,
            "flex": null,
            "_model_name": "LayoutModel",
            "justify_items": null,
            "grid_row": null,
            "max_height": null,
            "align_content": null,
            "visibility": null,
            "align_self": null,
            "height": null,
            "min_height": null,
            "padding": null,
            "grid_auto_rows": null,
            "grid_gap": null,
            "max_width": null,
            "order": null,
            "_view_module_version": "1.2.0",
            "grid_template_areas": null,
            "object_position": null,
            "object_fit": null,
            "grid_auto_columns": null,
            "margin": null,
            "display": null,
            "left": null
          }
        },
        "87c57e5a78d047de9f10ae3ebae24f77": {
          "model_module": "@jupyter-widgets/controls",
          "model_name": "ProgressStyleModel",
          "model_module_version": "1.5.0",
          "state": {
            "_view_name": "StyleView",
            "_model_name": "ProgressStyleModel",
            "description_width": "",
            "_view_module": "@jupyter-widgets/base",
            "_model_module_version": "1.5.0",
            "_view_count": null,
            "_view_module_version": "1.2.0",
            "bar_color": null,
            "_model_module": "@jupyter-widgets/controls"
          }
        },
        "4fa817acdbe443c9ac5eae68858df4e6": {
          "model_module": "@jupyter-widgets/base",
          "model_name": "LayoutModel",
          "model_module_version": "1.2.0",
          "state": {
            "_view_name": "LayoutView",
            "grid_template_rows": null,
            "right": null,
            "justify_content": null,
            "_view_module": "@jupyter-widgets/base",
            "overflow": null,
            "_model_module_version": "1.2.0",
            "_view_count": null,
            "flex_flow": null,
            "width": null,
            "min_width": null,
            "border": null,
            "align_items": null,
            "bottom": null,
            "_model_module": "@jupyter-widgets/base",
            "top": null,
            "grid_column": null,
            "overflow_y": null,
            "overflow_x": null,
            "grid_auto_flow": null,
            "grid_area": null,
            "grid_template_columns": null,
            "flex": null,
            "_model_name": "LayoutModel",
            "justify_items": null,
            "grid_row": null,
            "max_height": null,
            "align_content": null,
            "visibility": null,
            "align_self": null,
            "height": null,
            "min_height": null,
            "padding": null,
            "grid_auto_rows": null,
            "grid_gap": null,
            "max_width": null,
            "order": null,
            "_view_module_version": "1.2.0",
            "grid_template_areas": null,
            "object_position": null,
            "object_fit": null,
            "grid_auto_columns": null,
            "margin": null,
            "display": null,
            "left": null
          }
        },
        "cce2b13532df48a3bd77c86499faba29": {
          "model_module": "@jupyter-widgets/controls",
          "model_name": "DescriptionStyleModel",
          "model_module_version": "1.5.0",
          "state": {
            "_view_name": "StyleView",
            "_model_name": "DescriptionStyleModel",
            "description_width": "",
            "_view_module": "@jupyter-widgets/base",
            "_model_module_version": "1.5.0",
            "_view_count": null,
            "_view_module_version": "1.2.0",
            "_model_module": "@jupyter-widgets/controls"
          }
        },
        "eb462ecf5517443dbab7bb3aa525b25f": {
          "model_module": "@jupyter-widgets/base",
          "model_name": "LayoutModel",
          "model_module_version": "1.2.0",
          "state": {
            "_view_name": "LayoutView",
            "grid_template_rows": null,
            "right": null,
            "justify_content": null,
            "_view_module": "@jupyter-widgets/base",
            "overflow": null,
            "_model_module_version": "1.2.0",
            "_view_count": null,
            "flex_flow": null,
            "width": null,
            "min_width": null,
            "border": null,
            "align_items": null,
            "bottom": null,
            "_model_module": "@jupyter-widgets/base",
            "top": null,
            "grid_column": null,
            "overflow_y": null,
            "overflow_x": null,
            "grid_auto_flow": null,
            "grid_area": null,
            "grid_template_columns": null,
            "flex": null,
            "_model_name": "LayoutModel",
            "justify_items": null,
            "grid_row": null,
            "max_height": null,
            "align_content": null,
            "visibility": null,
            "align_self": null,
            "height": null,
            "min_height": null,
            "padding": null,
            "grid_auto_rows": null,
            "grid_gap": null,
            "max_width": null,
            "order": null,
            "_view_module_version": "1.2.0",
            "grid_template_areas": null,
            "object_position": null,
            "object_fit": null,
            "grid_auto_columns": null,
            "margin": null,
            "display": null,
            "left": null
          }
        },
        "5a75d49538f3473eba03062cbda5ef81": {
          "model_module": "@jupyter-widgets/controls",
          "model_name": "HBoxModel",
          "model_module_version": "1.5.0",
          "state": {
            "_view_name": "HBoxView",
            "_dom_classes": [],
            "_model_name": "HBoxModel",
            "_view_module": "@jupyter-widgets/controls",
            "_model_module_version": "1.5.0",
            "_view_count": null,
            "_view_module_version": "1.5.0",
            "box_style": "",
            "layout": "IPY_MODEL_02a073eea1db4566aa638768bceece7f",
            "_model_module": "@jupyter-widgets/controls",
            "children": [
              "IPY_MODEL_f4a241c7432b477ca93b404631c66133",
              "IPY_MODEL_d33afbfb8622498cab06effe382f775a",
              "IPY_MODEL_64d793ecc94545f1a0468a3aaa0c7d33"
            ]
          }
        },
        "02a073eea1db4566aa638768bceece7f": {
          "model_module": "@jupyter-widgets/base",
          "model_name": "LayoutModel",
          "model_module_version": "1.2.0",
          "state": {
            "_view_name": "LayoutView",
            "grid_template_rows": null,
            "right": null,
            "justify_content": null,
            "_view_module": "@jupyter-widgets/base",
            "overflow": null,
            "_model_module_version": "1.2.0",
            "_view_count": null,
            "flex_flow": null,
            "width": null,
            "min_width": null,
            "border": null,
            "align_items": null,
            "bottom": null,
            "_model_module": "@jupyter-widgets/base",
            "top": null,
            "grid_column": null,
            "overflow_y": null,
            "overflow_x": null,
            "grid_auto_flow": null,
            "grid_area": null,
            "grid_template_columns": null,
            "flex": null,
            "_model_name": "LayoutModel",
            "justify_items": null,
            "grid_row": null,
            "max_height": null,
            "align_content": null,
            "visibility": null,
            "align_self": null,
            "height": null,
            "min_height": null,
            "padding": null,
            "grid_auto_rows": null,
            "grid_gap": null,
            "max_width": null,
            "order": null,
            "_view_module_version": "1.2.0",
            "grid_template_areas": null,
            "object_position": null,
            "object_fit": null,
            "grid_auto_columns": null,
            "margin": null,
            "display": null,
            "left": null
          }
        },
        "f4a241c7432b477ca93b404631c66133": {
          "model_module": "@jupyter-widgets/controls",
          "model_name": "HTMLModel",
          "model_module_version": "1.5.0",
          "state": {
            "_view_name": "HTMLView",
            "style": "IPY_MODEL_046d6ecf65d149d6ae01a5cadb1194da",
            "_dom_classes": [],
            "description": "",
            "_model_name": "HTMLModel",
            "placeholder": "​",
            "_view_module": "@jupyter-widgets/controls",
            "_model_module_version": "1.5.0",
            "value": "Downloading: 100%",
            "_view_count": null,
            "_view_module_version": "1.5.0",
            "description_tooltip": null,
            "_model_module": "@jupyter-widgets/controls",
            "layout": "IPY_MODEL_a569ef50987a4155b2e26138c963e23a"
          }
        },
        "d33afbfb8622498cab06effe382f775a": {
          "model_module": "@jupyter-widgets/controls",
          "model_name": "FloatProgressModel",
          "model_module_version": "1.5.0",
          "state": {
            "_view_name": "ProgressView",
            "style": "IPY_MODEL_66386d8dd5ab4bd0937f79c366acfb04",
            "_dom_classes": [],
            "description": "",
            "_model_name": "FloatProgressModel",
            "bar_style": "success",
            "max": 134982446,
            "_view_module": "@jupyter-widgets/controls",
            "_model_module_version": "1.5.0",
            "value": 134982446,
            "_view_count": null,
            "_view_module_version": "1.5.0",
            "orientation": "horizontal",
            "min": 0,
            "description_tooltip": null,
            "_model_module": "@jupyter-widgets/controls",
            "layout": "IPY_MODEL_9a49769adbcb430b8e8b73d6a56679af"
          }
        },
        "64d793ecc94545f1a0468a3aaa0c7d33": {
          "model_module": "@jupyter-widgets/controls",
          "model_name": "HTMLModel",
          "model_module_version": "1.5.0",
          "state": {
            "_view_name": "HTMLView",
            "style": "IPY_MODEL_40f145c8d7974815b415215b17e95dcd",
            "_dom_classes": [],
            "description": "",
            "_model_name": "HTMLModel",
            "placeholder": "​",
            "_view_module": "@jupyter-widgets/controls",
            "_model_module_version": "1.5.0",
            "value": " 135M/135M [00:02&lt;00:00, 51.6MB/s]",
            "_view_count": null,
            "_view_module_version": "1.5.0",
            "description_tooltip": null,
            "_model_module": "@jupyter-widgets/controls",
            "layout": "IPY_MODEL_6a1ad5dc88fa4d1fad86a86bbb485265"
          }
        },
        "046d6ecf65d149d6ae01a5cadb1194da": {
          "model_module": "@jupyter-widgets/controls",
          "model_name": "DescriptionStyleModel",
          "model_module_version": "1.5.0",
          "state": {
            "_view_name": "StyleView",
            "_model_name": "DescriptionStyleModel",
            "description_width": "",
            "_view_module": "@jupyter-widgets/base",
            "_model_module_version": "1.5.0",
            "_view_count": null,
            "_view_module_version": "1.2.0",
            "_model_module": "@jupyter-widgets/controls"
          }
        },
        "a569ef50987a4155b2e26138c963e23a": {
          "model_module": "@jupyter-widgets/base",
          "model_name": "LayoutModel",
          "model_module_version": "1.2.0",
          "state": {
            "_view_name": "LayoutView",
            "grid_template_rows": null,
            "right": null,
            "justify_content": null,
            "_view_module": "@jupyter-widgets/base",
            "overflow": null,
            "_model_module_version": "1.2.0",
            "_view_count": null,
            "flex_flow": null,
            "width": null,
            "min_width": null,
            "border": null,
            "align_items": null,
            "bottom": null,
            "_model_module": "@jupyter-widgets/base",
            "top": null,
            "grid_column": null,
            "overflow_y": null,
            "overflow_x": null,
            "grid_auto_flow": null,
            "grid_area": null,
            "grid_template_columns": null,
            "flex": null,
            "_model_name": "LayoutModel",
            "justify_items": null,
            "grid_row": null,
            "max_height": null,
            "align_content": null,
            "visibility": null,
            "align_self": null,
            "height": null,
            "min_height": null,
            "padding": null,
            "grid_auto_rows": null,
            "grid_gap": null,
            "max_width": null,
            "order": null,
            "_view_module_version": "1.2.0",
            "grid_template_areas": null,
            "object_position": null,
            "object_fit": null,
            "grid_auto_columns": null,
            "margin": null,
            "display": null,
            "left": null
          }
        },
        "66386d8dd5ab4bd0937f79c366acfb04": {
          "model_module": "@jupyter-widgets/controls",
          "model_name": "ProgressStyleModel",
          "model_module_version": "1.5.0",
          "state": {
            "_view_name": "StyleView",
            "_model_name": "ProgressStyleModel",
            "description_width": "",
            "_view_module": "@jupyter-widgets/base",
            "_model_module_version": "1.5.0",
            "_view_count": null,
            "_view_module_version": "1.2.0",
            "bar_color": null,
            "_model_module": "@jupyter-widgets/controls"
          }
        },
        "9a49769adbcb430b8e8b73d6a56679af": {
          "model_module": "@jupyter-widgets/base",
          "model_name": "LayoutModel",
          "model_module_version": "1.2.0",
          "state": {
            "_view_name": "LayoutView",
            "grid_template_rows": null,
            "right": null,
            "justify_content": null,
            "_view_module": "@jupyter-widgets/base",
            "overflow": null,
            "_model_module_version": "1.2.0",
            "_view_count": null,
            "flex_flow": null,
            "width": null,
            "min_width": null,
            "border": null,
            "align_items": null,
            "bottom": null,
            "_model_module": "@jupyter-widgets/base",
            "top": null,
            "grid_column": null,
            "overflow_y": null,
            "overflow_x": null,
            "grid_auto_flow": null,
            "grid_area": null,
            "grid_template_columns": null,
            "flex": null,
            "_model_name": "LayoutModel",
            "justify_items": null,
            "grid_row": null,
            "max_height": null,
            "align_content": null,
            "visibility": null,
            "align_self": null,
            "height": null,
            "min_height": null,
            "padding": null,
            "grid_auto_rows": null,
            "grid_gap": null,
            "max_width": null,
            "order": null,
            "_view_module_version": "1.2.0",
            "grid_template_areas": null,
            "object_position": null,
            "object_fit": null,
            "grid_auto_columns": null,
            "margin": null,
            "display": null,
            "left": null
          }
        },
        "40f145c8d7974815b415215b17e95dcd": {
          "model_module": "@jupyter-widgets/controls",
          "model_name": "DescriptionStyleModel",
          "model_module_version": "1.5.0",
          "state": {
            "_view_name": "StyleView",
            "_model_name": "DescriptionStyleModel",
            "description_width": "",
            "_view_module": "@jupyter-widgets/base",
            "_model_module_version": "1.5.0",
            "_view_count": null,
            "_view_module_version": "1.2.0",
            "_model_module": "@jupyter-widgets/controls"
          }
        },
        "6a1ad5dc88fa4d1fad86a86bbb485265": {
          "model_module": "@jupyter-widgets/base",
          "model_name": "LayoutModel",
          "model_module_version": "1.2.0",
          "state": {
            "_view_name": "LayoutView",
            "grid_template_rows": null,
            "right": null,
            "justify_content": null,
            "_view_module": "@jupyter-widgets/base",
            "overflow": null,
            "_model_module_version": "1.2.0",
            "_view_count": null,
            "flex_flow": null,
            "width": null,
            "min_width": null,
            "border": null,
            "align_items": null,
            "bottom": null,
            "_model_module": "@jupyter-widgets/base",
            "top": null,
            "grid_column": null,
            "overflow_y": null,
            "overflow_x": null,
            "grid_auto_flow": null,
            "grid_area": null,
            "grid_template_columns": null,
            "flex": null,
            "_model_name": "LayoutModel",
            "justify_items": null,
            "grid_row": null,
            "max_height": null,
            "align_content": null,
            "visibility": null,
            "align_self": null,
            "height": null,
            "min_height": null,
            "padding": null,
            "grid_auto_rows": null,
            "grid_gap": null,
            "max_width": null,
            "order": null,
            "_view_module_version": "1.2.0",
            "grid_template_areas": null,
            "object_position": null,
            "object_fit": null,
            "grid_auto_columns": null,
            "margin": null,
            "display": null,
            "left": null
          }
        }
      }
    }
  },
  "cells": [
    {
      "cell_type": "code",
      "metadata": {
        "colab": {
          "base_uri": "https://localhost:8080/"
        },
        "id": "zIyTuv4C1QUm",
        "outputId": "acbdc054-3067-4c5d-ff51-102f2b19914b"
      },
      "source": [
        "from google.colab import drive\n",
        "drive.mount('/content/drive')"
      ],
      "execution_count": 3,
      "outputs": [
        {
          "output_type": "stream",
          "text": [
            "Drive already mounted at /content/drive; to attempt to forcibly remount, call drive.mount(\"/content/drive\", force_remount=True).\n"
          ],
          "name": "stdout"
        }
      ]
    },
    {
      "cell_type": "code",
      "metadata": {
        "colab": {
          "base_uri": "https://localhost:8080/"
        },
        "id": "Etpa0RcV2j2Q",
        "outputId": "9cdb4d18-df3d-4b50-8715-3cb50bc5b014"
      },
      "source": [
        "% cd /content/drive/MyDrive/Colab Notebooks"
      ],
      "execution_count": 4,
      "outputs": [
        {
          "output_type": "stream",
          "text": [
            "/content/drive/MyDrive/Colab Notebooks\n"
          ],
          "name": "stdout"
        }
      ]
    },
    {
      "cell_type": "markdown",
      "metadata": {
        "id": "VbMaDn0d2bY0"
      },
      "source": [
        "## **Importing Libraries**"
      ]
    },
    {
      "cell_type": "code",
      "metadata": {
        "colab": {
          "base_uri": "https://localhost:8080/"
        },
        "id": "Ee7jxNX12at1",
        "outputId": "d5e8a39d-cf38-4fbe-d8c2-5ef979fc9812"
      },
      "source": [
        "import pickle\n",
        "import numpy as np\n",
        "\n",
        "from sklearn.linear_model import LogisticRegression\n",
        "from sklearn.svm import SVC\n",
        "from sklearn.naive_bayes import GaussianNB\n",
        "from sklearn.linear_model import SGDClassifier\n",
        "from sklearn.neighbors import KNeighborsClassifier\n",
        "from sklearn.tree import DecisionTreeClassifier\n",
        "from sklearn.ensemble import RandomForestClassifier\n",
        "\n",
        "import nltk\n",
        "nltk.download('stopwords')\n",
        "\n",
        "import pandas as pd\n",
        "import numpy as np\n",
        "from glob import glob\n",
        "import re\n",
        "import json\n",
        "\n",
        "import time\n",
        "import pickle\n",
        "\n",
        "from sklearn.feature_extraction.text import TfidfVectorizer\n",
        "from sklearn.model_selection import train_test_split\n",
        "from sklearn.linear_model import LogisticRegression\n",
        "from sklearn.metrics import classification_report\n",
        "from sklearn.preprocessing import LabelEncoder\n",
        "\n",
        "from tensorflow.keras import Sequential\n",
        "from tensorflow.keras.layers import Dense, Dropout\n",
        "\n",
        "\n",
        "from nltk.corpus import stopwords\n",
        "from nltk.stem import SnowballStemmer\n",
        "import stemmer as hindi_stemmer\n",
        "\n",
        "import torch\n",
        "import tensorflow as tf"
      ],
      "execution_count": 7,
      "outputs": [
        {
          "output_type": "stream",
          "text": [
            "[nltk_data] Downloading package stopwords to /root/nltk_data...\n",
            "[nltk_data]   Package stopwords is already up-to-date!\n"
          ],
          "name": "stdout"
        }
      ]
    },
    {
      "cell_type": "markdown",
      "metadata": {
        "id": "wk4rMKbOsuoL"
      },
      "source": [
        "# **Environment Setup**"
      ]
    },
    {
      "cell_type": "code",
      "metadata": {
        "colab": {
          "base_uri": "https://localhost:8080/"
        },
        "id": "LjWOBVfXuO7_",
        "outputId": "d22b0f14-54fb-428a-e093-1b292ee02286"
      },
      "source": [
        "% cd /content/"
      ],
      "execution_count": 5,
      "outputs": [
        {
          "output_type": "stream",
          "text": [
            "/content\n"
          ],
          "name": "stdout"
        }
      ]
    },
    {
      "cell_type": "code",
      "metadata": {
        "colab": {
          "base_uri": "https://localhost:8080/"
        },
        "id": "U3XAgQfOsxeo",
        "outputId": "7a4e0e91-350f-4213-ac84-8271223258b0"
      },
      "source": [
        "! pip install -q transformers\n",
        "! pip install -q sentencepiece\n",
        "! pip install -q nltk\n",
        "! git clone https://github.com/bhargav25dave1996/ICHCL_baseline.git\n",
        "% cd /content/ICHCL_baseline"
      ],
      "execution_count": 6,
      "outputs": [
        {
          "output_type": "stream",
          "text": [
            "fatal: destination path 'ICHCL_baseline' already exists and is not an empty directory.\n",
            "/content/ICHCL_baseline\n"
          ],
          "name": "stdout"
        }
      ]
    },
    {
      "cell_type": "markdown",
      "metadata": {
        "id": "fzK2dLRV2qkE"
      },
      "source": [
        "# **Loading Features**"
      ]
    },
    {
      "cell_type": "code",
      "metadata": {
        "colab": {
          "base_uri": "https://localhost:8080/"
        },
        "id": "YQ1cnm181dmC",
        "outputId": "c9b14204-bec9-4b48-c724-6b408b0f2c31"
      },
      "source": [
        "output = []\n",
        "\n",
        "for i in range(29):\n",
        "    file_name = \"./embed_feat/output\" + str(i + 1) + \".txt\"\n",
        "    with open(file_name, \"rb\") as fp:   #Pickling\n",
        "        file_output = pickle.load(fp)\n",
        "        for x in file_output:\n",
        "            output.append(x)\n",
        "    print(file_name + \" done\")"
      ],
      "execution_count": null,
      "outputs": [
        {
          "output_type": "stream",
          "text": [
            "./embed_feat/output1.txt done\n",
            "./embed_feat/output2.txt done\n",
            "./embed_feat/output3.txt done\n",
            "./embed_feat/output4.txt done\n",
            "./embed_feat/output5.txt done\n",
            "./embed_feat/output6.txt done\n",
            "./embed_feat/output7.txt done\n",
            "./embed_feat/output8.txt done\n",
            "./embed_feat/output9.txt done\n",
            "./embed_feat/output10.txt done\n",
            "./embed_feat/output11.txt done\n",
            "./embed_feat/output12.txt done\n",
            "./embed_feat/output13.txt done\n",
            "./embed_feat/output14.txt done\n",
            "./embed_feat/output15.txt done\n",
            "./embed_feat/output16.txt done\n",
            "./embed_feat/output17.txt done\n",
            "./embed_feat/output18.txt done\n",
            "./embed_feat/output19.txt done\n",
            "./embed_feat/output20.txt done\n",
            "./embed_feat/output21.txt done\n",
            "./embed_feat/output22.txt done\n",
            "./embed_feat/output23.txt done\n",
            "./embed_feat/output24.txt done\n",
            "./embed_feat/output25.txt done\n",
            "./embed_feat/output26.txt done\n",
            "./embed_feat/output27.txt done\n",
            "./embed_feat/output28.txt done\n",
            "./embed_feat/output29.txt done\n"
          ],
          "name": "stdout"
        }
      ]
    },
    {
      "cell_type": "code",
      "metadata": {
        "colab": {
          "base_uri": "https://localhost:8080/"
        },
        "id": "x0OzYTyM9gxk",
        "outputId": "bc3bb7fe-8729-4b8c-e1c0-19124a1506a8"
      },
      "source": [
        "X = output\n",
        "output = []\n",
        "print(len(X))"
      ],
      "execution_count": null,
      "outputs": [
        {
          "output_type": "stream",
          "text": [
            "5740\n"
          ],
          "name": "stdout"
        }
      ]
    },
    {
      "cell_type": "markdown",
      "metadata": {
        "id": "2O-p9o6B91QG"
      },
      "source": [
        "# **Loading Labels**"
      ]
    },
    {
      "cell_type": "code",
      "metadata": {
        "id": "QeTsGoWJ9vvN"
      },
      "source": [
        "with open('./embed_labels/label.txt', \"rb\") as fp:\n",
        "        y = pickle.load(fp)"
      ],
      "execution_count": null,
      "outputs": []
    },
    {
      "cell_type": "markdown",
      "metadata": {
        "id": "gYtV-qQ9A6bW"
      },
      "source": [
        "# **Preprocessing**"
      ]
    },
    {
      "cell_type": "code",
      "metadata": {
        "id": "gudhnbEhBA4U"
      },
      "source": [
        "X = np.array(X)\n",
        "X = X.reshape(5740, 158208)\n",
        "\n",
        "y = np.array(y)"
      ],
      "execution_count": null,
      "outputs": []
    },
    {
      "cell_type": "markdown",
      "metadata": {
        "id": "MpYmyJM4ABtw"
      },
      "source": [
        "# **Ensembling**"
      ]
    },
    {
      "cell_type": "code",
      "metadata": {
        "colab": {
          "base_uri": "https://localhost:8080/"
        },
        "id": "NMzfVuUj-2L9",
        "outputId": "98864780-ed79-4b74-ee08-8d035c126152"
      },
      "source": [
        "# Logistic Regression\n",
        "lr = LogisticRegression()\n",
        "lr.fit(X, y)\n",
        "\n",
        "# Save the model\n",
        "pickle.dump(lr, open(\"lr.sav\", 'wb'))"
      ],
      "execution_count": null,
      "outputs": [
        {
          "output_type": "stream",
          "text": [
            "/usr/local/lib/python3.7/dist-packages/sklearn/linear_model/_logistic.py:940: ConvergenceWarning: lbfgs failed to converge (status=1):\n",
            "STOP: TOTAL NO. of ITERATIONS REACHED LIMIT.\n",
            "\n",
            "Increase the number of iterations (max_iter) or scale the data as shown in:\n",
            "    https://scikit-learn.org/stable/modules/preprocessing.html\n",
            "Please also refer to the documentation for alternative solver options:\n",
            "    https://scikit-learn.org/stable/modules/linear_model.html#logistic-regression\n",
            "  extra_warning_msg=_LOGISTIC_SOLVER_CONVERGENCE_MSG)\n"
          ],
          "name": "stderr"
        }
      ]
    },
    {
      "cell_type": "code",
      "metadata": {
        "colab": {
          "base_uri": "https://localhost:8080/",
          "height": 206
        },
        "id": "eQqKpbXBD-3r",
        "outputId": "d89ad607-5895-4b10-8997-c8e50d08134b"
      },
      "source": [
        "# Support Vector Machine\n",
        "svc = SVC()\n",
        "svc.fit(X, y)"
      ],
      "execution_count": null,
      "outputs": [
        {
          "output_type": "error",
          "ename": "OverflowError",
          "evalue": "ignored",
          "traceback": [
            "\u001b[0;31m---------------------------------------------------------------------------\u001b[0m",
            "\u001b[0;31mOverflowError\u001b[0m                             Traceback (most recent call last)",
            "\u001b[0;32m<ipython-input-21-f28a140ca2ee>\u001b[0m in \u001b[0;36m<module>\u001b[0;34m()\u001b[0m\n\u001b[1;32m      4\u001b[0m \u001b[0;34m\u001b[0m\u001b[0m\n\u001b[1;32m      5\u001b[0m \u001b[0;31m# Save the model\u001b[0m\u001b[0;34m\u001b[0m\u001b[0;34m\u001b[0m\u001b[0;34m\u001b[0m\u001b[0m\n\u001b[0;32m----> 6\u001b[0;31m \u001b[0mpickle\u001b[0m\u001b[0;34m.\u001b[0m\u001b[0mdump\u001b[0m\u001b[0;34m(\u001b[0m\u001b[0msvc\u001b[0m\u001b[0;34m,\u001b[0m \u001b[0mopen\u001b[0m\u001b[0;34m(\u001b[0m\u001b[0;34m\"svc.sav\"\u001b[0m\u001b[0;34m,\u001b[0m \u001b[0;34m'wb'\u001b[0m\u001b[0;34m)\u001b[0m\u001b[0;34m)\u001b[0m\u001b[0;34m\u001b[0m\u001b[0;34m\u001b[0m\u001b[0m\n\u001b[0m",
            "\u001b[0;31mOverflowError\u001b[0m: cannot serialize a bytes object larger than 4 GiB"
          ]
        }
      ]
    },
    {
      "cell_type": "code",
      "metadata": {
        "id": "nuXfpr4an2Nc"
      },
      "source": [
        "# Save the model\n",
        "pickle.dump(svc, open(\"svc.sav\", 'wb'), protocol=4)"
      ],
      "execution_count": null,
      "outputs": []
    },
    {
      "cell_type": "code",
      "metadata": {
        "id": "a2YLnhB0EP_1"
      },
      "source": [
        "# Naive Bayes\n",
        "nb = GaussianNB()\n",
        "nb.fit(X, y)\n",
        "\n",
        "# Save the model\n",
        "pickle.dump(nb, open(\"nb.sav\", 'wb'))"
      ],
      "execution_count": null,
      "outputs": []
    },
    {
      "cell_type": "code",
      "metadata": {
        "id": "gazdKI0CEWVK"
      },
      "source": [
        "# Stochastic Gradient Descent\n",
        "sgd = SGDClassifier()\n",
        "sgd.fit(X, y)\n",
        "\n",
        "# Save the model\n",
        "pickle.dump(sgd, open(\"sgd.sav\", 'wb'))"
      ],
      "execution_count": null,
      "outputs": []
    },
    {
      "cell_type": "code",
      "metadata": {
        "id": "VRSr1ErrEas8"
      },
      "source": [
        "# K Nearest Neighbour\n",
        "knn = KNeighborsClassifier()\n",
        "knn.fit(X, y)\n",
        "\n",
        "# Save the model\n",
        "pickle.dump(knn, open(\"knn.sav\", 'wb'), protocol=4)"
      ],
      "execution_count": null,
      "outputs": []
    },
    {
      "cell_type": "code",
      "metadata": {
        "id": "NTjH77TGEfQZ"
      },
      "source": [
        "# Decision Tree\n",
        "dt = DecisionTreeClassifier()\n",
        "dt.fit(X, y)\n",
        "\n",
        "# Save the model\n",
        "pickle.dump(dt, open(\"dt.sav\", 'wb'))"
      ],
      "execution_count": null,
      "outputs": []
    },
    {
      "cell_type": "code",
      "metadata": {
        "id": "AUKyqivcEjMV"
      },
      "source": [
        "# Random Forest\n",
        "rf = RandomForestClassifier()\n",
        "rf.fit(X, y)\n",
        "\n",
        "# Save the model\n",
        "pickle.dump(rf, open(\"rf.sav\", 'wb'))"
      ],
      "execution_count": null,
      "outputs": []
    },
    {
      "cell_type": "markdown",
      "metadata": {
        "id": "tlfzsc6FsXoS"
      },
      "source": [
        "# **Loading Test Data**"
      ]
    },
    {
      "cell_type": "code",
      "metadata": {
        "id": "vTiNWYFlsXGA"
      },
      "source": [
        "english_stopwords = stopwords.words(\"english\")\n",
        "with open('final_stopwords.txt', encoding = 'utf-8') as f:\n",
        "    hindi_stopwords = f.readlines()\n",
        "    for i in range(len(hindi_stopwords)):\n",
        "        hindi_stopwords[i] = re.sub('\\n','',hindi_stopwords[i])\n",
        "stopwords = english_stopwords + hindi_stopwords\n",
        "english_stemmer = SnowballStemmer(\"english\")"
      ],
      "execution_count": 8,
      "outputs": []
    },
    {
      "cell_type": "code",
      "metadata": {
        "id": "hfPRYV2hEoBA"
      },
      "source": [
        "test_directories = []\n",
        "for i in glob(\"/content/drive/MyDrive/Colab Notebooks/subtask2_test/*/\"):\n",
        "    for j in glob(i+'*/'):\n",
        "        test_directories.append(j)"
      ],
      "execution_count": 9,
      "outputs": []
    },
    {
      "cell_type": "code",
      "metadata": {
        "colab": {
          "base_uri": "https://localhost:8080/"
        },
        "id": "GqeHNW5mvNkm",
        "outputId": "94bfd4c6-2382-4d77-dd7d-143d1fa984f3"
      },
      "source": [
        "test_directories"
      ],
      "execution_count": 10,
      "outputs": [
        {
          "output_type": "execute_result",
          "data": {
            "text/plain": [
              "['/content/drive/MyDrive/Colab Notebooks/subtask2_test/religious controversies/1392808101007478794/',\n",
              " '/content/drive/MyDrive/Colab Notebooks/subtask2_test/religious controversies/1393528907102515200/',\n",
              " '/content/drive/MyDrive/Colab Notebooks/subtask2_test/wuhan virus/1392426204775391233/',\n",
              " '/content/drive/MyDrive/Colab Notebooks/subtask2_test/casteism/1395755293213003779/',\n",
              " '/content/drive/MyDrive/Colab Notebooks/subtask2_test/casteism/1394882097559400449/',\n",
              " '/content/drive/MyDrive/Colab Notebooks/subtask2_test/indian politics/1395657670762405888/',\n",
              " '/content/drive/MyDrive/Colab Notebooks/subtask2_test/indian politics/1396686927227588609/',\n",
              " '/content/drive/MyDrive/Colab Notebooks/subtask2_test/indian politics/1390362987995623428/',\n",
              " '/content/drive/MyDrive/Colab Notebooks/subtask2_test/israel/1392157687723347968/',\n",
              " '/content/drive/MyDrive/Colab Notebooks/subtask2_test/israel/1392413634773409792/',\n",
              " '/content/drive/MyDrive/Colab Notebooks/subtask2_test/covid crisis/1385891002209038343/',\n",
              " '/content/drive/MyDrive/Colab Notebooks/subtask2_test/covid crisis/1395277604782022659/',\n",
              " '/content/drive/MyDrive/Colab Notebooks/subtask2_test/covid crisis/1398274810652753924/',\n",
              " '/content/drive/MyDrive/Colab Notebooks/subtask2_test/covid crisis/1396844054818680835/',\n",
              " '/content/drive/MyDrive/Colab Notebooks/subtask2_test/bantwitter/1397223849830359052/',\n",
              " '/content/drive/MyDrive/Colab Notebooks/subtask2_test/bantwitter/1397136107108663298/']"
            ]
          },
          "metadata": {},
          "execution_count": 10
        }
      ]
    },
    {
      "cell_type": "code",
      "metadata": {
        "id": "vyeZ9iMCvORx"
      },
      "source": [
        "data = []\n",
        "for i in test_directories:\n",
        "    with open(i+'data.json', encoding='utf-8') as f:\n",
        "        data.append(json.load(f))"
      ],
      "execution_count": 11,
      "outputs": []
    },
    {
      "cell_type": "code",
      "metadata": {
        "id": "qPVkmPQnvqCd"
      },
      "source": [
        "def te_flatten(d):\n",
        "    flat_text = []\n",
        "    flat_text.append({\n",
        "        'tweet_id':d['tweet_id'],\n",
        "        'text':d['tweet'],\n",
        "    })\n",
        "\n",
        "    for i in d['comments']:\n",
        "            flat_text.append({\n",
        "                'tweet_id':i['tweet_id'],\n",
        "                'text':flat_text[0]['text'] + i['tweet'],\n",
        "            })\n",
        "            if 'replies' in i.keys():\n",
        "                for j in i['replies']:\n",
        "                    flat_text.append({\n",
        "                        'tweet_id':j['tweet_id'],\n",
        "                        'text':flat_text[0]['text'] + i['tweet'] + j['tweet'],\n",
        "                    })\n",
        "    return flat_text"
      ],
      "execution_count": 12,
      "outputs": []
    },
    {
      "cell_type": "code",
      "metadata": {
        "id": "pek18XS4vQhD"
      },
      "source": [
        "test_tweetid_data = []\n",
        "#for test\n",
        "for i in range(len(data)):\n",
        "    for j in te_flatten(data[i]):\n",
        "        test_tweetid_data.append(j)"
      ],
      "execution_count": 13,
      "outputs": []
    },
    {
      "cell_type": "code",
      "metadata": {
        "id": "nz-JUMBfveLW"
      },
      "source": [
        "test_tweetid_data = []\n",
        "#for test\n",
        "for i in range(len(data)):\n",
        "    for j in te_flatten(data[i]):\n",
        "        test_tweetid_data.append(j)"
      ],
      "execution_count": 14,
      "outputs": []
    },
    {
      "cell_type": "code",
      "metadata": {
        "id": "UEJMBaJjvwCG"
      },
      "source": [
        "test_df = pd.DataFrame(test_tweetid_data, columns = test_tweetid_data[0].keys(), index = None)"
      ],
      "execution_count": 15,
      "outputs": []
    },
    {
      "cell_type": "code",
      "metadata": {
        "colab": {
          "base_uri": "https://localhost:8080/",
          "height": 206
        },
        "id": "MVyBSONAv0iq",
        "outputId": "3cf85c2c-7a73-4a02-b746-a49573719694"
      },
      "source": [
        "test_df.head()"
      ],
      "execution_count": 16,
      "outputs": [
        {
          "output_type": "execute_result",
          "data": {
            "text/html": [
              "<div>\n",
              "<style scoped>\n",
              "    .dataframe tbody tr th:only-of-type {\n",
              "        vertical-align: middle;\n",
              "    }\n",
              "\n",
              "    .dataframe tbody tr th {\n",
              "        vertical-align: top;\n",
              "    }\n",
              "\n",
              "    .dataframe thead th {\n",
              "        text-align: right;\n",
              "    }\n",
              "</style>\n",
              "<table border=\"1\" class=\"dataframe\">\n",
              "  <thead>\n",
              "    <tr style=\"text-align: right;\">\n",
              "      <th></th>\n",
              "      <th>tweet_id</th>\n",
              "      <th>text</th>\n",
              "    </tr>\n",
              "  </thead>\n",
              "  <tbody>\n",
              "    <tr>\n",
              "      <th>0</th>\n",
              "      <td>1392808101007478794</td>\n",
              "      <td>In Gujarat, some believers have been going to ...</td>\n",
              "    </tr>\n",
              "    <tr>\n",
              "      <th>1</th>\n",
              "      <td>1392808747928539137</td>\n",
              "      <td>In Gujarat, some believers have been going to ...</td>\n",
              "    </tr>\n",
              "    <tr>\n",
              "      <th>2</th>\n",
              "      <td>1392808849762000898</td>\n",
              "      <td>In Gujarat, some believers have been going to ...</td>\n",
              "    </tr>\n",
              "    <tr>\n",
              "      <th>3</th>\n",
              "      <td>1392836845361242121</td>\n",
              "      <td>In Gujarat, some believers have been going to ...</td>\n",
              "    </tr>\n",
              "    <tr>\n",
              "      <th>4</th>\n",
              "      <td>1392900440409337857</td>\n",
              "      <td>In Gujarat, some believers have been going to ...</td>\n",
              "    </tr>\n",
              "  </tbody>\n",
              "</table>\n",
              "</div>"
            ],
            "text/plain": [
              "              tweet_id                                               text\n",
              "0  1392808101007478794  In Gujarat, some believers have been going to ...\n",
              "1  1392808747928539137  In Gujarat, some believers have been going to ...\n",
              "2  1392808849762000898  In Gujarat, some believers have been going to ...\n",
              "3  1392836845361242121  In Gujarat, some believers have been going to ...\n",
              "4  1392900440409337857  In Gujarat, some believers have been going to ..."
            ]
          },
          "metadata": {},
          "execution_count": 16
        }
      ]
    },
    {
      "cell_type": "code",
      "metadata": {
        "id": "pi8xG-TVv4XI"
      },
      "source": [
        "test_tweets = test_df.text\n",
        "tweet_ids = test_df.tweet_id"
      ],
      "execution_count": 38,
      "outputs": []
    },
    {
      "cell_type": "code",
      "metadata": {
        "id": "gJ4eXZ33wF7e"
      },
      "source": [
        "regex_for_english_hindi_emojis=\"[^a-zA-Z#\\U0001F300-\\U0001F5FF'|'\\U0001F600-\\U0001F64F'|'\\U0001F680-\\U0001F6FF'|'\\u2600-\\u26FF\\u2700-\\u27BF\\u0900-\\u097F]\"\n",
        "def clean_tweet(tweet):\n",
        "    tweet = re.sub(r\"@[A-Za-z0-9]+\",' ', tweet)\n",
        "    tweet = re.sub(r\"https?://[A-Za-z0-9./]+\",' ', tweet)\n",
        "    tweet = re.sub(regex_for_english_hindi_emojis,' ', tweet)\n",
        "    tweet = re.sub(\"RT \", \" \", tweet)\n",
        "    tweet = re.sub(\"\\n\", \" \", tweet)\n",
        "    tweet = re.sub(r\" +\", \" \", tweet)\n",
        "    tokens = []\n",
        "    for token in tweet.split():\n",
        "        if token not in stopwords:\n",
        "            token = english_stemmer.stem(token)\n",
        "            token = hindi_stemmer.hi_stem(token)\n",
        "            tokens.append(token)\n",
        "    return \" \".join(tokens)"
      ],
      "execution_count": 39,
      "outputs": []
    },
    {
      "cell_type": "code",
      "metadata": {
        "id": "Y8T_a_wfv71m"
      },
      "source": [
        "X_test = [clean_tweet(tweet) for tweet in test_tweets]"
      ],
      "execution_count": 40,
      "outputs": []
    },
    {
      "cell_type": "markdown",
      "metadata": {
        "id": "6jwHTzkuwZX_"
      },
      "source": [
        "# **Load Model**"
      ]
    },
    {
      "cell_type": "code",
      "metadata": {
        "colab": {
          "base_uri": "https://localhost:8080/",
          "height": 186,
          "referenced_widgets": [
            "144b70c4825e445fb34f46acc878c57a",
            "849d48ef307c437faa37741bca844d20",
            "1c637924a7a642008eb788d1a1ded5f3",
            "23dcf61245584712b91198378ad82869",
            "b5549d69c74d4bbdb50f403e237cdb29",
            "3bb93541e0fe47b7a2e31561ba813c40",
            "a9b762750a424e709a30bb93755081ee",
            "b2ca52a264594b99ba31aca169300e21",
            "dc42708b67304ee39c39d45eadec98a7",
            "01d3f2b398db4025a7ff441156ee7ae5",
            "5e09fea62f5c49b8888838d22f2226b4",
            "decfbf77ae7b4ee3804ab3a3c219ba0b",
            "5299ac2a7e7048d78b7a0e14ceb7f1be",
            "3e1a48a6f4754ad893de6a8066496a8f",
            "fff2321f774a4e3a8f3fdbc9c073f6b7",
            "fe6ffe6da77e4d6b9413fcaea220cffc",
            "e6fb6d60c9264ef0beb06647430f73bd",
            "d13ae4477fa3411a9ad1e25e2ffc3cff",
            "87c57e5a78d047de9f10ae3ebae24f77",
            "4fa817acdbe443c9ac5eae68858df4e6",
            "cce2b13532df48a3bd77c86499faba29",
            "eb462ecf5517443dbab7bb3aa525b25f",
            "5a75d49538f3473eba03062cbda5ef81",
            "02a073eea1db4566aa638768bceece7f",
            "f4a241c7432b477ca93b404631c66133",
            "d33afbfb8622498cab06effe382f775a",
            "64d793ecc94545f1a0468a3aaa0c7d33",
            "046d6ecf65d149d6ae01a5cadb1194da",
            "a569ef50987a4155b2e26138c963e23a",
            "66386d8dd5ab4bd0937f79c366acfb04",
            "9a49769adbcb430b8e8b73d6a56679af",
            "40f145c8d7974815b415215b17e95dcd",
            "6a1ad5dc88fa4d1fad86a86bbb485265"
          ]
        },
        "id": "GIibszJ6v923",
        "outputId": "56ed44e3-71aa-44e5-89fa-5343b203fb17"
      },
      "source": [
        "from transformers import AutoTokenizer, AutoModel\n",
        "  \n",
        "tokenizer = AutoTokenizer.from_pretrained(\"ai4bharat/indic-bert\")\n",
        "\n",
        "model = AutoModel.from_pretrained(\"ai4bharat/indic-bert\")"
      ],
      "execution_count": 41,
      "outputs": [
        {
          "output_type": "display_data",
          "data": {
            "application/vnd.jupyter.widget-view+json": {
              "model_id": "144b70c4825e445fb34f46acc878c57a",
              "version_minor": 0,
              "version_major": 2
            },
            "text/plain": [
              "Downloading:   0%|          | 0.00/507 [00:00<?, ?B/s]"
            ]
          },
          "metadata": {}
        },
        {
          "output_type": "display_data",
          "data": {
            "application/vnd.jupyter.widget-view+json": {
              "model_id": "decfbf77ae7b4ee3804ab3a3c219ba0b",
              "version_minor": 0,
              "version_major": 2
            },
            "text/plain": [
              "Downloading:   0%|          | 0.00/5.65M [00:00<?, ?B/s]"
            ]
          },
          "metadata": {}
        },
        {
          "output_type": "display_data",
          "data": {
            "application/vnd.jupyter.widget-view+json": {
              "model_id": "5a75d49538f3473eba03062cbda5ef81",
              "version_minor": 0,
              "version_major": 2
            },
            "text/plain": [
              "Downloading:   0%|          | 0.00/135M [00:00<?, ?B/s]"
            ]
          },
          "metadata": {}
        },
        {
          "output_type": "stream",
          "text": [
            "Some weights of the model checkpoint at ai4bharat/indic-bert were not used when initializing AlbertModel: ['predictions.decoder.weight', 'sop_classifier.classifier.bias', 'predictions.decoder.bias', 'sop_classifier.classifier.weight', 'predictions.LayerNorm.weight', 'predictions.LayerNorm.bias', 'predictions.dense.bias', 'predictions.bias', 'predictions.dense.weight']\n",
            "- This IS expected if you are initializing AlbertModel from the checkpoint of a model trained on another task or with another architecture (e.g. initializing a BertForSequenceClassification model from a BertForPreTraining model).\n",
            "- This IS NOT expected if you are initializing AlbertModel from the checkpoint of a model that you expect to be exactly identical (initializing a BertForSequenceClassification model from a BertForSequenceClassification model).\n"
          ],
          "name": "stderr"
        }
      ]
    },
    {
      "cell_type": "code",
      "metadata": {
        "colab": {
          "base_uri": "https://localhost:8080/"
        },
        "id": "Q9b_FoRtwYlq",
        "outputId": "fafcf5fc-3dd2-4dfa-900a-19281c203e5e"
      },
      "source": [
        "print(len(X_test))"
      ],
      "execution_count": 42,
      "outputs": [
        {
          "output_type": "stream",
          "text": [
            "1348\n"
          ],
          "name": "stdout"
        }
      ]
    },
    {
      "cell_type": "code",
      "metadata": {
        "id": "GXNPcHPZwgvO"
      },
      "source": [
        "tokenized_input = tokenizer(\n",
        "        X_test,\n",
        "        padding=True,\n",
        "        truncation=False,\n",
        "        return_tensors='pt'\n",
        "    )"
      ],
      "execution_count": 43,
      "outputs": []
    },
    {
      "cell_type": "code",
      "metadata": {
        "id": "77EpPGAXwl-M"
      },
      "source": [
        "tokenized_input['input_ids'] = tokenized_input['input_ids'].cpu().detach().numpy()\n",
        "tokenized_input['token_type_ids'] = tokenized_input['token_type_ids'].cpu().detach().numpy()\n",
        "tokenized_input['attention_mask'] = tokenized_input['attention_mask'].cpu().detach().numpy()"
      ],
      "execution_count": 44,
      "outputs": []
    },
    {
      "cell_type": "code",
      "metadata": {
        "colab": {
          "base_uri": "https://localhost:8080/"
        },
        "id": "zTGlnK0hwpT2",
        "outputId": "4a2fe015-d331-4a04-d635-4ae1fa889346"
      },
      "source": [
        "output = []\n",
        "\n",
        "j = 1\n",
        "\n",
        "for i in range(len(X_test)):\n",
        "    \n",
        "    input = {}\n",
        "    input['input_ids'] = torch.from_numpy(tokenized_input['input_ids'][i].reshape(1, 177))\n",
        "    input['token_type_ids'] = torch.from_numpy(tokenized_input['token_type_ids'][i].reshape(1, 177))\n",
        "    input['attention_mask'] = torch.from_numpy(tokenized_input['attention_mask'][i].reshape(1, 177))\n",
        "\n",
        "    model_output = model(**input)\n",
        "    model_output = model_output.last_hidden_state.cpu().detach().numpy()\n",
        "    output.append(model_output)\n",
        "    if ((i + 1) % 200) == 0:\n",
        "        file_name = \"/content/drive/MyDrive/Colab Notebooks/test_embed_feat/output\" + str(j) + \".txt\"\n",
        "        with open(file_name, \"wb\") as fp:\n",
        "            pickle.dump(output, fp)\n",
        "        print(file_name + \" done\")\n",
        "        output = []\n",
        "        j += 1\n",
        "        \n",
        "file_name = \"/content/drive/MyDrive/Colab Notebooks/test_embed_feat/output\" + str(j) + \".txt\"\n",
        "with open(file_name, \"wb\") as fp:\n",
        "    pickle.dump(output, fp)\n",
        "print(file_name + \" done\")\n",
        "output = []"
      ],
      "execution_count": 45,
      "outputs": [
        {
          "output_type": "stream",
          "text": [
            "/content/drive/MyDrive/Colab Notebooks/test_embed_feat/output1.txt done\n",
            "/content/drive/MyDrive/Colab Notebooks/test_embed_feat/output2.txt done\n",
            "/content/drive/MyDrive/Colab Notebooks/test_embed_feat/output3.txt done\n",
            "/content/drive/MyDrive/Colab Notebooks/test_embed_feat/output4.txt done\n",
            "/content/drive/MyDrive/Colab Notebooks/test_embed_feat/output5.txt done\n",
            "/content/drive/MyDrive/Colab Notebooks/test_embed_feat/output6.txt done\n",
            "/content/drive/MyDrive/Colab Notebooks/test_embed_feat/output7.txt done\n"
          ],
          "name": "stdout"
        }
      ]
    },
    {
      "cell_type": "markdown",
      "metadata": {
        "id": "j9Jc-_j98MQm"
      },
      "source": [
        "# **Loading Features from Disk**"
      ]
    },
    {
      "cell_type": "code",
      "metadata": {
        "colab": {
          "base_uri": "https://localhost:8080/"
        },
        "id": "ZrI6iMAzw41n",
        "outputId": "b9306bda-5b19-424e-a430-2147cfc04504"
      },
      "source": [
        "output = []\n",
        "\n",
        "for i in range(7):\n",
        "    file_name = \"/content/drive/MyDrive/Colab Notebooks/test_embed_feat/output\" + str(i + 1) + \".txt\"\n",
        "    with open(file_name, \"rb\") as fp:   #Pickling\n",
        "        file_output = pickle.load(fp)\n",
        "        for x in file_output:\n",
        "            output.append(x)\n",
        "    print(file_name + \" done\")"
      ],
      "execution_count": 82,
      "outputs": [
        {
          "output_type": "stream",
          "text": [
            "/content/drive/MyDrive/Colab Notebooks/test_embed_feat/output1.txt done\n",
            "/content/drive/MyDrive/Colab Notebooks/test_embed_feat/output2.txt done\n",
            "/content/drive/MyDrive/Colab Notebooks/test_embed_feat/output3.txt done\n",
            "/content/drive/MyDrive/Colab Notebooks/test_embed_feat/output4.txt done\n",
            "/content/drive/MyDrive/Colab Notebooks/test_embed_feat/output5.txt done\n",
            "/content/drive/MyDrive/Colab Notebooks/test_embed_feat/output6.txt done\n",
            "/content/drive/MyDrive/Colab Notebooks/test_embed_feat/output7.txt done\n"
          ],
          "name": "stdout"
        }
      ]
    },
    {
      "cell_type": "code",
      "metadata": {
        "id": "pow1FU3U8Wu1"
      },
      "source": [
        "X_test = output\n",
        "output = []"
      ],
      "execution_count": 83,
      "outputs": []
    },
    {
      "cell_type": "markdown",
      "metadata": {
        "id": "gVfqNdPr9D3v"
      },
      "source": [
        "# **Ensembling All Models**"
      ]
    },
    {
      "cell_type": "code",
      "metadata": {
        "id": "pRUzPuBkX3XM"
      },
      "source": [
        "X_test = np.array(X_test)\n",
        "X_test.shape\n",
        "X_test = X_test.reshape(1348, 135936)"
      ],
      "execution_count": 85,
      "outputs": []
    },
    {
      "cell_type": "code",
      "metadata": {
        "id": "hobS9JzoS7Lu"
      },
      "source": [
        "X_test = X_test.tolist()"
      ],
      "execution_count": 86,
      "outputs": []
    },
    {
      "cell_type": "code",
      "metadata": {
        "id": "ggO0KEIATgm-"
      },
      "source": [
        "zero = [0] * 22272"
      ],
      "execution_count": 87,
      "outputs": []
    },
    {
      "cell_type": "code",
      "metadata": {
        "id": "R9lIzGbNTtJm"
      },
      "source": [
        "for i in range(len(X_test)):\n",
        "  X_test[i] = X_test[i] + zero"
      ],
      "execution_count": 88,
      "outputs": []
    },
    {
      "cell_type": "code",
      "metadata": {
        "id": "PRO2gXifW-Ox"
      },
      "source": [
        "X_test = np.array(X_test)\n",
        "X_test.shape\n",
        "X_test = X_test.reshape(1348, 158208)"
      ],
      "execution_count": 89,
      "outputs": []
    },
    {
      "cell_type": "code",
      "metadata": {
        "id": "I4s7ah-PYLek"
      },
      "source": [
        "pickle.dump(X_test, open(\"/content/drive/MyDrive/Colab Notebooks/X_test.sav\", \"wb\"))"
      ],
      "execution_count": 91,
      "outputs": []
    },
    {
      "cell_type": "code",
      "metadata": {
        "id": "p6orf8ivZ1Me"
      },
      "source": [
        "import pickle\n",
        "import numpy as np"
      ],
      "execution_count": 13,
      "outputs": []
    },
    {
      "cell_type": "code",
      "metadata": {
        "id": "U6TS4nB1YcIU"
      },
      "source": [
        "X_test = pickle.load(open(\"/content/drive/MyDrive/Colab Notebooks/X_test.sav\", \"rb\"))"
      ],
      "execution_count": 8,
      "outputs": []
    },
    {
      "cell_type": "code",
      "metadata": {
        "id": "AC75hoeqZs0g"
      },
      "source": [
        "lr = pickle.load(open(\"/content/drive/MyDrive/Colab Notebooks/lr.sav\", 'rb'))\n",
        "# svc = pickle.load(open(\"/content/drive/MyDrive/Colab Notebooks/svc.sav\", 'rb'))\n",
        "nb = pickle.load(open(\"/content/drive/MyDrive/Colab Notebooks/nb.sav\", 'rb'))\n",
        "sgd = pickle.load(open(\"/content/drive/MyDrive/Colab Notebooks/sgd.sav\", 'rb'))\n",
        "# knn = pickle.load(open(\"/content/drive/MyDrive/Colab Notebooks/knn.sav\", 'rb'))\n",
        "dt = pickle.load(open(\"/content/drive/MyDrive/Colab Notebooks/dt.sav\", 'rb'))\n",
        "rf = pickle.load(open(\"/content/drive/MyDrive/Colab Notebooks/rf.sav\", 'rb'))"
      ],
      "execution_count": 10,
      "outputs": []
    },
    {
      "cell_type": "code",
      "metadata": {
        "id": "d39J928pADGE"
      },
      "source": [
        "lr_pred = lr.predict(X_test)\n",
        "# svc_pred = svc.predict(X_test)\n",
        "nb_pred = nb.predict(X_test)\n",
        "sgd_pred = sgd.predict(X_test)\n",
        "# knn_pred = knn.predict(X_test)\n",
        "dt_pred = dt.predict(X_test)\n",
        "rf_pred = rf.predict(X_test)"
      ],
      "execution_count": 11,
      "outputs": []
    },
    {
      "cell_type": "code",
      "metadata": {
        "id": "RDKvASFn9Ie7"
      },
      "source": [
        "# Voting\n",
        "\n",
        "y_pred = []\n",
        "\n",
        "for i in range(len(lr_pred)):\n",
        "    one = 0\n",
        "    zero = 0\n",
        "    # predictions = [lr_pred[i], svc_pred[i], nb_pred[i], sgd_pred[i], knn_pred[i], dt_pred[i], rf_pred[i]]\n",
        "    predictions = [lr_pred[i], nb_pred[i], sgd_pred[i], dt_pred[i], rf_pred[i]]\n",
        "    for pred in predictions:\n",
        "        if pred == 1: one += 1\n",
        "        if pred == 0: zero +=1\n",
        "    if one > zero: y_pred.append(1)\n",
        "    else: y_pred.append(0)\n",
        "\n",
        "y_pred = np.array(y_pred)"
      ],
      "execution_count": 14,
      "outputs": []
    },
    {
      "cell_type": "code",
      "metadata": {
        "id": "FqY4geUi9fx-",
        "colab": {
          "base_uri": "https://localhost:8080/"
        },
        "outputId": "3a02a5d1-a6a5-45e0-9d34-0957b0a44c92"
      },
      "source": [
        "y_pred"
      ],
      "execution_count": 15,
      "outputs": [
        {
          "output_type": "execute_result",
          "data": {
            "text/plain": [
              "array([0, 0, 0, ..., 0, 1, 1])"
            ]
          },
          "metadata": {},
          "execution_count": 15
        }
      ]
    },
    {
      "cell_type": "code",
      "metadata": {
        "id": "GbGK-WBp9hr2"
      },
      "source": [
        "pickle.dump(y_pred, open(\"/content/drive/MyDrive/Colab Notebooks/y_pred.sav\", \"wb\"))"
      ],
      "execution_count": 16,
      "outputs": []
    },
    {
      "cell_type": "markdown",
      "metadata": {
        "id": "yVjS7sfwa6JO"
      },
      "source": [
        "# **Submission**"
      ]
    },
    {
      "cell_type": "code",
      "metadata": {
        "colab": {
          "base_uri": "https://localhost:8080/",
          "height": 206
        },
        "id": "7enH9jGPa64R",
        "outputId": "08116716-bcd4-41c1-e015-e985e4cdd236"
      },
      "source": [
        "test_df.head()"
      ],
      "execution_count": 17,
      "outputs": [
        {
          "output_type": "execute_result",
          "data": {
            "text/html": [
              "<div>\n",
              "<style scoped>\n",
              "    .dataframe tbody tr th:only-of-type {\n",
              "        vertical-align: middle;\n",
              "    }\n",
              "\n",
              "    .dataframe tbody tr th {\n",
              "        vertical-align: top;\n",
              "    }\n",
              "\n",
              "    .dataframe thead th {\n",
              "        text-align: right;\n",
              "    }\n",
              "</style>\n",
              "<table border=\"1\" class=\"dataframe\">\n",
              "  <thead>\n",
              "    <tr style=\"text-align: right;\">\n",
              "      <th></th>\n",
              "      <th>tweet_id</th>\n",
              "      <th>text</th>\n",
              "    </tr>\n",
              "  </thead>\n",
              "  <tbody>\n",
              "    <tr>\n",
              "      <th>0</th>\n",
              "      <td>1392808101007478794</td>\n",
              "      <td>In Gujarat, some believers have been going to ...</td>\n",
              "    </tr>\n",
              "    <tr>\n",
              "      <th>1</th>\n",
              "      <td>1392808747928539137</td>\n",
              "      <td>In Gujarat, some believers have been going to ...</td>\n",
              "    </tr>\n",
              "    <tr>\n",
              "      <th>2</th>\n",
              "      <td>1392808849762000898</td>\n",
              "      <td>In Gujarat, some believers have been going to ...</td>\n",
              "    </tr>\n",
              "    <tr>\n",
              "      <th>3</th>\n",
              "      <td>1392836845361242121</td>\n",
              "      <td>In Gujarat, some believers have been going to ...</td>\n",
              "    </tr>\n",
              "    <tr>\n",
              "      <th>4</th>\n",
              "      <td>1392900440409337857</td>\n",
              "      <td>In Gujarat, some believers have been going to ...</td>\n",
              "    </tr>\n",
              "  </tbody>\n",
              "</table>\n",
              "</div>"
            ],
            "text/plain": [
              "              tweet_id                                               text\n",
              "0  1392808101007478794  In Gujarat, some believers have been going to ...\n",
              "1  1392808747928539137  In Gujarat, some believers have been going to ...\n",
              "2  1392808849762000898  In Gujarat, some believers have been going to ...\n",
              "3  1392836845361242121  In Gujarat, some believers have been going to ...\n",
              "4  1392900440409337857  In Gujarat, some believers have been going to ..."
            ]
          },
          "metadata": {},
          "execution_count": 17
        }
      ]
    },
    {
      "cell_type": "code",
      "metadata": {
        "id": "9IbsIVLnBL1F"
      },
      "source": [
        "y_test = pickle.load(open(\"/content/drive/MyDrive/Colab Notebooks/y_pred.sav\", \"rb\"))"
      ],
      "execution_count": 18,
      "outputs": []
    },
    {
      "cell_type": "code",
      "metadata": {
        "colab": {
          "base_uri": "https://localhost:8080/"
        },
        "id": "epc6kwPIbE85",
        "outputId": "a5f90c0c-20b7-448e-879b-33dc9471bc4d"
      },
      "source": [
        "len(y_test)"
      ],
      "execution_count": 20,
      "outputs": [
        {
          "output_type": "execute_result",
          "data": {
            "text/plain": [
              "1348"
            ]
          },
          "metadata": {},
          "execution_count": 20
        }
      ]
    },
    {
      "cell_type": "code",
      "metadata": {
        "id": "zX4H6vIFbez2"
      },
      "source": [
        "y_test = y_test.tolist()"
      ],
      "execution_count": 22,
      "outputs": []
    },
    {
      "cell_type": "code",
      "metadata": {
        "id": "FeEe23HybF9Z"
      },
      "source": [
        "for i in range(len(y_test)):\n",
        "  if y_test[i] == 0:\n",
        "    y_test[i] = 'NONE'\n",
        "  else:\n",
        "    y_test[i] = 'HOF'"
      ],
      "execution_count": 23,
      "outputs": []
    },
    {
      "cell_type": "code",
      "metadata": {
        "id": "jaexAjMabcSB"
      },
      "source": [
        "y_test = np.array(y_test)"
      ],
      "execution_count": 25,
      "outputs": []
    },
    {
      "cell_type": "code",
      "metadata": {
        "colab": {
          "base_uri": "https://localhost:8080/"
        },
        "id": "rjibeaUzbjZO",
        "outputId": "be592d59-0af1-415b-e928-55dd0104196a"
      },
      "source": [
        "y_test"
      ],
      "execution_count": 26,
      "outputs": [
        {
          "output_type": "execute_result",
          "data": {
            "text/plain": [
              "array(['NONE', 'NONE', 'NONE', ..., 'NONE', 'HOF', 'HOF'], dtype='<U4')"
            ]
          },
          "metadata": {},
          "execution_count": 26
        }
      ]
    },
    {
      "cell_type": "code",
      "metadata": {
        "id": "tK76-6PmboiE"
      },
      "source": [
        "test_df['label'] = y_test"
      ],
      "execution_count": 27,
      "outputs": []
    },
    {
      "cell_type": "code",
      "metadata": {
        "colab": {
          "base_uri": "https://localhost:8080/",
          "height": 206
        },
        "id": "oQEVUu1mcRJc",
        "outputId": "c1542231-cd38-4b58-ed1f-811d434103ca"
      },
      "source": [
        "test_df.head()"
      ],
      "execution_count": 28,
      "outputs": [
        {
          "output_type": "execute_result",
          "data": {
            "text/html": [
              "<div>\n",
              "<style scoped>\n",
              "    .dataframe tbody tr th:only-of-type {\n",
              "        vertical-align: middle;\n",
              "    }\n",
              "\n",
              "    .dataframe tbody tr th {\n",
              "        vertical-align: top;\n",
              "    }\n",
              "\n",
              "    .dataframe thead th {\n",
              "        text-align: right;\n",
              "    }\n",
              "</style>\n",
              "<table border=\"1\" class=\"dataframe\">\n",
              "  <thead>\n",
              "    <tr style=\"text-align: right;\">\n",
              "      <th></th>\n",
              "      <th>tweet_id</th>\n",
              "      <th>text</th>\n",
              "      <th>label</th>\n",
              "    </tr>\n",
              "  </thead>\n",
              "  <tbody>\n",
              "    <tr>\n",
              "      <th>0</th>\n",
              "      <td>1392808101007478794</td>\n",
              "      <td>In Gujarat, some believers have been going to ...</td>\n",
              "      <td>NONE</td>\n",
              "    </tr>\n",
              "    <tr>\n",
              "      <th>1</th>\n",
              "      <td>1392808747928539137</td>\n",
              "      <td>In Gujarat, some believers have been going to ...</td>\n",
              "      <td>NONE</td>\n",
              "    </tr>\n",
              "    <tr>\n",
              "      <th>2</th>\n",
              "      <td>1392808849762000898</td>\n",
              "      <td>In Gujarat, some believers have been going to ...</td>\n",
              "      <td>NONE</td>\n",
              "    </tr>\n",
              "    <tr>\n",
              "      <th>3</th>\n",
              "      <td>1392836845361242121</td>\n",
              "      <td>In Gujarat, some believers have been going to ...</td>\n",
              "      <td>NONE</td>\n",
              "    </tr>\n",
              "    <tr>\n",
              "      <th>4</th>\n",
              "      <td>1392900440409337857</td>\n",
              "      <td>In Gujarat, some believers have been going to ...</td>\n",
              "      <td>NONE</td>\n",
              "    </tr>\n",
              "  </tbody>\n",
              "</table>\n",
              "</div>"
            ],
            "text/plain": [
              "              tweet_id                                               text label\n",
              "0  1392808101007478794  In Gujarat, some believers have been going to ...  NONE\n",
              "1  1392808747928539137  In Gujarat, some believers have been going to ...  NONE\n",
              "2  1392808849762000898  In Gujarat, some believers have been going to ...  NONE\n",
              "3  1392836845361242121  In Gujarat, some believers have been going to ...  NONE\n",
              "4  1392900440409337857  In Gujarat, some believers have been going to ...  NONE"
            ]
          },
          "metadata": {},
          "execution_count": 28
        }
      ]
    },
    {
      "cell_type": "code",
      "metadata": {
        "id": "-RyCf0gecTYP"
      },
      "source": [
        "tweet_id = test_df['tweet_id']"
      ],
      "execution_count": 29,
      "outputs": []
    },
    {
      "cell_type": "code",
      "metadata": {
        "id": "HrYntIbLcwh4"
      },
      "source": [
        "tweet_id = np.array(tweet_id)"
      ],
      "execution_count": 31,
      "outputs": []
    },
    {
      "cell_type": "code",
      "metadata": {
        "colab": {
          "base_uri": "https://localhost:8080/"
        },
        "id": "-zQRmD3rcyPo",
        "outputId": "bab611aa-bedb-4ee5-8ef6-578ab721b4b4"
      },
      "source": [
        "tweet_id"
      ],
      "execution_count": 32,
      "outputs": [
        {
          "output_type": "execute_result",
          "data": {
            "text/plain": [
              "array(['1392808101007478794', '1392808747928539137',\n",
              "       '1392808849762000898', ..., '1397217889237745666',\n",
              "       '1397224681229504520', '1397400844258013190'], dtype=object)"
            ]
          },
          "metadata": {},
          "execution_count": 32
        }
      ]
    },
    {
      "cell_type": "code",
      "metadata": {
        "id": "GvWEd7nQc3D4"
      },
      "source": [
        "submission = {'tweet_id': tweet_id, 'label':y_test}\n",
        "submission = pd.DataFrame(submission)"
      ],
      "execution_count": 34,
      "outputs": []
    },
    {
      "cell_type": "code",
      "metadata": {
        "colab": {
          "base_uri": "https://localhost:8080/",
          "height": 206
        },
        "id": "UcfMKI_IdCu2",
        "outputId": "b7d2b327-0882-4cc5-d584-7896da7c3b3d"
      },
      "source": [
        "submission.head()"
      ],
      "execution_count": 35,
      "outputs": [
        {
          "output_type": "execute_result",
          "data": {
            "text/html": [
              "<div>\n",
              "<style scoped>\n",
              "    .dataframe tbody tr th:only-of-type {\n",
              "        vertical-align: middle;\n",
              "    }\n",
              "\n",
              "    .dataframe tbody tr th {\n",
              "        vertical-align: top;\n",
              "    }\n",
              "\n",
              "    .dataframe thead th {\n",
              "        text-align: right;\n",
              "    }\n",
              "</style>\n",
              "<table border=\"1\" class=\"dataframe\">\n",
              "  <thead>\n",
              "    <tr style=\"text-align: right;\">\n",
              "      <th></th>\n",
              "      <th>tweet_id</th>\n",
              "      <th>label</th>\n",
              "    </tr>\n",
              "  </thead>\n",
              "  <tbody>\n",
              "    <tr>\n",
              "      <th>0</th>\n",
              "      <td>1392808101007478794</td>\n",
              "      <td>NONE</td>\n",
              "    </tr>\n",
              "    <tr>\n",
              "      <th>1</th>\n",
              "      <td>1392808747928539137</td>\n",
              "      <td>NONE</td>\n",
              "    </tr>\n",
              "    <tr>\n",
              "      <th>2</th>\n",
              "      <td>1392808849762000898</td>\n",
              "      <td>NONE</td>\n",
              "    </tr>\n",
              "    <tr>\n",
              "      <th>3</th>\n",
              "      <td>1392836845361242121</td>\n",
              "      <td>NONE</td>\n",
              "    </tr>\n",
              "    <tr>\n",
              "      <th>4</th>\n",
              "      <td>1392900440409337857</td>\n",
              "      <td>NONE</td>\n",
              "    </tr>\n",
              "  </tbody>\n",
              "</table>\n",
              "</div>"
            ],
            "text/plain": [
              "              tweet_id label\n",
              "0  1392808101007478794  NONE\n",
              "1  1392808747928539137  NONE\n",
              "2  1392808849762000898  NONE\n",
              "3  1392836845361242121  NONE\n",
              "4  1392900440409337857  NONE"
            ]
          },
          "metadata": {},
          "execution_count": 35
        }
      ]
    },
    {
      "cell_type": "code",
      "metadata": {
        "id": "1_B-HELLdGtW"
      },
      "source": [
        "submission.to_csv('/content/drive/MyDrive/Colab Notebooks/indic_bert_submission.csv', index = False)"
      ],
      "execution_count": 36,
      "outputs": []
    },
    {
      "cell_type": "code",
      "metadata": {
        "id": "M2LLslNXdX07"
      },
      "source": [
        ""
      ],
      "execution_count": null,
      "outputs": []
    }
  ]
}