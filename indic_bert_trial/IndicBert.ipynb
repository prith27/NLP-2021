{
 "cells": [
  {
   "cell_type": "markdown",
   "metadata": {},
   "source": [
    "## Environment Setup"
   ]
  },
  {
   "cell_type": "code",
   "execution_count": 1,
   "metadata": {
    "colab": {
     "base_uri": "https://localhost:8080/"
    },
    "id": "TxVtHpFnh4ss",
    "outputId": "ecc3c094-b89a-47ac-e6e3-93ff3d5c7c9a"
   },
   "outputs": [],
   "source": [
    "# ! pip install -q transformers\n",
    "# ! pip install -q sentencepiece\n",
    "# ! pip install -q nltk\n",
    "# ! git clone https://github.com/bhargav25dave1996/ICHCL_baseline.git\n",
    "# % cd /content/ICHCL_baseline"
   ]
  },
  {
   "cell_type": "markdown",
   "metadata": {},
   "source": [
    "## Importing Libraries"
   ]
  },
  {
   "cell_type": "code",
   "execution_count": 2,
   "metadata": {
    "colab": {
     "base_uri": "https://localhost:8080/"
    },
    "id": "lp8OHXX6jdhv",
    "outputId": "725a78a3-ae0e-4a5b-fbf5-57fc1c4bc05e"
   },
   "outputs": [
    {
     "name": "stderr",
     "output_type": "stream",
     "text": [
      "[nltk_data] Downloading package stopwords to /home/sri/nltk_data...\n",
      "[nltk_data]   Package stopwords is already up-to-date!\n",
      "2021-08-21 18:58:33.906299: W tensorflow/stream_executor/platform/default/dso_loader.cc:64] Could not load dynamic library 'libcudart.so.11.0'; dlerror: libcudart.so.11.0: cannot open shared object file: No such file or directory\n",
      "2021-08-21 18:58:33.906360: I tensorflow/stream_executor/cuda/cudart_stub.cc:29] Ignore above cudart dlerror if you do not have a GPU set up on your machine.\n"
     ]
    }
   ],
   "source": [
    "import nltk\n",
    "nltk.download('stopwords')\n",
    "\n",
    "import pandas as pd\n",
    "import numpy as np\n",
    "from glob import glob\n",
    "import re\n",
    "import json\n",
    "\n",
    "import time\n",
    "import pickle\n",
    "\n",
    "from sklearn.feature_extraction.text import TfidfVectorizer\n",
    "from sklearn.model_selection import train_test_split\n",
    "from sklearn.linear_model import LogisticRegression\n",
    "from sklearn.metrics import classification_report\n",
    "from sklearn.preprocessing import LabelEncoder\n",
    "\n",
    "from tensorflow.keras import Sequential\n",
    "from tensorflow.keras.layers import Dense, Dropout\n",
    "\n",
    "\n",
    "from nltk.corpus import stopwords\n",
    "from nltk.stem import SnowballStemmer\n",
    "import stemmer as hindi_stemmer\n",
    "\n",
    "import torch\n",
    "import tensorflow as tf"
   ]
  },
  {
   "cell_type": "code",
   "execution_count": 3,
   "metadata": {
    "id": "cxXPsWtsj-MW"
   },
   "outputs": [],
   "source": [
    "english_stopwords = stopwords.words(\"english\")\n",
    "with open('final_stopwords.txt', encoding = 'utf-8') as f:\n",
    "    hindi_stopwords = f.readlines()\n",
    "    for i in range(len(hindi_stopwords)):\n",
    "        hindi_stopwords[i] = re.sub('\\n','',hindi_stopwords[i])\n",
    "stopwords = english_stopwords + hindi_stopwords\n",
    "english_stemmer = SnowballStemmer(\"english\")"
   ]
  },
  {
   "cell_type": "markdown",
   "metadata": {
    "id": "XIUBEmrnkCTc"
   },
   "source": [
    "## Reading Data"
   ]
  },
  {
   "cell_type": "code",
   "execution_count": 4,
   "metadata": {
    "id": "5QyaBeVXkEn_"
   },
   "outputs": [],
   "source": [
    "train_directories = []\n",
    "for i in glob(\"data/train/*/\"):\n",
    "    for j in glob(i+'*/'):\n",
    "        train_directories.append(j)"
   ]
  },
  {
   "cell_type": "code",
   "execution_count": 5,
   "metadata": {
    "id": "I4K14rGCkHG9"
   },
   "outputs": [],
   "source": [
    "data = []\n",
    "for i in train_directories:\n",
    "    with open(i+'data.json', encoding='utf-8') as f:\n",
    "        data.append(json.load(f))\n",
    "labels = []\n",
    "for i in train_directories:\n",
    "    with open(i+'labels.json', encoding='utf-8') as f:\n",
    "        labels.append(json.load(f))"
   ]
  },
  {
   "cell_type": "code",
   "execution_count": 6,
   "metadata": {
    "id": "OiB3R90fkJFV"
   },
   "outputs": [],
   "source": [
    "def tr_flatten(d,l):\n",
    "    flat_text = []\n",
    "    flat_text.append({\n",
    "        'tweet_id':d['tweet_id'],\n",
    "        'text':d['tweet'],\n",
    "        'label':l[d['tweet_id']]\n",
    "    })\n",
    "\n",
    "    for i in d['comments']:\n",
    "            flat_text.append({\n",
    "                'tweet_id':i['tweet_id'],\n",
    "                'text':flat_text[0]['text'] +' '+i['tweet'], #flattening comments(appending one after the other)\n",
    "                'label':l[i['tweet_id']]\n",
    "            })\n",
    "            if 'replies' in i.keys():\n",
    "                for j in i['replies']:\n",
    "                    flat_text.append({\n",
    "                        'tweet_id':j['tweet_id'],\n",
    "                        'text':flat_text[0]['text'] +' '+ i['tweet'] +' '+ j['tweet'], #flattening replies\n",
    "                        'label':l[j['tweet_id']]\n",
    "                    })\n",
    "    return flat_text\n",
    "\n",
    "def te_flatten(d):\n",
    "    flat_text = []\n",
    "    flat_text.append({\n",
    "        'tweet_id':d['tweet_id'],\n",
    "        'text':d['tweet'],\n",
    "    })\n",
    "\n",
    "    for i in d['comments']:\n",
    "            flat_text.append({\n",
    "                'tweet_id':i['tweet_id'],\n",
    "                'text':flat_text[0]['text'] + i['tweet'],\n",
    "            })\n",
    "            if 'replies' in i.keys():\n",
    "                for j in i['replies']:\n",
    "                    flat_text.append({\n",
    "                        'tweet_id':j['tweet_id'],\n",
    "                        'text':flat_text[0]['text'] + i['tweet'] + j['tweet'],\n",
    "                    })\n",
    "    return flat_text"
   ]
  },
  {
   "cell_type": "code",
   "execution_count": 7,
   "metadata": {
    "id": "_14FOdUdkK8Q"
   },
   "outputs": [],
   "source": [
    "data_label = []\n",
    "#for train\n",
    "for i in range(len(labels)):\n",
    "    for j in tr_flatten(data[i], labels[i]):\n",
    "        data_label.append(j)\n",
    "train_len = len(data_label)"
   ]
  },
  {
   "cell_type": "code",
   "execution_count": 8,
   "metadata": {
    "id": "iVP4zROmkMu-"
   },
   "outputs": [],
   "source": [
    "df = pd.DataFrame(data_label, columns = data_label[0].keys(), index = None)"
   ]
  },
  {
   "cell_type": "code",
   "execution_count": 9,
   "metadata": {
    "id": "iEcC5fgSkOzl"
   },
   "outputs": [],
   "source": [
    "tweets = df.text\n",
    "y = df.label"
   ]
  },
  {
   "cell_type": "markdown",
   "metadata": {
    "id": "YjStK--lkYv5"
   },
   "source": [
    "## Preprocessing"
   ]
  },
  {
   "cell_type": "code",
   "execution_count": 10,
   "metadata": {
    "id": "xtW-zeFfkbdc"
   },
   "outputs": [],
   "source": [
    "regex_for_english_hindi_emojis=\"[^a-zA-Z#\\U0001F300-\\U0001F5FF'|'\\U0001F600-\\U0001F64F'|'\\U0001F680-\\U0001F6FF'|'\\u2600-\\u26FF\\u2700-\\u27BF\\u0900-\\u097F]\"\n",
    "def clean_tweet(tweet):\n",
    "    tweet = re.sub(r\"@[A-Za-z0-9]+\",' ', tweet)\n",
    "    tweet = re.sub(r\"https?://[A-Za-z0-9./]+\",' ', tweet)\n",
    "    tweet = re.sub(regex_for_english_hindi_emojis,' ', tweet)\n",
    "    tweet = re.sub(\"RT \", \" \", tweet)\n",
    "    tweet = re.sub(\"\\n\", \" \", tweet)\n",
    "    tweet = re.sub(r\" +\", \" \", tweet)\n",
    "    tokens = []\n",
    "    for token in tweet.split():\n",
    "        if token not in stopwords:\n",
    "            token = english_stemmer.stem(token)\n",
    "            token = hindi_stemmer.hi_stem(token)\n",
    "            tokens.append(token)\n",
    "    return \" \".join(tokens)"
   ]
  },
  {
   "cell_type": "code",
   "execution_count": 11,
   "metadata": {
    "id": "8Bf4BrkzkdF_"
   },
   "outputs": [],
   "source": [
    "cleaned_tweets = [clean_tweet(tweet) for tweet in tweets]"
   ]
  },
  {
   "cell_type": "code",
   "execution_count": 12,
   "metadata": {
    "colab": {
     "base_uri": "https://localhost:8080/",
     "height": 35
    },
    "id": "o38NRIX2kejz",
    "outputId": "5fc21545-42ae-4f57-9b38-78a531068ad6"
   },
   "outputs": [
    {
     "data": {
      "text/plain": [
       "'\\nvectorizer = TfidfVectorizer(min_df = 5)\\nX = vectorizer.fit_transform(cleaned_tweets)\\nX = X.todense()\\n'"
      ]
     },
     "execution_count": 12,
     "metadata": {},
     "output_type": "execute_result"
    }
   ],
   "source": [
    "'''\n",
    "vectorizer = TfidfVectorizer(min_df = 5)\n",
    "X = vectorizer.fit_transform(cleaned_tweets)\n",
    "X = X.todense()\n",
    "'''"
   ]
  },
  {
   "cell_type": "code",
   "execution_count": 13,
   "metadata": {
    "id": "8395mtBynRhw"
   },
   "outputs": [],
   "source": [
    "X = cleaned_tweets"
   ]
  },
  {
   "cell_type": "code",
   "execution_count": 14,
   "metadata": {
    "id": "trIPKWOdtNAR"
   },
   "outputs": [],
   "source": [
    "y = y.to_list()\n",
    "\n",
    "for i in range(len(y)):\n",
    "    if y[i] == 'HOF':\n",
    "        y[i] = 1\n",
    "    else:\n",
    "        y[i] = 0"
   ]
  },
  {
   "cell_type": "markdown",
   "metadata": {
    "id": "_UCerUECkhZc"
   },
   "source": [
    "## Test-Train Split"
   ]
  },
  {
   "cell_type": "code",
   "execution_count": 15,
   "metadata": {
    "id": "V249GDrbkkXo"
   },
   "outputs": [],
   "source": [
    "X_train, X_val, y_train, y_val = train_test_split(X, y, test_size=0.2, random_state=42)"
   ]
  },
  {
   "cell_type": "markdown",
   "metadata": {
    "id": "mllusAOFmpNJ"
   },
   "source": [
    "## Load Model"
   ]
  },
  {
   "cell_type": "code",
   "execution_count": 16,
   "metadata": {
    "colab": {
     "base_uri": "https://localhost:8080/",
     "height": 186,
     "referenced_widgets": [
      "dc087f851bf54995a2da8280aedb99eb",
      "7868d5c1c9c949b89d74bc4101e3ef9e",
      "021987bc13a64de2b88c9d3154e79c97",
      "399831301a0a4c4c881bbc2d3094480e",
      "7b24a22aa0b740c3a1813dd7f268dfad",
      "e30f4e34f92e453a814dc61459b889dc",
      "45a9cbfd727b46b696701d87f5494910",
      "d6a4e32c522e447cacf6d924c70876bc",
      "813a801cd0a444fa94d922cbb07b98c9",
      "f4c672fdbb6145f99dbb25fc0e9a22fd",
      "ccf944ff19dc4baf85bd7e16f919ef24",
      "bc2c3fa13933481f9fd15b7014301fd2",
      "216bb30821854a6ca3c3e9ac5b299306",
      "ddc6b8fb94c14fc4b86dc30af2971923",
      "4adefbd58fe8422b84bb586d2c8d4183",
      "1fdc534bb10643248e6e6dae46389e13",
      "131beffca3814846b498fe57375b0a27",
      "55534080aa4a4afeb640cc6cb1b45a1c",
      "9ec42971a95e44178cb306d0f796e306",
      "a541fac8044646998cacb12549a19ec8",
      "c8d9c923a8694824b574964b7e204caa",
      "d8ca810015d44083bc053a07ac01636a",
      "ced2fd7829a647478139efb476292462",
      "634b7088a6324147b0e7b53497fe990b",
      "b62b61ec55f94b448a78797139f802b2",
      "cc196479b36a421e8b9ae52ad7a34656",
      "7c90f24b4ddd423a8ab8efd868c979c5",
      "88ad8150305747bb8c16613a0c4e51aa",
      "79e6a03125fc463c9b1577354c08cbb3",
      "de33a4f746fd487f906219a9ad1c2c0e",
      "3e614096d3e444738f5bf01793af0092",
      "02bc6554fd5c49dfb481918ac7336eb9",
      "ebfd3125d9d046339a8dbce5c1794d67"
     ]
    },
    "id": "8rTo_jB0hCIt",
    "outputId": "61b35114-15d2-4167-880a-7b0e85e1f54e"
   },
   "outputs": [
    {
     "name": "stderr",
     "output_type": "stream",
     "text": [
      "Some weights of the model checkpoint at ai4bharat/indic-bert were not used when initializing AlbertModel: ['predictions.dense.bias', 'predictions.decoder.bias', 'predictions.bias', 'sop_classifier.classifier.bias', 'predictions.dense.weight', 'predictions.decoder.weight', 'predictions.LayerNorm.weight', 'predictions.LayerNorm.bias', 'sop_classifier.classifier.weight']\n",
      "- This IS expected if you are initializing AlbertModel from the checkpoint of a model trained on another task or with another architecture (e.g. initializing a BertForSequenceClassification model from a BertForPreTraining model).\n",
      "- This IS NOT expected if you are initializing AlbertModel from the checkpoint of a model that you expect to be exactly identical (initializing a BertForSequenceClassification model from a BertForSequenceClassification model).\n"
     ]
    }
   ],
   "source": [
    "from transformers import AutoTokenizer, AutoModel, pipeline\n",
    "  \n",
    "tokenizer = AutoTokenizer.from_pretrained(\"ai4bharat/indic-bert\")\n",
    "\n",
    "model = AutoModel.from_pretrained(\"ai4bharat/indic-bert\")"
   ]
  },
  {
   "cell_type": "markdown",
   "metadata": {},
   "source": [
    "## Sample Output"
   ]
  },
  {
   "cell_type": "code",
   "execution_count": 18,
   "metadata": {},
   "outputs": [
    {
     "name": "stdout",
     "output_type": "stream",
     "text": [
      "BaseModelOutputWithPooling(last_hidden_state=tensor([[[-0.0135,  0.0037, -0.0251,  ..., -0.0244,  0.0099, -0.0095],\n",
      "         [ 0.2095, -0.0659, -0.1277,  ...,  0.1147, -0.0254, -0.2286],\n",
      "         [ 0.3501, -0.4017, -0.1892,  ...,  0.0837,  0.1546, -0.2720],\n",
      "         ...,\n",
      "         [ 0.5263, -0.2966, -0.1900,  ...,  0.2064,  0.0903, -0.4016],\n",
      "         [ 0.2850, -0.1415, -0.3030,  ...,  0.0143,  0.0323, -0.6834],\n",
      "         [-0.0135,  0.0037, -0.0251,  ..., -0.0244,  0.0099, -0.0095]]],\n",
      "       grad_fn=<NativeLayerNormBackward>), pooler_output=tensor([[-0.0575,  0.0494,  0.0119, -0.0042,  0.0405,  0.0829,  0.0384, -0.0146,\n",
      "         -0.0115,  0.0616, -0.0072,  0.0472,  0.0190, -0.0166,  0.0470, -0.0213,\n",
      "         -0.0416,  0.0014, -0.1177, -0.0831,  0.0768,  0.0778, -0.0334, -0.0972,\n",
      "          0.0065, -0.0343, -0.0522, -0.0046,  0.0273,  0.0091,  0.0234,  0.0004,\n",
      "          0.0096,  0.0340, -0.0018, -0.0371, -0.0216, -0.0156,  0.1124,  0.0201,\n",
      "          0.0282, -0.0235, -0.1167,  0.0445, -0.0685, -0.0251,  0.0272, -0.0683,\n",
      "         -0.0462,  0.0110, -0.0486, -0.0206,  0.0161, -0.0239, -0.0213,  0.0451,\n",
      "         -0.0169, -0.0291,  0.0537, -0.0106,  0.0111,  0.0081,  0.0722,  0.0999,\n",
      "          0.0260, -0.0206,  0.0794,  0.1022,  0.0685,  0.0231,  0.0385, -0.0250,\n",
      "          0.0051,  0.1573,  0.0278,  0.0258,  0.0186,  0.0041, -0.0860,  0.0614,\n",
      "          0.0331, -0.0465,  0.0359,  0.0198, -0.0478,  0.0302,  0.0009,  0.0577,\n",
      "         -0.0089, -0.0254,  0.0216, -0.0947,  0.0891,  0.0870,  0.0611,  0.0043,\n",
      "          0.0206, -0.0067, -0.0369,  0.0472, -0.0504,  0.1239, -0.0698,  0.0922,\n",
      "          0.0655, -0.0422,  0.0438, -0.0544,  0.0360,  0.0561, -0.0248,  0.0503,\n",
      "          0.0372, -0.0105, -0.0648,  0.0788, -0.1227, -0.0874, -0.0594,  0.0596,\n",
      "         -0.0125,  0.0655,  0.0165, -0.0700, -0.0745,  0.0649,  0.0854,  0.0966,\n",
      "          0.0292, -0.0160, -0.0504,  0.0350, -0.0106,  0.0366,  0.0977, -0.0573,\n",
      "         -0.0059, -0.0039, -0.0070,  0.0100, -0.0385, -0.0046, -0.0726, -0.0131,\n",
      "         -0.0108,  0.0005, -0.0317, -0.0408, -0.0183,  0.0522,  0.0870,  0.0055,\n",
      "          0.0103, -0.0129, -0.0863, -0.0085,  0.0310, -0.0993,  0.0529,  0.0794,\n",
      "          0.0264,  0.0794, -0.0594,  0.0211,  0.0358, -0.0614,  0.0062, -0.0894,\n",
      "          0.0887, -0.0802,  0.0246,  0.0256,  0.0285, -0.0397, -0.0487, -0.0184,\n",
      "          0.0156, -0.0084, -0.0645, -0.0286, -0.0062,  0.0576,  0.0492,  0.0294,\n",
      "         -0.0642,  0.0142,  0.0462, -0.0607, -0.0014, -0.0885, -0.0698,  0.0720,\n",
      "          0.0495, -0.0859,  0.0208, -0.0068,  0.0340,  0.0167,  0.0927, -0.0659,\n",
      "         -0.0343,  0.0897, -0.0352, -0.0660, -0.0521, -0.0233, -0.1038,  0.0532,\n",
      "         -0.0104,  0.0304,  0.0339, -0.0204,  0.0553,  0.0368, -0.0338,  0.0018,\n",
      "         -0.0671,  0.0342,  0.0338,  0.0353, -0.0035, -0.0909, -0.0376, -0.0422,\n",
      "          0.0147, -0.0177, -0.0835, -0.0280,  0.0088,  0.0089, -0.0412, -0.1506,\n",
      "          0.0349, -0.0232, -0.0780,  0.0105,  0.0064,  0.0267,  0.0369, -0.0081,\n",
      "          0.0339,  0.0076,  0.0041, -0.0326, -0.0726,  0.0704,  0.0133, -0.1034,\n",
      "          0.0549,  0.0084,  0.1251,  0.0332, -0.0424,  0.0368,  0.0557,  0.0774,\n",
      "          0.0458,  0.0316, -0.0205, -0.0478,  0.0262,  0.0095, -0.0372, -0.0046,\n",
      "          0.0299, -0.0249, -0.0196,  0.0588,  0.0291, -0.0577, -0.0678,  0.0796,\n",
      "          0.0736,  0.0448, -0.0292,  0.0743, -0.0131,  0.0452,  0.1210,  0.0615,\n",
      "          0.0698, -0.0645, -0.0813, -0.0646,  0.0509, -0.0155,  0.0721,  0.0403,\n",
      "         -0.0574,  0.0577,  0.0776,  0.0622, -0.0452,  0.0160, -0.0092, -0.0349,\n",
      "          0.1072,  0.1099,  0.0999, -0.0134, -0.0013,  0.0162,  0.0522, -0.0105,\n",
      "         -0.0888, -0.0037, -0.0501,  0.0025, -0.0437,  0.0684,  0.0027,  0.0554,\n",
      "          0.0921, -0.0462,  0.0185,  0.1242, -0.0686,  0.0023, -0.0026,  0.0180,\n",
      "          0.0595, -0.0756, -0.0695, -0.0010, -0.0139,  0.0070,  0.0318, -0.0012,\n",
      "         -0.0321, -0.0884,  0.0544, -0.0175, -0.0761, -0.0145, -0.0217,  0.0204,\n",
      "          0.0006,  0.0577,  0.0425, -0.0169, -0.0697, -0.0412, -0.0487, -0.0274,\n",
      "          0.0270,  0.0552,  0.0024,  0.0064, -0.0578, -0.0548, -0.0899,  0.0482,\n",
      "         -0.0493,  0.0760, -0.0422,  0.0393, -0.0288, -0.0971, -0.0166, -0.0468,\n",
      "          0.0155, -0.0111, -0.0373,  0.0227,  0.0446, -0.0655, -0.0314,  0.1015,\n",
      "          0.0146,  0.0608,  0.0734,  0.0158,  0.0481, -0.1346,  0.0303,  0.0037,\n",
      "          0.0180, -0.0448,  0.0496,  0.0316,  0.0655, -0.0038,  0.0250, -0.0348,\n",
      "         -0.0008, -0.0266,  0.0417, -0.0073,  0.0267,  0.0645, -0.0145,  0.0116,\n",
      "         -0.0682, -0.0028,  0.0141,  0.0351,  0.0863, -0.0336, -0.0039, -0.0021,\n",
      "          0.0151,  0.0250, -0.0049,  0.0383, -0.0252, -0.1370,  0.0342,  0.0935,\n",
      "         -0.0512, -0.0493, -0.0494, -0.0117,  0.0430,  0.0956, -0.0231,  0.0819,\n",
      "          0.0192,  0.0858, -0.0122, -0.0024,  0.0587,  0.0521,  0.0334, -0.0181,\n",
      "          0.0784,  0.0729,  0.0143,  0.0468, -0.0112,  0.0554, -0.0183,  0.0548,\n",
      "          0.0778,  0.0786, -0.0198,  0.0278, -0.0052,  0.0069,  0.0573,  0.1057,\n",
      "         -0.0739,  0.0142,  0.0420, -0.0455, -0.0657, -0.0265,  0.0050, -0.0068,\n",
      "         -0.0275, -0.0815, -0.1071, -0.0190,  0.0907, -0.0638,  0.0191, -0.0584,\n",
      "         -0.1379, -0.0103, -0.0142, -0.0467, -0.0483,  0.0101, -0.0116,  0.0059,\n",
      "          0.0025,  0.0683,  0.0081,  0.0645, -0.0172,  0.0969, -0.1352, -0.0338,\n",
      "          0.0322,  0.0275, -0.0207, -0.0049,  0.0227,  0.0006, -0.0223,  0.0241,\n",
      "          0.0346, -0.0072, -0.0663,  0.0380, -0.0402, -0.0202,  0.0487, -0.0076,\n",
      "         -0.0216, -0.0682, -0.0036, -0.0358,  0.0934, -0.0406,  0.1090, -0.0026,\n",
      "          0.0631, -0.0616,  0.0292, -0.0971,  0.0063, -0.0377, -0.0605,  0.0552,\n",
      "         -0.0043, -0.0184, -0.0586,  0.0860, -0.0636,  0.0207,  0.0781, -0.0156,\n",
      "         -0.0381, -0.0618,  0.0432, -0.0697, -0.0048, -0.0609,  0.0435,  0.0202,\n",
      "          0.0291, -0.0241,  0.0232,  0.0179, -0.0227,  0.0051, -0.1230, -0.0455,\n",
      "         -0.0277, -0.0648, -0.0030,  0.0285,  0.0125, -0.0244, -0.0476, -0.1012,\n",
      "         -0.0268, -0.0099, -0.0343,  0.0455,  0.0327,  0.0571,  0.0231,  0.0145,\n",
      "         -0.0151, -0.0358, -0.0726,  0.0595, -0.0183,  0.0250, -0.0566,  0.0434,\n",
      "         -0.0048, -0.0441,  0.0986, -0.0284, -0.0073, -0.0390, -0.0607,  0.0362,\n",
      "         -0.0230, -0.0723,  0.0901, -0.0127,  0.0156,  0.0084,  0.0128,  0.0141,\n",
      "         -0.0361, -0.0473, -0.0537,  0.0003,  0.0478, -0.0306,  0.0372, -0.0189,\n",
      "         -0.0714,  0.0664,  0.0156,  0.0569,  0.0317, -0.0960,  0.0005, -0.0271,\n",
      "          0.1048,  0.0138, -0.0252,  0.0408,  0.0179, -0.0243, -0.0644,  0.0639,\n",
      "          0.0203, -0.0482,  0.0408,  0.0769, -0.0055,  0.0905, -0.0139, -0.0314,\n",
      "          0.0619,  0.0120,  0.0096, -0.0045, -0.0090,  0.0423, -0.0150,  0.0173,\n",
      "          0.0739, -0.0213,  0.0201, -0.0897,  0.0669,  0.0122, -0.0291, -0.0012,\n",
      "         -0.0582, -0.0536, -0.0724,  0.0805, -0.0102, -0.0273, -0.0450, -0.0259,\n",
      "         -0.0448, -0.0005,  0.0354,  0.0338, -0.0715,  0.0140,  0.0067, -0.0583,\n",
      "          0.0066, -0.0261, -0.0994, -0.0122, -0.0278,  0.0003, -0.0037, -0.0720,\n",
      "          0.0077, -0.0276, -0.0489, -0.1028, -0.0811,  0.0080,  0.0245,  0.1395,\n",
      "         -0.0224,  0.0840, -0.0243,  0.0918,  0.0345, -0.0267,  0.0496, -0.0953,\n",
      "          0.0177,  0.0038, -0.0485, -0.1012, -0.0859,  0.0400,  0.0006,  0.0528,\n",
      "          0.0849, -0.1098,  0.0385,  0.0591, -0.0254,  0.0369,  0.0551, -0.0572,\n",
      "          0.0566,  0.0462, -0.0310, -0.0425, -0.0817, -0.0822,  0.0013, -0.0603,\n",
      "         -0.0229, -0.0684,  0.0943, -0.0422, -0.0457, -0.0838, -0.0266, -0.0243,\n",
      "          0.0333,  0.0316, -0.0289,  0.0039,  0.0035,  0.0981,  0.0818, -0.0152,\n",
      "         -0.0076, -0.0577,  0.0493,  0.0496,  0.0726, -0.0107,  0.0126,  0.1124,\n",
      "         -0.0423,  0.0429,  0.0177, -0.0097, -0.0497, -0.0370, -0.0479, -0.1062,\n",
      "          0.0136, -0.0144, -0.0589, -0.0024, -0.0889,  0.0364,  0.0721, -0.0271,\n",
      "         -0.0476,  0.0725,  0.0403,  0.0502, -0.0074,  0.0266,  0.0331,  0.0072,\n",
      "          0.0309, -0.0727, -0.0806,  0.0238,  0.0370, -0.0152,  0.0403,  0.0485,\n",
      "         -0.0131,  0.0420, -0.0369,  0.0687,  0.0330,  0.0578,  0.0360,  0.0050,\n",
      "         -0.0450,  0.0050, -0.0358,  0.0723,  0.0530,  0.0030, -0.0341, -0.0656,\n",
      "         -0.0892, -0.0630,  0.0835,  0.0076, -0.0022, -0.0010,  0.0659, -0.0308,\n",
      "          0.0647,  0.1260, -0.0545, -0.0548, -0.0627, -0.0287,  0.0221,  0.0163]],\n",
      "       grad_fn=<TanhBackward>), hidden_states=None, attentions=None)\n",
      "<class 'transformers.modeling_outputs.BaseModelOutputWithPooling'>\n"
     ]
    }
   ],
   "source": [
    "tokenized_input = tokenizer(\n",
    "        X_train[0],\n",
    "        padding=True,\n",
    "        truncation=False,\n",
    "        return_tensors='pt'\n",
    "    )\n",
    "\n",
    "sample_output = model(**tokenized_input)\n",
    "\n",
    "print(sample_output)\n",
    "print(type(sample_output))"
   ]
  },
  {
   "cell_type": "markdown",
   "metadata": {},
   "source": [
    "## Embedding the Training Data"
   ]
  },
  {
   "cell_type": "code",
   "execution_count": 19,
   "metadata": {
    "colab": {
     "base_uri": "https://localhost:8080/"
    },
    "id": "Srx9a1pyQmNo",
    "outputId": "2f4a76b1-9af0-4c2c-cc70-c461b1e2bc76"
   },
   "outputs": [
    {
     "name": "stdout",
     "output_type": "stream",
     "text": [
      "4592\n"
     ]
    }
   ],
   "source": [
    "print(len(X_train))"
   ]
  },
  {
   "cell_type": "code",
   "execution_count": 20,
   "metadata": {
    "colab": {
     "base_uri": "https://localhost:8080/"
    },
    "id": "-jKH6wf2UyGx",
    "outputId": "db44a3ff-69e1-408a-c755-167e5fb1dd69"
   },
   "outputs": [
    {
     "name": "stdout",
     "output_type": "stream",
     "text": [
      "4592\n"
     ]
    }
   ],
   "source": [
    "input = []\n",
    "\n",
    "for text in X_train:\n",
    "    tokenized_input = tokenizer(\n",
    "        text,\n",
    "        padding=True,\n",
    "        truncation=False,\n",
    "        return_tensors='pt'\n",
    "    )\n",
    "    input.append(tokenized_input)\n",
    "\n",
    "print(len(input))"
   ]
  },
  {
   "cell_type": "code",
   "execution_count": 21,
   "metadata": {},
   "outputs": [
    {
     "name": "stdout",
     "output_type": "stream",
     "text": [
      "./X_train/output1.txt done\n",
      "./X_train/output2.txt done\n",
      "./X_train/output3.txt done\n",
      "./X_train/output4.txt done\n",
      "./X_train/output5.txt done\n",
      "./X_train/output6.txt done\n",
      "./X_train/output7.txt done\n",
      "./X_train/output8.txt done\n",
      "./X_train/output9.txt done\n",
      "./X_train/output10.txt done\n",
      "./X_train/output11.txt done\n",
      "./X_train/output12.txt done\n",
      "./X_train/output13.txt done\n",
      "./X_train/output14.txt done\n",
      "./X_train/output15.txt done\n",
      "./X_train/output16.txt done\n",
      "./X_train/output17.txt done\n",
      "./X_train/output18.txt done\n",
      "./X_train/output19.txt done\n",
      "./X_train/output20.txt done\n",
      "./X_train/output21.txt done\n",
      "./X_train/output22.txt done\n",
      "./X_train/output23.txt done\n"
     ]
    }
   ],
   "source": [
    "output = []\n",
    "\n",
    "j = 1\n",
    "\n",
    "for i in range(len(input)):\n",
    "    model_output = model(**input[i])\n",
    "    model_output = model_output.pooler_output.cpu().detach().numpy()\n",
    "    output.append(model_output)\n",
    "    if ((i + 1) % 200) == 0:\n",
    "        file_name = \"./X_train/output\" + str(j) + \".txt\"\n",
    "        with open(file_name, \"wb\") as fp:   #Pickling\n",
    "            pickle.dump(output, fp)\n",
    "        print(file_name + \" done\")\n",
    "        output = []\n",
    "        j += 1\n",
    "        \n",
    "file_name = \"./X_train/output\" + str(j) + \".txt\"\n",
    "with open(file_name, \"wb\") as fp:   #Pickling\n",
    "    pickle.dump(output, fp)\n",
    "print(file_name + \" done\")\n",
    "output = []"
   ]
  },
  {
   "cell_type": "code",
   "execution_count": 22,
   "metadata": {},
   "outputs": [
    {
     "name": "stdout",
     "output_type": "stream",
     "text": [
      "./X_train/output1.txt done\n",
      "./X_train/output2.txt done\n",
      "./X_train/output3.txt done\n",
      "./X_train/output4.txt done\n",
      "./X_train/output5.txt done\n",
      "./X_train/output6.txt done\n",
      "./X_train/output7.txt done\n",
      "./X_train/output8.txt done\n",
      "./X_train/output9.txt done\n",
      "./X_train/output10.txt done\n",
      "./X_train/output11.txt done\n",
      "./X_train/output12.txt done\n",
      "./X_train/output13.txt done\n",
      "./X_train/output14.txt done\n",
      "./X_train/output15.txt done\n",
      "./X_train/output16.txt done\n",
      "./X_train/output17.txt done\n",
      "./X_train/output18.txt done\n",
      "./X_train/output19.txt done\n",
      "./X_train/output20.txt done\n",
      "./X_train/output21.txt done\n",
      "./X_train/output22.txt done\n",
      "./X_train/output23.txt done\n"
     ]
    }
   ],
   "source": [
    "output = []\n",
    "\n",
    "for i in range(23):\n",
    "    file_name = \"./X_train/output\" + str(i + 1) + \".txt\"\n",
    "    with open(file_name, \"rb\") as fp:   #Pickling\n",
    "        file_output = pickle.load(fp)\n",
    "        for x in file_output:\n",
    "            output.append(x)\n",
    "    print(file_name + \" done\")"
   ]
  },
  {
   "cell_type": "code",
   "execution_count": 23,
   "metadata": {},
   "outputs": [],
   "source": [
    "X_train = output\n",
    "output = []"
   ]
  },
  {
   "cell_type": "code",
   "execution_count": 24,
   "metadata": {},
   "outputs": [
    {
     "name": "stdout",
     "output_type": "stream",
     "text": [
      "4592\n"
     ]
    }
   ],
   "source": [
    "print(len(X_train))"
   ]
  },
  {
   "cell_type": "markdown",
   "metadata": {},
   "source": [
    "## Embedding the Testing Data"
   ]
  },
  {
   "cell_type": "code",
   "execution_count": 25,
   "metadata": {},
   "outputs": [
    {
     "name": "stdout",
     "output_type": "stream",
     "text": [
      "1148\n"
     ]
    }
   ],
   "source": [
    "input = []\n",
    "\n",
    "for text in X_val:\n",
    "    tokenized_input = tokenizer(\n",
    "        text,\n",
    "        padding=True,\n",
    "        truncation=False,\n",
    "        return_tensors='pt'\n",
    "    )\n",
    "    input.append(tokenized_input)\n",
    "\n",
    "print(len(input))"
   ]
  },
  {
   "cell_type": "code",
   "execution_count": 26,
   "metadata": {},
   "outputs": [
    {
     "name": "stdout",
     "output_type": "stream",
     "text": [
      "./X_val/output1.txt done\n",
      "./X_val/output2.txt done\n",
      "./X_val/output3.txt done\n",
      "./X_val/output4.txt done\n",
      "./X_val/output5.txt done\n",
      "./X_val/output6.txt done\n"
     ]
    }
   ],
   "source": [
    "output = []\n",
    "\n",
    "j = 1\n",
    "\n",
    "for i in range(len(input)):\n",
    "    model_output = model(**input[i])\n",
    "    model_output = model_output.pooler_output.cpu().detach().numpy()\n",
    "    output.append(model_output)\n",
    "    if ((i + 1) % 200) == 0:\n",
    "        file_name = \"./X_val/output\" + str(j) + \".txt\"\n",
    "        with open(file_name, \"wb\") as fp:   #Pickling\n",
    "            pickle.dump(output, fp)\n",
    "        print(file_name + \" done\")\n",
    "        output = []\n",
    "        j += 1\n",
    "        \n",
    "file_name = \"./X_val/output\" + str(j) + \".txt\"\n",
    "with open(file_name, \"wb\") as fp:   #Pickling\n",
    "    pickle.dump(output, fp)\n",
    "print(file_name + \" done\")\n",
    "output = []"
   ]
  },
  {
   "cell_type": "code",
   "execution_count": 27,
   "metadata": {},
   "outputs": [
    {
     "name": "stdout",
     "output_type": "stream",
     "text": [
      "./X_val/output1.txt done\n",
      "./X_val/output2.txt done\n",
      "./X_val/output3.txt done\n",
      "./X_val/output4.txt done\n",
      "./X_val/output5.txt done\n",
      "./X_val/output6.txt done\n"
     ]
    }
   ],
   "source": [
    "output = []\n",
    "\n",
    "for i in range(6):\n",
    "    file_name = \"./X_val/output\" + str(i + 1) + \".txt\"\n",
    "    with open(file_name, \"rb\") as fp:   #Pickling\n",
    "        file_output = pickle.load(fp)\n",
    "        for x in file_output:\n",
    "            output.append(x)\n",
    "    print(file_name + \" done\")"
   ]
  },
  {
   "cell_type": "code",
   "execution_count": 28,
   "metadata": {},
   "outputs": [
    {
     "name": "stdout",
     "output_type": "stream",
     "text": [
      "1148\n"
     ]
    }
   ],
   "source": [
    "X_val = output\n",
    "output = []\n",
    "print(len(X_val))"
   ]
  },
  {
   "cell_type": "markdown",
   "metadata": {},
   "source": [
    "## Logistic Regression"
   ]
  },
  {
   "cell_type": "code",
   "execution_count": null,
   "metadata": {},
   "outputs": [],
   "source": []
  }
 ],
 "metadata": {
  "accelerator": "GPU",
  "colab": {
   "collapsed_sections": [],
   "name": "IndicBert",
   "provenance": []
  },
  "kernelspec": {
   "display_name": "venv",
   "language": "python",
   "name": "venv"
  },
  "language_info": {
   "codemirror_mode": {
    "name": "ipython",
    "version": 3
   },
   "file_extension": ".py",
   "mimetype": "text/x-python",
   "name": "python",
   "nbconvert_exporter": "python",
   "pygments_lexer": "ipython3",
   "version": "3.9.6"
  },
  "widgets": {
   "application/vnd.jupyter.widget-state+json": {
    "021987bc13a64de2b88c9d3154e79c97": {
     "model_module": "@jupyter-widgets/controls",
     "model_module_version": "1.5.0",
     "model_name": "HTMLModel",
     "state": {
      "_dom_classes": [],
      "_model_module": "@jupyter-widgets/controls",
      "_model_module_version": "1.5.0",
      "_model_name": "HTMLModel",
      "_view_count": null,
      "_view_module": "@jupyter-widgets/controls",
      "_view_module_version": "1.5.0",
      "_view_name": "HTMLView",
      "description": "",
      "description_tooltip": null,
      "layout": "IPY_MODEL_45a9cbfd727b46b696701d87f5494910",
      "placeholder": "​",
      "style": "IPY_MODEL_e30f4e34f92e453a814dc61459b889dc",
      "value": "Downloading: 100%"
     }
    },
    "02bc6554fd5c49dfb481918ac7336eb9": {
     "model_module": "@jupyter-widgets/controls",
     "model_module_version": "1.5.0",
     "model_name": "DescriptionStyleModel",
     "state": {
      "_model_module": "@jupyter-widgets/controls",
      "_model_module_version": "1.5.0",
      "_model_name": "DescriptionStyleModel",
      "_view_count": null,
      "_view_module": "@jupyter-widgets/base",
      "_view_module_version": "1.2.0",
      "_view_name": "StyleView",
      "description_width": ""
     }
    },
    "131beffca3814846b498fe57375b0a27": {
     "model_module": "@jupyter-widgets/controls",
     "model_module_version": "1.5.0",
     "model_name": "DescriptionStyleModel",
     "state": {
      "_model_module": "@jupyter-widgets/controls",
      "_model_module_version": "1.5.0",
      "_model_name": "DescriptionStyleModel",
      "_view_count": null,
      "_view_module": "@jupyter-widgets/base",
      "_view_module_version": "1.2.0",
      "_view_name": "StyleView",
      "description_width": ""
     }
    },
    "1fdc534bb10643248e6e6dae46389e13": {
     "model_module": "@jupyter-widgets/controls",
     "model_module_version": "1.5.0",
     "model_name": "HTMLModel",
     "state": {
      "_dom_classes": [],
      "_model_module": "@jupyter-widgets/controls",
      "_model_module_version": "1.5.0",
      "_model_name": "HTMLModel",
      "_view_count": null,
      "_view_module": "@jupyter-widgets/controls",
      "_view_module_version": "1.5.0",
      "_view_name": "HTMLView",
      "description": "",
      "description_tooltip": null,
      "layout": "IPY_MODEL_d8ca810015d44083bc053a07ac01636a",
      "placeholder": "​",
      "style": "IPY_MODEL_c8d9c923a8694824b574964b7e204caa",
      "value": " 5.65M/5.65M [00:00&lt;00:00, 10.2MB/s]"
     }
    },
    "216bb30821854a6ca3c3e9ac5b299306": {
     "model_module": "@jupyter-widgets/base",
     "model_module_version": "1.2.0",
     "model_name": "LayoutModel",
     "state": {
      "_model_module": "@jupyter-widgets/base",
      "_model_module_version": "1.2.0",
      "_model_name": "LayoutModel",
      "_view_count": null,
      "_view_module": "@jupyter-widgets/base",
      "_view_module_version": "1.2.0",
      "_view_name": "LayoutView",
      "align_content": null,
      "align_items": null,
      "align_self": null,
      "border": null,
      "bottom": null,
      "display": null,
      "flex": null,
      "flex_flow": null,
      "grid_area": null,
      "grid_auto_columns": null,
      "grid_auto_flow": null,
      "grid_auto_rows": null,
      "grid_column": null,
      "grid_gap": null,
      "grid_row": null,
      "grid_template_areas": null,
      "grid_template_columns": null,
      "grid_template_rows": null,
      "height": null,
      "justify_content": null,
      "justify_items": null,
      "left": null,
      "margin": null,
      "max_height": null,
      "max_width": null,
      "min_height": null,
      "min_width": null,
      "object_fit": null,
      "object_position": null,
      "order": null,
      "overflow": null,
      "overflow_x": null,
      "overflow_y": null,
      "padding": null,
      "right": null,
      "top": null,
      "visibility": null,
      "width": null
     }
    },
    "399831301a0a4c4c881bbc2d3094480e": {
     "model_module": "@jupyter-widgets/controls",
     "model_module_version": "1.5.0",
     "model_name": "FloatProgressModel",
     "state": {
      "_dom_classes": [],
      "_model_module": "@jupyter-widgets/controls",
      "_model_module_version": "1.5.0",
      "_model_name": "FloatProgressModel",
      "_view_count": null,
      "_view_module": "@jupyter-widgets/controls",
      "_view_module_version": "1.5.0",
      "_view_name": "ProgressView",
      "bar_style": "success",
      "description": "",
      "description_tooltip": null,
      "layout": "IPY_MODEL_813a801cd0a444fa94d922cbb07b98c9",
      "max": 507,
      "min": 0,
      "orientation": "horizontal",
      "style": "IPY_MODEL_d6a4e32c522e447cacf6d924c70876bc",
      "value": 507
     }
    },
    "3e614096d3e444738f5bf01793af0092": {
     "model_module": "@jupyter-widgets/base",
     "model_module_version": "1.2.0",
     "model_name": "LayoutModel",
     "state": {
      "_model_module": "@jupyter-widgets/base",
      "_model_module_version": "1.2.0",
      "_model_name": "LayoutModel",
      "_view_count": null,
      "_view_module": "@jupyter-widgets/base",
      "_view_module_version": "1.2.0",
      "_view_name": "LayoutView",
      "align_content": null,
      "align_items": null,
      "align_self": null,
      "border": null,
      "bottom": null,
      "display": null,
      "flex": null,
      "flex_flow": null,
      "grid_area": null,
      "grid_auto_columns": null,
      "grid_auto_flow": null,
      "grid_auto_rows": null,
      "grid_column": null,
      "grid_gap": null,
      "grid_row": null,
      "grid_template_areas": null,
      "grid_template_columns": null,
      "grid_template_rows": null,
      "height": null,
      "justify_content": null,
      "justify_items": null,
      "left": null,
      "margin": null,
      "max_height": null,
      "max_width": null,
      "min_height": null,
      "min_width": null,
      "object_fit": null,
      "object_position": null,
      "order": null,
      "overflow": null,
      "overflow_x": null,
      "overflow_y": null,
      "padding": null,
      "right": null,
      "top": null,
      "visibility": null,
      "width": null
     }
    },
    "45a9cbfd727b46b696701d87f5494910": {
     "model_module": "@jupyter-widgets/base",
     "model_module_version": "1.2.0",
     "model_name": "LayoutModel",
     "state": {
      "_model_module": "@jupyter-widgets/base",
      "_model_module_version": "1.2.0",
      "_model_name": "LayoutModel",
      "_view_count": null,
      "_view_module": "@jupyter-widgets/base",
      "_view_module_version": "1.2.0",
      "_view_name": "LayoutView",
      "align_content": null,
      "align_items": null,
      "align_self": null,
      "border": null,
      "bottom": null,
      "display": null,
      "flex": null,
      "flex_flow": null,
      "grid_area": null,
      "grid_auto_columns": null,
      "grid_auto_flow": null,
      "grid_auto_rows": null,
      "grid_column": null,
      "grid_gap": null,
      "grid_row": null,
      "grid_template_areas": null,
      "grid_template_columns": null,
      "grid_template_rows": null,
      "height": null,
      "justify_content": null,
      "justify_items": null,
      "left": null,
      "margin": null,
      "max_height": null,
      "max_width": null,
      "min_height": null,
      "min_width": null,
      "object_fit": null,
      "object_position": null,
      "order": null,
      "overflow": null,
      "overflow_x": null,
      "overflow_y": null,
      "padding": null,
      "right": null,
      "top": null,
      "visibility": null,
      "width": null
     }
    },
    "4adefbd58fe8422b84bb586d2c8d4183": {
     "model_module": "@jupyter-widgets/controls",
     "model_module_version": "1.5.0",
     "model_name": "FloatProgressModel",
     "state": {
      "_dom_classes": [],
      "_model_module": "@jupyter-widgets/controls",
      "_model_module_version": "1.5.0",
      "_model_name": "FloatProgressModel",
      "_view_count": null,
      "_view_module": "@jupyter-widgets/controls",
      "_view_module_version": "1.5.0",
      "_view_name": "ProgressView",
      "bar_style": "success",
      "description": "",
      "description_tooltip": null,
      "layout": "IPY_MODEL_a541fac8044646998cacb12549a19ec8",
      "max": 5646064,
      "min": 0,
      "orientation": "horizontal",
      "style": "IPY_MODEL_9ec42971a95e44178cb306d0f796e306",
      "value": 5646064
     }
    },
    "55534080aa4a4afeb640cc6cb1b45a1c": {
     "model_module": "@jupyter-widgets/base",
     "model_module_version": "1.2.0",
     "model_name": "LayoutModel",
     "state": {
      "_model_module": "@jupyter-widgets/base",
      "_model_module_version": "1.2.0",
      "_model_name": "LayoutModel",
      "_view_count": null,
      "_view_module": "@jupyter-widgets/base",
      "_view_module_version": "1.2.0",
      "_view_name": "LayoutView",
      "align_content": null,
      "align_items": null,
      "align_self": null,
      "border": null,
      "bottom": null,
      "display": null,
      "flex": null,
      "flex_flow": null,
      "grid_area": null,
      "grid_auto_columns": null,
      "grid_auto_flow": null,
      "grid_auto_rows": null,
      "grid_column": null,
      "grid_gap": null,
      "grid_row": null,
      "grid_template_areas": null,
      "grid_template_columns": null,
      "grid_template_rows": null,
      "height": null,
      "justify_content": null,
      "justify_items": null,
      "left": null,
      "margin": null,
      "max_height": null,
      "max_width": null,
      "min_height": null,
      "min_width": null,
      "object_fit": null,
      "object_position": null,
      "order": null,
      "overflow": null,
      "overflow_x": null,
      "overflow_y": null,
      "padding": null,
      "right": null,
      "top": null,
      "visibility": null,
      "width": null
     }
    },
    "634b7088a6324147b0e7b53497fe990b": {
     "model_module": "@jupyter-widgets/base",
     "model_module_version": "1.2.0",
     "model_name": "LayoutModel",
     "state": {
      "_model_module": "@jupyter-widgets/base",
      "_model_module_version": "1.2.0",
      "_model_name": "LayoutModel",
      "_view_count": null,
      "_view_module": "@jupyter-widgets/base",
      "_view_module_version": "1.2.0",
      "_view_name": "LayoutView",
      "align_content": null,
      "align_items": null,
      "align_self": null,
      "border": null,
      "bottom": null,
      "display": null,
      "flex": null,
      "flex_flow": null,
      "grid_area": null,
      "grid_auto_columns": null,
      "grid_auto_flow": null,
      "grid_auto_rows": null,
      "grid_column": null,
      "grid_gap": null,
      "grid_row": null,
      "grid_template_areas": null,
      "grid_template_columns": null,
      "grid_template_rows": null,
      "height": null,
      "justify_content": null,
      "justify_items": null,
      "left": null,
      "margin": null,
      "max_height": null,
      "max_width": null,
      "min_height": null,
      "min_width": null,
      "object_fit": null,
      "object_position": null,
      "order": null,
      "overflow": null,
      "overflow_x": null,
      "overflow_y": null,
      "padding": null,
      "right": null,
      "top": null,
      "visibility": null,
      "width": null
     }
    },
    "7868d5c1c9c949b89d74bc4101e3ef9e": {
     "model_module": "@jupyter-widgets/base",
     "model_module_version": "1.2.0",
     "model_name": "LayoutModel",
     "state": {
      "_model_module": "@jupyter-widgets/base",
      "_model_module_version": "1.2.0",
      "_model_name": "LayoutModel",
      "_view_count": null,
      "_view_module": "@jupyter-widgets/base",
      "_view_module_version": "1.2.0",
      "_view_name": "LayoutView",
      "align_content": null,
      "align_items": null,
      "align_self": null,
      "border": null,
      "bottom": null,
      "display": null,
      "flex": null,
      "flex_flow": null,
      "grid_area": null,
      "grid_auto_columns": null,
      "grid_auto_flow": null,
      "grid_auto_rows": null,
      "grid_column": null,
      "grid_gap": null,
      "grid_row": null,
      "grid_template_areas": null,
      "grid_template_columns": null,
      "grid_template_rows": null,
      "height": null,
      "justify_content": null,
      "justify_items": null,
      "left": null,
      "margin": null,
      "max_height": null,
      "max_width": null,
      "min_height": null,
      "min_width": null,
      "object_fit": null,
      "object_position": null,
      "order": null,
      "overflow": null,
      "overflow_x": null,
      "overflow_y": null,
      "padding": null,
      "right": null,
      "top": null,
      "visibility": null,
      "width": null
     }
    },
    "79e6a03125fc463c9b1577354c08cbb3": {
     "model_module": "@jupyter-widgets/base",
     "model_module_version": "1.2.0",
     "model_name": "LayoutModel",
     "state": {
      "_model_module": "@jupyter-widgets/base",
      "_model_module_version": "1.2.0",
      "_model_name": "LayoutModel",
      "_view_count": null,
      "_view_module": "@jupyter-widgets/base",
      "_view_module_version": "1.2.0",
      "_view_name": "LayoutView",
      "align_content": null,
      "align_items": null,
      "align_self": null,
      "border": null,
      "bottom": null,
      "display": null,
      "flex": null,
      "flex_flow": null,
      "grid_area": null,
      "grid_auto_columns": null,
      "grid_auto_flow": null,
      "grid_auto_rows": null,
      "grid_column": null,
      "grid_gap": null,
      "grid_row": null,
      "grid_template_areas": null,
      "grid_template_columns": null,
      "grid_template_rows": null,
      "height": null,
      "justify_content": null,
      "justify_items": null,
      "left": null,
      "margin": null,
      "max_height": null,
      "max_width": null,
      "min_height": null,
      "min_width": null,
      "object_fit": null,
      "object_position": null,
      "order": null,
      "overflow": null,
      "overflow_x": null,
      "overflow_y": null,
      "padding": null,
      "right": null,
      "top": null,
      "visibility": null,
      "width": null
     }
    },
    "7b24a22aa0b740c3a1813dd7f268dfad": {
     "model_module": "@jupyter-widgets/controls",
     "model_module_version": "1.5.0",
     "model_name": "HTMLModel",
     "state": {
      "_dom_classes": [],
      "_model_module": "@jupyter-widgets/controls",
      "_model_module_version": "1.5.0",
      "_model_name": "HTMLModel",
      "_view_count": null,
      "_view_module": "@jupyter-widgets/controls",
      "_view_module_version": "1.5.0",
      "_view_name": "HTMLView",
      "description": "",
      "description_tooltip": null,
      "layout": "IPY_MODEL_ccf944ff19dc4baf85bd7e16f919ef24",
      "placeholder": "​",
      "style": "IPY_MODEL_f4c672fdbb6145f99dbb25fc0e9a22fd",
      "value": " 507/507 [00:00&lt;00:00, 9.69kB/s]"
     }
    },
    "7c90f24b4ddd423a8ab8efd868c979c5": {
     "model_module": "@jupyter-widgets/controls",
     "model_module_version": "1.5.0",
     "model_name": "HTMLModel",
     "state": {
      "_dom_classes": [],
      "_model_module": "@jupyter-widgets/controls",
      "_model_module_version": "1.5.0",
      "_model_name": "HTMLModel",
      "_view_count": null,
      "_view_module": "@jupyter-widgets/controls",
      "_view_module_version": "1.5.0",
      "_view_name": "HTMLView",
      "description": "",
      "description_tooltip": null,
      "layout": "IPY_MODEL_ebfd3125d9d046339a8dbce5c1794d67",
      "placeholder": "​",
      "style": "IPY_MODEL_02bc6554fd5c49dfb481918ac7336eb9",
      "value": " 135M/135M [00:02&lt;00:00, 47.1MB/s]"
     }
    },
    "813a801cd0a444fa94d922cbb07b98c9": {
     "model_module": "@jupyter-widgets/base",
     "model_module_version": "1.2.0",
     "model_name": "LayoutModel",
     "state": {
      "_model_module": "@jupyter-widgets/base",
      "_model_module_version": "1.2.0",
      "_model_name": "LayoutModel",
      "_view_count": null,
      "_view_module": "@jupyter-widgets/base",
      "_view_module_version": "1.2.0",
      "_view_name": "LayoutView",
      "align_content": null,
      "align_items": null,
      "align_self": null,
      "border": null,
      "bottom": null,
      "display": null,
      "flex": null,
      "flex_flow": null,
      "grid_area": null,
      "grid_auto_columns": null,
      "grid_auto_flow": null,
      "grid_auto_rows": null,
      "grid_column": null,
      "grid_gap": null,
      "grid_row": null,
      "grid_template_areas": null,
      "grid_template_columns": null,
      "grid_template_rows": null,
      "height": null,
      "justify_content": null,
      "justify_items": null,
      "left": null,
      "margin": null,
      "max_height": null,
      "max_width": null,
      "min_height": null,
      "min_width": null,
      "object_fit": null,
      "object_position": null,
      "order": null,
      "overflow": null,
      "overflow_x": null,
      "overflow_y": null,
      "padding": null,
      "right": null,
      "top": null,
      "visibility": null,
      "width": null
     }
    },
    "88ad8150305747bb8c16613a0c4e51aa": {
     "model_module": "@jupyter-widgets/controls",
     "model_module_version": "1.5.0",
     "model_name": "DescriptionStyleModel",
     "state": {
      "_model_module": "@jupyter-widgets/controls",
      "_model_module_version": "1.5.0",
      "_model_name": "DescriptionStyleModel",
      "_view_count": null,
      "_view_module": "@jupyter-widgets/base",
      "_view_module_version": "1.2.0",
      "_view_name": "StyleView",
      "description_width": ""
     }
    },
    "9ec42971a95e44178cb306d0f796e306": {
     "model_module": "@jupyter-widgets/controls",
     "model_module_version": "1.5.0",
     "model_name": "ProgressStyleModel",
     "state": {
      "_model_module": "@jupyter-widgets/controls",
      "_model_module_version": "1.5.0",
      "_model_name": "ProgressStyleModel",
      "_view_count": null,
      "_view_module": "@jupyter-widgets/base",
      "_view_module_version": "1.2.0",
      "_view_name": "StyleView",
      "bar_color": null,
      "description_width": ""
     }
    },
    "a541fac8044646998cacb12549a19ec8": {
     "model_module": "@jupyter-widgets/base",
     "model_module_version": "1.2.0",
     "model_name": "LayoutModel",
     "state": {
      "_model_module": "@jupyter-widgets/base",
      "_model_module_version": "1.2.0",
      "_model_name": "LayoutModel",
      "_view_count": null,
      "_view_module": "@jupyter-widgets/base",
      "_view_module_version": "1.2.0",
      "_view_name": "LayoutView",
      "align_content": null,
      "align_items": null,
      "align_self": null,
      "border": null,
      "bottom": null,
      "display": null,
      "flex": null,
      "flex_flow": null,
      "grid_area": null,
      "grid_auto_columns": null,
      "grid_auto_flow": null,
      "grid_auto_rows": null,
      "grid_column": null,
      "grid_gap": null,
      "grid_row": null,
      "grid_template_areas": null,
      "grid_template_columns": null,
      "grid_template_rows": null,
      "height": null,
      "justify_content": null,
      "justify_items": null,
      "left": null,
      "margin": null,
      "max_height": null,
      "max_width": null,
      "min_height": null,
      "min_width": null,
      "object_fit": null,
      "object_position": null,
      "order": null,
      "overflow": null,
      "overflow_x": null,
      "overflow_y": null,
      "padding": null,
      "right": null,
      "top": null,
      "visibility": null,
      "width": null
     }
    },
    "b62b61ec55f94b448a78797139f802b2": {
     "model_module": "@jupyter-widgets/controls",
     "model_module_version": "1.5.0",
     "model_name": "HTMLModel",
     "state": {
      "_dom_classes": [],
      "_model_module": "@jupyter-widgets/controls",
      "_model_module_version": "1.5.0",
      "_model_name": "HTMLModel",
      "_view_count": null,
      "_view_module": "@jupyter-widgets/controls",
      "_view_module_version": "1.5.0",
      "_view_name": "HTMLView",
      "description": "",
      "description_tooltip": null,
      "layout": "IPY_MODEL_79e6a03125fc463c9b1577354c08cbb3",
      "placeholder": "​",
      "style": "IPY_MODEL_88ad8150305747bb8c16613a0c4e51aa",
      "value": "Downloading: 100%"
     }
    },
    "bc2c3fa13933481f9fd15b7014301fd2": {
     "model_module": "@jupyter-widgets/controls",
     "model_module_version": "1.5.0",
     "model_name": "HBoxModel",
     "state": {
      "_dom_classes": [],
      "_model_module": "@jupyter-widgets/controls",
      "_model_module_version": "1.5.0",
      "_model_name": "HBoxModel",
      "_view_count": null,
      "_view_module": "@jupyter-widgets/controls",
      "_view_module_version": "1.5.0",
      "_view_name": "HBoxView",
      "box_style": "",
      "children": [
       "IPY_MODEL_ddc6b8fb94c14fc4b86dc30af2971923",
       "IPY_MODEL_4adefbd58fe8422b84bb586d2c8d4183",
       "IPY_MODEL_1fdc534bb10643248e6e6dae46389e13"
      ],
      "layout": "IPY_MODEL_216bb30821854a6ca3c3e9ac5b299306"
     }
    },
    "c8d9c923a8694824b574964b7e204caa": {
     "model_module": "@jupyter-widgets/controls",
     "model_module_version": "1.5.0",
     "model_name": "DescriptionStyleModel",
     "state": {
      "_model_module": "@jupyter-widgets/controls",
      "_model_module_version": "1.5.0",
      "_model_name": "DescriptionStyleModel",
      "_view_count": null,
      "_view_module": "@jupyter-widgets/base",
      "_view_module_version": "1.2.0",
      "_view_name": "StyleView",
      "description_width": ""
     }
    },
    "cc196479b36a421e8b9ae52ad7a34656": {
     "model_module": "@jupyter-widgets/controls",
     "model_module_version": "1.5.0",
     "model_name": "FloatProgressModel",
     "state": {
      "_dom_classes": [],
      "_model_module": "@jupyter-widgets/controls",
      "_model_module_version": "1.5.0",
      "_model_name": "FloatProgressModel",
      "_view_count": null,
      "_view_module": "@jupyter-widgets/controls",
      "_view_module_version": "1.5.0",
      "_view_name": "ProgressView",
      "bar_style": "success",
      "description": "",
      "description_tooltip": null,
      "layout": "IPY_MODEL_3e614096d3e444738f5bf01793af0092",
      "max": 134982446,
      "min": 0,
      "orientation": "horizontal",
      "style": "IPY_MODEL_de33a4f746fd487f906219a9ad1c2c0e",
      "value": 134982446
     }
    },
    "ccf944ff19dc4baf85bd7e16f919ef24": {
     "model_module": "@jupyter-widgets/base",
     "model_module_version": "1.2.0",
     "model_name": "LayoutModel",
     "state": {
      "_model_module": "@jupyter-widgets/base",
      "_model_module_version": "1.2.0",
      "_model_name": "LayoutModel",
      "_view_count": null,
      "_view_module": "@jupyter-widgets/base",
      "_view_module_version": "1.2.0",
      "_view_name": "LayoutView",
      "align_content": null,
      "align_items": null,
      "align_self": null,
      "border": null,
      "bottom": null,
      "display": null,
      "flex": null,
      "flex_flow": null,
      "grid_area": null,
      "grid_auto_columns": null,
      "grid_auto_flow": null,
      "grid_auto_rows": null,
      "grid_column": null,
      "grid_gap": null,
      "grid_row": null,
      "grid_template_areas": null,
      "grid_template_columns": null,
      "grid_template_rows": null,
      "height": null,
      "justify_content": null,
      "justify_items": null,
      "left": null,
      "margin": null,
      "max_height": null,
      "max_width": null,
      "min_height": null,
      "min_width": null,
      "object_fit": null,
      "object_position": null,
      "order": null,
      "overflow": null,
      "overflow_x": null,
      "overflow_y": null,
      "padding": null,
      "right": null,
      "top": null,
      "visibility": null,
      "width": null
     }
    },
    "ced2fd7829a647478139efb476292462": {
     "model_module": "@jupyter-widgets/controls",
     "model_module_version": "1.5.0",
     "model_name": "HBoxModel",
     "state": {
      "_dom_classes": [],
      "_model_module": "@jupyter-widgets/controls",
      "_model_module_version": "1.5.0",
      "_model_name": "HBoxModel",
      "_view_count": null,
      "_view_module": "@jupyter-widgets/controls",
      "_view_module_version": "1.5.0",
      "_view_name": "HBoxView",
      "box_style": "",
      "children": [
       "IPY_MODEL_b62b61ec55f94b448a78797139f802b2",
       "IPY_MODEL_cc196479b36a421e8b9ae52ad7a34656",
       "IPY_MODEL_7c90f24b4ddd423a8ab8efd868c979c5"
      ],
      "layout": "IPY_MODEL_634b7088a6324147b0e7b53497fe990b"
     }
    },
    "d6a4e32c522e447cacf6d924c70876bc": {
     "model_module": "@jupyter-widgets/controls",
     "model_module_version": "1.5.0",
     "model_name": "ProgressStyleModel",
     "state": {
      "_model_module": "@jupyter-widgets/controls",
      "_model_module_version": "1.5.0",
      "_model_name": "ProgressStyleModel",
      "_view_count": null,
      "_view_module": "@jupyter-widgets/base",
      "_view_module_version": "1.2.0",
      "_view_name": "StyleView",
      "bar_color": null,
      "description_width": ""
     }
    },
    "d8ca810015d44083bc053a07ac01636a": {
     "model_module": "@jupyter-widgets/base",
     "model_module_version": "1.2.0",
     "model_name": "LayoutModel",
     "state": {
      "_model_module": "@jupyter-widgets/base",
      "_model_module_version": "1.2.0",
      "_model_name": "LayoutModel",
      "_view_count": null,
      "_view_module": "@jupyter-widgets/base",
      "_view_module_version": "1.2.0",
      "_view_name": "LayoutView",
      "align_content": null,
      "align_items": null,
      "align_self": null,
      "border": null,
      "bottom": null,
      "display": null,
      "flex": null,
      "flex_flow": null,
      "grid_area": null,
      "grid_auto_columns": null,
      "grid_auto_flow": null,
      "grid_auto_rows": null,
      "grid_column": null,
      "grid_gap": null,
      "grid_row": null,
      "grid_template_areas": null,
      "grid_template_columns": null,
      "grid_template_rows": null,
      "height": null,
      "justify_content": null,
      "justify_items": null,
      "left": null,
      "margin": null,
      "max_height": null,
      "max_width": null,
      "min_height": null,
      "min_width": null,
      "object_fit": null,
      "object_position": null,
      "order": null,
      "overflow": null,
      "overflow_x": null,
      "overflow_y": null,
      "padding": null,
      "right": null,
      "top": null,
      "visibility": null,
      "width": null
     }
    },
    "dc087f851bf54995a2da8280aedb99eb": {
     "model_module": "@jupyter-widgets/controls",
     "model_module_version": "1.5.0",
     "model_name": "HBoxModel",
     "state": {
      "_dom_classes": [],
      "_model_module": "@jupyter-widgets/controls",
      "_model_module_version": "1.5.0",
      "_model_name": "HBoxModel",
      "_view_count": null,
      "_view_module": "@jupyter-widgets/controls",
      "_view_module_version": "1.5.0",
      "_view_name": "HBoxView",
      "box_style": "",
      "children": [
       "IPY_MODEL_021987bc13a64de2b88c9d3154e79c97",
       "IPY_MODEL_399831301a0a4c4c881bbc2d3094480e",
       "IPY_MODEL_7b24a22aa0b740c3a1813dd7f268dfad"
      ],
      "layout": "IPY_MODEL_7868d5c1c9c949b89d74bc4101e3ef9e"
     }
    },
    "ddc6b8fb94c14fc4b86dc30af2971923": {
     "model_module": "@jupyter-widgets/controls",
     "model_module_version": "1.5.0",
     "model_name": "HTMLModel",
     "state": {
      "_dom_classes": [],
      "_model_module": "@jupyter-widgets/controls",
      "_model_module_version": "1.5.0",
      "_model_name": "HTMLModel",
      "_view_count": null,
      "_view_module": "@jupyter-widgets/controls",
      "_view_module_version": "1.5.0",
      "_view_name": "HTMLView",
      "description": "",
      "description_tooltip": null,
      "layout": "IPY_MODEL_55534080aa4a4afeb640cc6cb1b45a1c",
      "placeholder": "​",
      "style": "IPY_MODEL_131beffca3814846b498fe57375b0a27",
      "value": "Downloading: 100%"
     }
    },
    "de33a4f746fd487f906219a9ad1c2c0e": {
     "model_module": "@jupyter-widgets/controls",
     "model_module_version": "1.5.0",
     "model_name": "ProgressStyleModel",
     "state": {
      "_model_module": "@jupyter-widgets/controls",
      "_model_module_version": "1.5.0",
      "_model_name": "ProgressStyleModel",
      "_view_count": null,
      "_view_module": "@jupyter-widgets/base",
      "_view_module_version": "1.2.0",
      "_view_name": "StyleView",
      "bar_color": null,
      "description_width": ""
     }
    },
    "e30f4e34f92e453a814dc61459b889dc": {
     "model_module": "@jupyter-widgets/controls",
     "model_module_version": "1.5.0",
     "model_name": "DescriptionStyleModel",
     "state": {
      "_model_module": "@jupyter-widgets/controls",
      "_model_module_version": "1.5.0",
      "_model_name": "DescriptionStyleModel",
      "_view_count": null,
      "_view_module": "@jupyter-widgets/base",
      "_view_module_version": "1.2.0",
      "_view_name": "StyleView",
      "description_width": ""
     }
    },
    "ebfd3125d9d046339a8dbce5c1794d67": {
     "model_module": "@jupyter-widgets/base",
     "model_module_version": "1.2.0",
     "model_name": "LayoutModel",
     "state": {
      "_model_module": "@jupyter-widgets/base",
      "_model_module_version": "1.2.0",
      "_model_name": "LayoutModel",
      "_view_count": null,
      "_view_module": "@jupyter-widgets/base",
      "_view_module_version": "1.2.0",
      "_view_name": "LayoutView",
      "align_content": null,
      "align_items": null,
      "align_self": null,
      "border": null,
      "bottom": null,
      "display": null,
      "flex": null,
      "flex_flow": null,
      "grid_area": null,
      "grid_auto_columns": null,
      "grid_auto_flow": null,
      "grid_auto_rows": null,
      "grid_column": null,
      "grid_gap": null,
      "grid_row": null,
      "grid_template_areas": null,
      "grid_template_columns": null,
      "grid_template_rows": null,
      "height": null,
      "justify_content": null,
      "justify_items": null,
      "left": null,
      "margin": null,
      "max_height": null,
      "max_width": null,
      "min_height": null,
      "min_width": null,
      "object_fit": null,
      "object_position": null,
      "order": null,
      "overflow": null,
      "overflow_x": null,
      "overflow_y": null,
      "padding": null,
      "right": null,
      "top": null,
      "visibility": null,
      "width": null
     }
    },
    "f4c672fdbb6145f99dbb25fc0e9a22fd": {
     "model_module": "@jupyter-widgets/controls",
     "model_module_version": "1.5.0",
     "model_name": "DescriptionStyleModel",
     "state": {
      "_model_module": "@jupyter-widgets/controls",
      "_model_module_version": "1.5.0",
      "_model_name": "DescriptionStyleModel",
      "_view_count": null,
      "_view_module": "@jupyter-widgets/base",
      "_view_module_version": "1.2.0",
      "_view_name": "StyleView",
      "description_width": ""
     }
    }
   }
  }
 },
 "nbformat": 4,
 "nbformat_minor": 4
}
