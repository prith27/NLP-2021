{
  "nbformat": 4,
  "nbformat_minor": 0,
  "metadata": {
    "colab": {
      "name": "IndicBert.ipynb",
      "provenance": [],
      "collapsed_sections": []
    },
    "kernelspec": {
      "name": "python3",
      "display_name": "Python 3"
    },
    "widgets": {
      "application/vnd.jupyter.widget-state+json": {
        "4441441790634f0fb4ba284991f37948": {
          "model_module": "@jupyter-widgets/controls",
          "model_name": "HBoxModel",
          "model_module_version": "1.5.0",
          "state": {
            "_view_name": "HBoxView",
            "_dom_classes": [],
            "_model_name": "HBoxModel",
            "_view_module": "@jupyter-widgets/controls",
            "_model_module_version": "1.5.0",
            "_view_count": null,
            "_view_module_version": "1.5.0",
            "box_style": "",
            "layout": "IPY_MODEL_989b0234a3ec44ec8c9230537a020a8e",
            "_model_module": "@jupyter-widgets/controls",
            "children": [
              "IPY_MODEL_3c08e99557c34bbf960c6600f3d80f49",
              "IPY_MODEL_3df6e4f37e0b47d99382b2b538231323",
              "IPY_MODEL_094fa4849cf34e1cba2737014bd95634"
            ]
          }
        },
        "989b0234a3ec44ec8c9230537a020a8e": {
          "model_module": "@jupyter-widgets/base",
          "model_name": "LayoutModel",
          "model_module_version": "1.2.0",
          "state": {
            "_view_name": "LayoutView",
            "grid_template_rows": null,
            "right": null,
            "justify_content": null,
            "_view_module": "@jupyter-widgets/base",
            "overflow": null,
            "_model_module_version": "1.2.0",
            "_view_count": null,
            "flex_flow": null,
            "width": null,
            "min_width": null,
            "border": null,
            "align_items": null,
            "bottom": null,
            "_model_module": "@jupyter-widgets/base",
            "top": null,
            "grid_column": null,
            "overflow_y": null,
            "overflow_x": null,
            "grid_auto_flow": null,
            "grid_area": null,
            "grid_template_columns": null,
            "flex": null,
            "_model_name": "LayoutModel",
            "justify_items": null,
            "grid_row": null,
            "max_height": null,
            "align_content": null,
            "visibility": null,
            "align_self": null,
            "height": null,
            "min_height": null,
            "padding": null,
            "grid_auto_rows": null,
            "grid_gap": null,
            "max_width": null,
            "order": null,
            "_view_module_version": "1.2.0",
            "grid_template_areas": null,
            "object_position": null,
            "object_fit": null,
            "grid_auto_columns": null,
            "margin": null,
            "display": null,
            "left": null
          }
        },
        "3c08e99557c34bbf960c6600f3d80f49": {
          "model_module": "@jupyter-widgets/controls",
          "model_name": "HTMLModel",
          "model_module_version": "1.5.0",
          "state": {
            "_view_name": "HTMLView",
            "style": "IPY_MODEL_eb39b3a8028c4c80a60f9d5f369fadb5",
            "_dom_classes": [],
            "description": "",
            "_model_name": "HTMLModel",
            "placeholder": "​",
            "_view_module": "@jupyter-widgets/controls",
            "_model_module_version": "1.5.0",
            "value": "Downloading: 100%",
            "_view_count": null,
            "_view_module_version": "1.5.0",
            "description_tooltip": null,
            "_model_module": "@jupyter-widgets/controls",
            "layout": "IPY_MODEL_35316de4f800471894bb1d3448d7f353"
          }
        },
        "3df6e4f37e0b47d99382b2b538231323": {
          "model_module": "@jupyter-widgets/controls",
          "model_name": "FloatProgressModel",
          "model_module_version": "1.5.0",
          "state": {
            "_view_name": "ProgressView",
            "style": "IPY_MODEL_9e943db37ecc4cc09a72491daf542005",
            "_dom_classes": [],
            "description": "",
            "_model_name": "FloatProgressModel",
            "bar_style": "success",
            "max": 507,
            "_view_module": "@jupyter-widgets/controls",
            "_model_module_version": "1.5.0",
            "value": 507,
            "_view_count": null,
            "_view_module_version": "1.5.0",
            "orientation": "horizontal",
            "min": 0,
            "description_tooltip": null,
            "_model_module": "@jupyter-widgets/controls",
            "layout": "IPY_MODEL_e4f4f55e9390458d827b9965b4af64f1"
          }
        },
        "094fa4849cf34e1cba2737014bd95634": {
          "model_module": "@jupyter-widgets/controls",
          "model_name": "HTMLModel",
          "model_module_version": "1.5.0",
          "state": {
            "_view_name": "HTMLView",
            "style": "IPY_MODEL_3531f369f7d44b728fe950f227d06d07",
            "_dom_classes": [],
            "description": "",
            "_model_name": "HTMLModel",
            "placeholder": "​",
            "_view_module": "@jupyter-widgets/controls",
            "_model_module_version": "1.5.0",
            "value": " 507/507 [00:00&lt;00:00, 8.61kB/s]",
            "_view_count": null,
            "_view_module_version": "1.5.0",
            "description_tooltip": null,
            "_model_module": "@jupyter-widgets/controls",
            "layout": "IPY_MODEL_8b34732bf0754b6b9129bd8bf3449897"
          }
        },
        "eb39b3a8028c4c80a60f9d5f369fadb5": {
          "model_module": "@jupyter-widgets/controls",
          "model_name": "DescriptionStyleModel",
          "model_module_version": "1.5.0",
          "state": {
            "_view_name": "StyleView",
            "_model_name": "DescriptionStyleModel",
            "description_width": "",
            "_view_module": "@jupyter-widgets/base",
            "_model_module_version": "1.5.0",
            "_view_count": null,
            "_view_module_version": "1.2.0",
            "_model_module": "@jupyter-widgets/controls"
          }
        },
        "35316de4f800471894bb1d3448d7f353": {
          "model_module": "@jupyter-widgets/base",
          "model_name": "LayoutModel",
          "model_module_version": "1.2.0",
          "state": {
            "_view_name": "LayoutView",
            "grid_template_rows": null,
            "right": null,
            "justify_content": null,
            "_view_module": "@jupyter-widgets/base",
            "overflow": null,
            "_model_module_version": "1.2.0",
            "_view_count": null,
            "flex_flow": null,
            "width": null,
            "min_width": null,
            "border": null,
            "align_items": null,
            "bottom": null,
            "_model_module": "@jupyter-widgets/base",
            "top": null,
            "grid_column": null,
            "overflow_y": null,
            "overflow_x": null,
            "grid_auto_flow": null,
            "grid_area": null,
            "grid_template_columns": null,
            "flex": null,
            "_model_name": "LayoutModel",
            "justify_items": null,
            "grid_row": null,
            "max_height": null,
            "align_content": null,
            "visibility": null,
            "align_self": null,
            "height": null,
            "min_height": null,
            "padding": null,
            "grid_auto_rows": null,
            "grid_gap": null,
            "max_width": null,
            "order": null,
            "_view_module_version": "1.2.0",
            "grid_template_areas": null,
            "object_position": null,
            "object_fit": null,
            "grid_auto_columns": null,
            "margin": null,
            "display": null,
            "left": null
          }
        },
        "9e943db37ecc4cc09a72491daf542005": {
          "model_module": "@jupyter-widgets/controls",
          "model_name": "ProgressStyleModel",
          "model_module_version": "1.5.0",
          "state": {
            "_view_name": "StyleView",
            "_model_name": "ProgressStyleModel",
            "description_width": "",
            "_view_module": "@jupyter-widgets/base",
            "_model_module_version": "1.5.0",
            "_view_count": null,
            "_view_module_version": "1.2.0",
            "bar_color": null,
            "_model_module": "@jupyter-widgets/controls"
          }
        },
        "e4f4f55e9390458d827b9965b4af64f1": {
          "model_module": "@jupyter-widgets/base",
          "model_name": "LayoutModel",
          "model_module_version": "1.2.0",
          "state": {
            "_view_name": "LayoutView",
            "grid_template_rows": null,
            "right": null,
            "justify_content": null,
            "_view_module": "@jupyter-widgets/base",
            "overflow": null,
            "_model_module_version": "1.2.0",
            "_view_count": null,
            "flex_flow": null,
            "width": null,
            "min_width": null,
            "border": null,
            "align_items": null,
            "bottom": null,
            "_model_module": "@jupyter-widgets/base",
            "top": null,
            "grid_column": null,
            "overflow_y": null,
            "overflow_x": null,
            "grid_auto_flow": null,
            "grid_area": null,
            "grid_template_columns": null,
            "flex": null,
            "_model_name": "LayoutModel",
            "justify_items": null,
            "grid_row": null,
            "max_height": null,
            "align_content": null,
            "visibility": null,
            "align_self": null,
            "height": null,
            "min_height": null,
            "padding": null,
            "grid_auto_rows": null,
            "grid_gap": null,
            "max_width": null,
            "order": null,
            "_view_module_version": "1.2.0",
            "grid_template_areas": null,
            "object_position": null,
            "object_fit": null,
            "grid_auto_columns": null,
            "margin": null,
            "display": null,
            "left": null
          }
        },
        "3531f369f7d44b728fe950f227d06d07": {
          "model_module": "@jupyter-widgets/controls",
          "model_name": "DescriptionStyleModel",
          "model_module_version": "1.5.0",
          "state": {
            "_view_name": "StyleView",
            "_model_name": "DescriptionStyleModel",
            "description_width": "",
            "_view_module": "@jupyter-widgets/base",
            "_model_module_version": "1.5.0",
            "_view_count": null,
            "_view_module_version": "1.2.0",
            "_model_module": "@jupyter-widgets/controls"
          }
        },
        "8b34732bf0754b6b9129bd8bf3449897": {
          "model_module": "@jupyter-widgets/base",
          "model_name": "LayoutModel",
          "model_module_version": "1.2.0",
          "state": {
            "_view_name": "LayoutView",
            "grid_template_rows": null,
            "right": null,
            "justify_content": null,
            "_view_module": "@jupyter-widgets/base",
            "overflow": null,
            "_model_module_version": "1.2.0",
            "_view_count": null,
            "flex_flow": null,
            "width": null,
            "min_width": null,
            "border": null,
            "align_items": null,
            "bottom": null,
            "_model_module": "@jupyter-widgets/base",
            "top": null,
            "grid_column": null,
            "overflow_y": null,
            "overflow_x": null,
            "grid_auto_flow": null,
            "grid_area": null,
            "grid_template_columns": null,
            "flex": null,
            "_model_name": "LayoutModel",
            "justify_items": null,
            "grid_row": null,
            "max_height": null,
            "align_content": null,
            "visibility": null,
            "align_self": null,
            "height": null,
            "min_height": null,
            "padding": null,
            "grid_auto_rows": null,
            "grid_gap": null,
            "max_width": null,
            "order": null,
            "_view_module_version": "1.2.0",
            "grid_template_areas": null,
            "object_position": null,
            "object_fit": null,
            "grid_auto_columns": null,
            "margin": null,
            "display": null,
            "left": null
          }
        },
        "629b8ffd55c94fe98ed9b22c97a8f3b8": {
          "model_module": "@jupyter-widgets/controls",
          "model_name": "HBoxModel",
          "model_module_version": "1.5.0",
          "state": {
            "_view_name": "HBoxView",
            "_dom_classes": [],
            "_model_name": "HBoxModel",
            "_view_module": "@jupyter-widgets/controls",
            "_model_module_version": "1.5.0",
            "_view_count": null,
            "_view_module_version": "1.5.0",
            "box_style": "",
            "layout": "IPY_MODEL_2b52459079af408eb8254c522e9ddab0",
            "_model_module": "@jupyter-widgets/controls",
            "children": [
              "IPY_MODEL_1fe3d9cd7a8d47f1bacb68fb5687f039",
              "IPY_MODEL_49e8e2bf06e84be08b159ffaa4ade129",
              "IPY_MODEL_e5f26750394947daaac7f21016a01592"
            ]
          }
        },
        "2b52459079af408eb8254c522e9ddab0": {
          "model_module": "@jupyter-widgets/base",
          "model_name": "LayoutModel",
          "model_module_version": "1.2.0",
          "state": {
            "_view_name": "LayoutView",
            "grid_template_rows": null,
            "right": null,
            "justify_content": null,
            "_view_module": "@jupyter-widgets/base",
            "overflow": null,
            "_model_module_version": "1.2.0",
            "_view_count": null,
            "flex_flow": null,
            "width": null,
            "min_width": null,
            "border": null,
            "align_items": null,
            "bottom": null,
            "_model_module": "@jupyter-widgets/base",
            "top": null,
            "grid_column": null,
            "overflow_y": null,
            "overflow_x": null,
            "grid_auto_flow": null,
            "grid_area": null,
            "grid_template_columns": null,
            "flex": null,
            "_model_name": "LayoutModel",
            "justify_items": null,
            "grid_row": null,
            "max_height": null,
            "align_content": null,
            "visibility": null,
            "align_self": null,
            "height": null,
            "min_height": null,
            "padding": null,
            "grid_auto_rows": null,
            "grid_gap": null,
            "max_width": null,
            "order": null,
            "_view_module_version": "1.2.0",
            "grid_template_areas": null,
            "object_position": null,
            "object_fit": null,
            "grid_auto_columns": null,
            "margin": null,
            "display": null,
            "left": null
          }
        },
        "1fe3d9cd7a8d47f1bacb68fb5687f039": {
          "model_module": "@jupyter-widgets/controls",
          "model_name": "HTMLModel",
          "model_module_version": "1.5.0",
          "state": {
            "_view_name": "HTMLView",
            "style": "IPY_MODEL_a342d792018543e9abfbcd7ba49f12aa",
            "_dom_classes": [],
            "description": "",
            "_model_name": "HTMLModel",
            "placeholder": "​",
            "_view_module": "@jupyter-widgets/controls",
            "_model_module_version": "1.5.0",
            "value": "Downloading: 100%",
            "_view_count": null,
            "_view_module_version": "1.5.0",
            "description_tooltip": null,
            "_model_module": "@jupyter-widgets/controls",
            "layout": "IPY_MODEL_dad30c743329454abd12ce772f1b81c0"
          }
        },
        "49e8e2bf06e84be08b159ffaa4ade129": {
          "model_module": "@jupyter-widgets/controls",
          "model_name": "FloatProgressModel",
          "model_module_version": "1.5.0",
          "state": {
            "_view_name": "ProgressView",
            "style": "IPY_MODEL_676b2d9b9a314797a84a2e7833f48b2a",
            "_dom_classes": [],
            "description": "",
            "_model_name": "FloatProgressModel",
            "bar_style": "success",
            "max": 5646064,
            "_view_module": "@jupyter-widgets/controls",
            "_model_module_version": "1.5.0",
            "value": 5646064,
            "_view_count": null,
            "_view_module_version": "1.5.0",
            "orientation": "horizontal",
            "min": 0,
            "description_tooltip": null,
            "_model_module": "@jupyter-widgets/controls",
            "layout": "IPY_MODEL_ddc315060bd8452581c2c5b84e606135"
          }
        },
        "e5f26750394947daaac7f21016a01592": {
          "model_module": "@jupyter-widgets/controls",
          "model_name": "HTMLModel",
          "model_module_version": "1.5.0",
          "state": {
            "_view_name": "HTMLView",
            "style": "IPY_MODEL_87f4721aef5840eba770e729bfa1b2c0",
            "_dom_classes": [],
            "description": "",
            "_model_name": "HTMLModel",
            "placeholder": "​",
            "_view_module": "@jupyter-widgets/controls",
            "_model_module_version": "1.5.0",
            "value": " 5.65M/5.65M [00:00&lt;00:00, 22.0MB/s]",
            "_view_count": null,
            "_view_module_version": "1.5.0",
            "description_tooltip": null,
            "_model_module": "@jupyter-widgets/controls",
            "layout": "IPY_MODEL_7095b1a196064bbf9b0e7bf924e46b09"
          }
        },
        "a342d792018543e9abfbcd7ba49f12aa": {
          "model_module": "@jupyter-widgets/controls",
          "model_name": "DescriptionStyleModel",
          "model_module_version": "1.5.0",
          "state": {
            "_view_name": "StyleView",
            "_model_name": "DescriptionStyleModel",
            "description_width": "",
            "_view_module": "@jupyter-widgets/base",
            "_model_module_version": "1.5.0",
            "_view_count": null,
            "_view_module_version": "1.2.0",
            "_model_module": "@jupyter-widgets/controls"
          }
        },
        "dad30c743329454abd12ce772f1b81c0": {
          "model_module": "@jupyter-widgets/base",
          "model_name": "LayoutModel",
          "model_module_version": "1.2.0",
          "state": {
            "_view_name": "LayoutView",
            "grid_template_rows": null,
            "right": null,
            "justify_content": null,
            "_view_module": "@jupyter-widgets/base",
            "overflow": null,
            "_model_module_version": "1.2.0",
            "_view_count": null,
            "flex_flow": null,
            "width": null,
            "min_width": null,
            "border": null,
            "align_items": null,
            "bottom": null,
            "_model_module": "@jupyter-widgets/base",
            "top": null,
            "grid_column": null,
            "overflow_y": null,
            "overflow_x": null,
            "grid_auto_flow": null,
            "grid_area": null,
            "grid_template_columns": null,
            "flex": null,
            "_model_name": "LayoutModel",
            "justify_items": null,
            "grid_row": null,
            "max_height": null,
            "align_content": null,
            "visibility": null,
            "align_self": null,
            "height": null,
            "min_height": null,
            "padding": null,
            "grid_auto_rows": null,
            "grid_gap": null,
            "max_width": null,
            "order": null,
            "_view_module_version": "1.2.0",
            "grid_template_areas": null,
            "object_position": null,
            "object_fit": null,
            "grid_auto_columns": null,
            "margin": null,
            "display": null,
            "left": null
          }
        },
        "676b2d9b9a314797a84a2e7833f48b2a": {
          "model_module": "@jupyter-widgets/controls",
          "model_name": "ProgressStyleModel",
          "model_module_version": "1.5.0",
          "state": {
            "_view_name": "StyleView",
            "_model_name": "ProgressStyleModel",
            "description_width": "",
            "_view_module": "@jupyter-widgets/base",
            "_model_module_version": "1.5.0",
            "_view_count": null,
            "_view_module_version": "1.2.0",
            "bar_color": null,
            "_model_module": "@jupyter-widgets/controls"
          }
        },
        "ddc315060bd8452581c2c5b84e606135": {
          "model_module": "@jupyter-widgets/base",
          "model_name": "LayoutModel",
          "model_module_version": "1.2.0",
          "state": {
            "_view_name": "LayoutView",
            "grid_template_rows": null,
            "right": null,
            "justify_content": null,
            "_view_module": "@jupyter-widgets/base",
            "overflow": null,
            "_model_module_version": "1.2.0",
            "_view_count": null,
            "flex_flow": null,
            "width": null,
            "min_width": null,
            "border": null,
            "align_items": null,
            "bottom": null,
            "_model_module": "@jupyter-widgets/base",
            "top": null,
            "grid_column": null,
            "overflow_y": null,
            "overflow_x": null,
            "grid_auto_flow": null,
            "grid_area": null,
            "grid_template_columns": null,
            "flex": null,
            "_model_name": "LayoutModel",
            "justify_items": null,
            "grid_row": null,
            "max_height": null,
            "align_content": null,
            "visibility": null,
            "align_self": null,
            "height": null,
            "min_height": null,
            "padding": null,
            "grid_auto_rows": null,
            "grid_gap": null,
            "max_width": null,
            "order": null,
            "_view_module_version": "1.2.0",
            "grid_template_areas": null,
            "object_position": null,
            "object_fit": null,
            "grid_auto_columns": null,
            "margin": null,
            "display": null,
            "left": null
          }
        },
        "87f4721aef5840eba770e729bfa1b2c0": {
          "model_module": "@jupyter-widgets/controls",
          "model_name": "DescriptionStyleModel",
          "model_module_version": "1.5.0",
          "state": {
            "_view_name": "StyleView",
            "_model_name": "DescriptionStyleModel",
            "description_width": "",
            "_view_module": "@jupyter-widgets/base",
            "_model_module_version": "1.5.0",
            "_view_count": null,
            "_view_module_version": "1.2.0",
            "_model_module": "@jupyter-widgets/controls"
          }
        },
        "7095b1a196064bbf9b0e7bf924e46b09": {
          "model_module": "@jupyter-widgets/base",
          "model_name": "LayoutModel",
          "model_module_version": "1.2.0",
          "state": {
            "_view_name": "LayoutView",
            "grid_template_rows": null,
            "right": null,
            "justify_content": null,
            "_view_module": "@jupyter-widgets/base",
            "overflow": null,
            "_model_module_version": "1.2.0",
            "_view_count": null,
            "flex_flow": null,
            "width": null,
            "min_width": null,
            "border": null,
            "align_items": null,
            "bottom": null,
            "_model_module": "@jupyter-widgets/base",
            "top": null,
            "grid_column": null,
            "overflow_y": null,
            "overflow_x": null,
            "grid_auto_flow": null,
            "grid_area": null,
            "grid_template_columns": null,
            "flex": null,
            "_model_name": "LayoutModel",
            "justify_items": null,
            "grid_row": null,
            "max_height": null,
            "align_content": null,
            "visibility": null,
            "align_self": null,
            "height": null,
            "min_height": null,
            "padding": null,
            "grid_auto_rows": null,
            "grid_gap": null,
            "max_width": null,
            "order": null,
            "_view_module_version": "1.2.0",
            "grid_template_areas": null,
            "object_position": null,
            "object_fit": null,
            "grid_auto_columns": null,
            "margin": null,
            "display": null,
            "left": null
          }
        },
        "f18e2c5852554d1480ff9d3611896fc3": {
          "model_module": "@jupyter-widgets/controls",
          "model_name": "HBoxModel",
          "model_module_version": "1.5.0",
          "state": {
            "_view_name": "HBoxView",
            "_dom_classes": [],
            "_model_name": "HBoxModel",
            "_view_module": "@jupyter-widgets/controls",
            "_model_module_version": "1.5.0",
            "_view_count": null,
            "_view_module_version": "1.5.0",
            "box_style": "",
            "layout": "IPY_MODEL_430b870c25e94ffa907e2cf725568f02",
            "_model_module": "@jupyter-widgets/controls",
            "children": [
              "IPY_MODEL_06eba47af180491b952fdaacc1785558",
              "IPY_MODEL_8b7830ba165443ddbe754e305b1e0b59",
              "IPY_MODEL_36626412f8074d8c93af0c9066f38d0e"
            ]
          }
        },
        "430b870c25e94ffa907e2cf725568f02": {
          "model_module": "@jupyter-widgets/base",
          "model_name": "LayoutModel",
          "model_module_version": "1.2.0",
          "state": {
            "_view_name": "LayoutView",
            "grid_template_rows": null,
            "right": null,
            "justify_content": null,
            "_view_module": "@jupyter-widgets/base",
            "overflow": null,
            "_model_module_version": "1.2.0",
            "_view_count": null,
            "flex_flow": null,
            "width": null,
            "min_width": null,
            "border": null,
            "align_items": null,
            "bottom": null,
            "_model_module": "@jupyter-widgets/base",
            "top": null,
            "grid_column": null,
            "overflow_y": null,
            "overflow_x": null,
            "grid_auto_flow": null,
            "grid_area": null,
            "grid_template_columns": null,
            "flex": null,
            "_model_name": "LayoutModel",
            "justify_items": null,
            "grid_row": null,
            "max_height": null,
            "align_content": null,
            "visibility": null,
            "align_self": null,
            "height": null,
            "min_height": null,
            "padding": null,
            "grid_auto_rows": null,
            "grid_gap": null,
            "max_width": null,
            "order": null,
            "_view_module_version": "1.2.0",
            "grid_template_areas": null,
            "object_position": null,
            "object_fit": null,
            "grid_auto_columns": null,
            "margin": null,
            "display": null,
            "left": null
          }
        },
        "06eba47af180491b952fdaacc1785558": {
          "model_module": "@jupyter-widgets/controls",
          "model_name": "HTMLModel",
          "model_module_version": "1.5.0",
          "state": {
            "_view_name": "HTMLView",
            "style": "IPY_MODEL_e4eeae4fc7304c1eac6079d92c9f7935",
            "_dom_classes": [],
            "description": "",
            "_model_name": "HTMLModel",
            "placeholder": "​",
            "_view_module": "@jupyter-widgets/controls",
            "_model_module_version": "1.5.0",
            "value": "Downloading: 100%",
            "_view_count": null,
            "_view_module_version": "1.5.0",
            "description_tooltip": null,
            "_model_module": "@jupyter-widgets/controls",
            "layout": "IPY_MODEL_4b44650a2fdf41b281f21e934cb3106d"
          }
        },
        "8b7830ba165443ddbe754e305b1e0b59": {
          "model_module": "@jupyter-widgets/controls",
          "model_name": "FloatProgressModel",
          "model_module_version": "1.5.0",
          "state": {
            "_view_name": "ProgressView",
            "style": "IPY_MODEL_4f15ea5a57a14ed88c75a729f1619a5d",
            "_dom_classes": [],
            "description": "",
            "_model_name": "FloatProgressModel",
            "bar_style": "success",
            "max": 134982446,
            "_view_module": "@jupyter-widgets/controls",
            "_model_module_version": "1.5.0",
            "value": 134982446,
            "_view_count": null,
            "_view_module_version": "1.5.0",
            "orientation": "horizontal",
            "min": 0,
            "description_tooltip": null,
            "_model_module": "@jupyter-widgets/controls",
            "layout": "IPY_MODEL_e5f7ef645c2141e1aeb71e3e17a4cfae"
          }
        },
        "36626412f8074d8c93af0c9066f38d0e": {
          "model_module": "@jupyter-widgets/controls",
          "model_name": "HTMLModel",
          "model_module_version": "1.5.0",
          "state": {
            "_view_name": "HTMLView",
            "style": "IPY_MODEL_b0d360fdfeaa4d9c8780848ab751aa86",
            "_dom_classes": [],
            "description": "",
            "_model_name": "HTMLModel",
            "placeholder": "​",
            "_view_module": "@jupyter-widgets/controls",
            "_model_module_version": "1.5.0",
            "value": " 135M/135M [00:03&lt;00:00, 35.0MB/s]",
            "_view_count": null,
            "_view_module_version": "1.5.0",
            "description_tooltip": null,
            "_model_module": "@jupyter-widgets/controls",
            "layout": "IPY_MODEL_b20945f402d047468845a51433a5540b"
          }
        },
        "e4eeae4fc7304c1eac6079d92c9f7935": {
          "model_module": "@jupyter-widgets/controls",
          "model_name": "DescriptionStyleModel",
          "model_module_version": "1.5.0",
          "state": {
            "_view_name": "StyleView",
            "_model_name": "DescriptionStyleModel",
            "description_width": "",
            "_view_module": "@jupyter-widgets/base",
            "_model_module_version": "1.5.0",
            "_view_count": null,
            "_view_module_version": "1.2.0",
            "_model_module": "@jupyter-widgets/controls"
          }
        },
        "4b44650a2fdf41b281f21e934cb3106d": {
          "model_module": "@jupyter-widgets/base",
          "model_name": "LayoutModel",
          "model_module_version": "1.2.0",
          "state": {
            "_view_name": "LayoutView",
            "grid_template_rows": null,
            "right": null,
            "justify_content": null,
            "_view_module": "@jupyter-widgets/base",
            "overflow": null,
            "_model_module_version": "1.2.0",
            "_view_count": null,
            "flex_flow": null,
            "width": null,
            "min_width": null,
            "border": null,
            "align_items": null,
            "bottom": null,
            "_model_module": "@jupyter-widgets/base",
            "top": null,
            "grid_column": null,
            "overflow_y": null,
            "overflow_x": null,
            "grid_auto_flow": null,
            "grid_area": null,
            "grid_template_columns": null,
            "flex": null,
            "_model_name": "LayoutModel",
            "justify_items": null,
            "grid_row": null,
            "max_height": null,
            "align_content": null,
            "visibility": null,
            "align_self": null,
            "height": null,
            "min_height": null,
            "padding": null,
            "grid_auto_rows": null,
            "grid_gap": null,
            "max_width": null,
            "order": null,
            "_view_module_version": "1.2.0",
            "grid_template_areas": null,
            "object_position": null,
            "object_fit": null,
            "grid_auto_columns": null,
            "margin": null,
            "display": null,
            "left": null
          }
        },
        "4f15ea5a57a14ed88c75a729f1619a5d": {
          "model_module": "@jupyter-widgets/controls",
          "model_name": "ProgressStyleModel",
          "model_module_version": "1.5.0",
          "state": {
            "_view_name": "StyleView",
            "_model_name": "ProgressStyleModel",
            "description_width": "",
            "_view_module": "@jupyter-widgets/base",
            "_model_module_version": "1.5.0",
            "_view_count": null,
            "_view_module_version": "1.2.0",
            "bar_color": null,
            "_model_module": "@jupyter-widgets/controls"
          }
        },
        "e5f7ef645c2141e1aeb71e3e17a4cfae": {
          "model_module": "@jupyter-widgets/base",
          "model_name": "LayoutModel",
          "model_module_version": "1.2.0",
          "state": {
            "_view_name": "LayoutView",
            "grid_template_rows": null,
            "right": null,
            "justify_content": null,
            "_view_module": "@jupyter-widgets/base",
            "overflow": null,
            "_model_module_version": "1.2.0",
            "_view_count": null,
            "flex_flow": null,
            "width": null,
            "min_width": null,
            "border": null,
            "align_items": null,
            "bottom": null,
            "_model_module": "@jupyter-widgets/base",
            "top": null,
            "grid_column": null,
            "overflow_y": null,
            "overflow_x": null,
            "grid_auto_flow": null,
            "grid_area": null,
            "grid_template_columns": null,
            "flex": null,
            "_model_name": "LayoutModel",
            "justify_items": null,
            "grid_row": null,
            "max_height": null,
            "align_content": null,
            "visibility": null,
            "align_self": null,
            "height": null,
            "min_height": null,
            "padding": null,
            "grid_auto_rows": null,
            "grid_gap": null,
            "max_width": null,
            "order": null,
            "_view_module_version": "1.2.0",
            "grid_template_areas": null,
            "object_position": null,
            "object_fit": null,
            "grid_auto_columns": null,
            "margin": null,
            "display": null,
            "left": null
          }
        },
        "b0d360fdfeaa4d9c8780848ab751aa86": {
          "model_module": "@jupyter-widgets/controls",
          "model_name": "DescriptionStyleModel",
          "model_module_version": "1.5.0",
          "state": {
            "_view_name": "StyleView",
            "_model_name": "DescriptionStyleModel",
            "description_width": "",
            "_view_module": "@jupyter-widgets/base",
            "_model_module_version": "1.5.0",
            "_view_count": null,
            "_view_module_version": "1.2.0",
            "_model_module": "@jupyter-widgets/controls"
          }
        },
        "b20945f402d047468845a51433a5540b": {
          "model_module": "@jupyter-widgets/base",
          "model_name": "LayoutModel",
          "model_module_version": "1.2.0",
          "state": {
            "_view_name": "LayoutView",
            "grid_template_rows": null,
            "right": null,
            "justify_content": null,
            "_view_module": "@jupyter-widgets/base",
            "overflow": null,
            "_model_module_version": "1.2.0",
            "_view_count": null,
            "flex_flow": null,
            "width": null,
            "min_width": null,
            "border": null,
            "align_items": null,
            "bottom": null,
            "_model_module": "@jupyter-widgets/base",
            "top": null,
            "grid_column": null,
            "overflow_y": null,
            "overflow_x": null,
            "grid_auto_flow": null,
            "grid_area": null,
            "grid_template_columns": null,
            "flex": null,
            "_model_name": "LayoutModel",
            "justify_items": null,
            "grid_row": null,
            "max_height": null,
            "align_content": null,
            "visibility": null,
            "align_self": null,
            "height": null,
            "min_height": null,
            "padding": null,
            "grid_auto_rows": null,
            "grid_gap": null,
            "max_width": null,
            "order": null,
            "_view_module_version": "1.2.0",
            "grid_template_areas": null,
            "object_position": null,
            "object_fit": null,
            "grid_auto_columns": null,
            "margin": null,
            "display": null,
            "left": null
          }
        }
      }
    },
    "language_info": {
      "name": "python"
    }
  },
  "cells": [
    {
      "cell_type": "markdown",
      "metadata": {
        "id": "GIl6omWOFXxf"
      },
      "source": [
        "## Environment Setup"
      ]
    },
    {
      "cell_type": "code",
      "metadata": {
        "colab": {
          "base_uri": "https://localhost:8080/"
        },
        "id": "TxVtHpFnh4ss",
        "outputId": "6a55d98d-901e-4071-f463-7ab02070b91f"
      },
      "source": [
        "! pip install -q transformers\n",
        "! pip install -q sentencepiece\n",
        "! pip install -q nltk\n",
        "! git clone https://github.com/bhargav25dave1996/ICHCL_baseline.git\n",
        "% cd /content/ICHCL_baseline"
      ],
      "execution_count": 1,
      "outputs": [
        {
          "output_type": "stream",
          "text": [
            "\u001b[K     |████████████████████████████████| 2.6 MB 28.1 MB/s \n",
            "\u001b[K     |████████████████████████████████| 895 kB 68.0 MB/s \n",
            "\u001b[K     |████████████████████████████████| 636 kB 62.7 MB/s \n",
            "\u001b[K     |████████████████████████████████| 3.3 MB 67.4 MB/s \n",
            "\u001b[K     |████████████████████████████████| 1.2 MB 30.6 MB/s \n",
            "\u001b[?25hCloning into 'ICHCL_baseline'...\n",
            "remote: Enumerating objects: 270, done.\u001b[K\n",
            "remote: Counting objects: 100% (270/270), done.\u001b[K\n",
            "remote: Compressing objects: 100% (262/262), done.\u001b[K\n",
            "remote: Total 270 (delta 5), reused 267 (delta 5), pack-reused 0\u001b[K\n",
            "Receiving objects: 100% (270/270), 477.18 KiB | 14.46 MiB/s, done.\n",
            "Resolving deltas: 100% (5/5), done.\n",
            "/content/ICHCL_baseline\n"
          ],
          "name": "stdout"
        }
      ]
    },
    {
      "cell_type": "code",
      "metadata": {
        "id": "SKmm2GiGLO3z"
      },
      "source": [
        "! mkdir X_train\n",
        "! mkdir X_val\n",
        "! mkdir y_train\n",
        "! mkdir y_val"
      ],
      "execution_count": 2,
      "outputs": []
    },
    {
      "cell_type": "markdown",
      "metadata": {
        "id": "Nys_C29wFXxk"
      },
      "source": [
        "## Importing Libraries"
      ]
    },
    {
      "cell_type": "code",
      "metadata": {
        "colab": {
          "base_uri": "https://localhost:8080/"
        },
        "id": "lp8OHXX6jdhv",
        "outputId": "5475afa4-fda6-4a85-dc7d-7d0d98b02593"
      },
      "source": [
        "import nltk\n",
        "nltk.download('stopwords')\n",
        "\n",
        "import pandas as pd\n",
        "import numpy as np\n",
        "from glob import glob\n",
        "import re\n",
        "import json\n",
        "\n",
        "import time\n",
        "import pickle\n",
        "\n",
        "from sklearn.feature_extraction.text import TfidfVectorizer\n",
        "from sklearn.model_selection import train_test_split\n",
        "from sklearn.linear_model import LogisticRegression\n",
        "from sklearn.metrics import classification_report\n",
        "from sklearn.preprocessing import LabelEncoder\n",
        "\n",
        "from tensorflow.keras import Sequential\n",
        "from tensorflow.keras.layers import Dense, Dropout\n",
        "\n",
        "\n",
        "from nltk.corpus import stopwords\n",
        "from nltk.stem import SnowballStemmer\n",
        "import stemmer as hindi_stemmer\n",
        "\n",
        "import torch\n",
        "import tensorflow as tf"
      ],
      "execution_count": 3,
      "outputs": [
        {
          "output_type": "stream",
          "text": [
            "[nltk_data] Downloading package stopwords to /root/nltk_data...\n",
            "[nltk_data]   Unzipping corpora/stopwords.zip.\n"
          ],
          "name": "stdout"
        }
      ]
    },
    {
      "cell_type": "code",
      "metadata": {
        "id": "cxXPsWtsj-MW"
      },
      "source": [
        "english_stopwords = stopwords.words(\"english\")\n",
        "with open('final_stopwords.txt', encoding = 'utf-8') as f:\n",
        "    hindi_stopwords = f.readlines()\n",
        "    for i in range(len(hindi_stopwords)):\n",
        "        hindi_stopwords[i] = re.sub('\\n','',hindi_stopwords[i])\n",
        "stopwords = english_stopwords + hindi_stopwords\n",
        "english_stemmer = SnowballStemmer(\"english\")"
      ],
      "execution_count": 4,
      "outputs": []
    },
    {
      "cell_type": "markdown",
      "metadata": {
        "id": "XIUBEmrnkCTc"
      },
      "source": [
        "## Reading Data"
      ]
    },
    {
      "cell_type": "code",
      "metadata": {
        "id": "5QyaBeVXkEn_"
      },
      "source": [
        "train_directories = []\n",
        "for i in glob(\"data/train/*/\"):\n",
        "    for j in glob(i+'*/'):\n",
        "        train_directories.append(j)"
      ],
      "execution_count": 5,
      "outputs": []
    },
    {
      "cell_type": "code",
      "metadata": {
        "id": "I4K14rGCkHG9"
      },
      "source": [
        "data = []\n",
        "for i in train_directories:\n",
        "    with open(i+'data.json', encoding='utf-8') as f:\n",
        "        data.append(json.load(f))\n",
        "labels = []\n",
        "for i in train_directories:\n",
        "    with open(i+'labels.json', encoding='utf-8') as f:\n",
        "        labels.append(json.load(f))"
      ],
      "execution_count": 6,
      "outputs": []
    },
    {
      "cell_type": "code",
      "metadata": {
        "id": "OiB3R90fkJFV"
      },
      "source": [
        "def tr_flatten(d,l):\n",
        "    flat_text = []\n",
        "    flat_text.append({\n",
        "        'tweet_id':d['tweet_id'],\n",
        "        'text':d['tweet'],\n",
        "        'label':l[d['tweet_id']]\n",
        "    })\n",
        "\n",
        "    for i in d['comments']:\n",
        "            flat_text.append({\n",
        "                'tweet_id':i['tweet_id'],\n",
        "                'text':flat_text[0]['text'] +' '+i['tweet'], #flattening comments(appending one after the other)\n",
        "                'label':l[i['tweet_id']]\n",
        "            })\n",
        "            if 'replies' in i.keys():\n",
        "                for j in i['replies']:\n",
        "                    flat_text.append({\n",
        "                        'tweet_id':j['tweet_id'],\n",
        "                        'text':flat_text[0]['text'] +' '+ i['tweet'] +' '+ j['tweet'], #flattening replies\n",
        "                        'label':l[j['tweet_id']]\n",
        "                    })\n",
        "    return flat_text\n",
        "\n",
        "def te_flatten(d):\n",
        "    flat_text = []\n",
        "    flat_text.append({\n",
        "        'tweet_id':d['tweet_id'],\n",
        "        'text':d['tweet'],\n",
        "    })\n",
        "\n",
        "    for i in d['comments']:\n",
        "            flat_text.append({\n",
        "                'tweet_id':i['tweet_id'],\n",
        "                'text':flat_text[0]['text'] + i['tweet'],\n",
        "            })\n",
        "            if 'replies' in i.keys():\n",
        "                for j in i['replies']:\n",
        "                    flat_text.append({\n",
        "                        'tweet_id':j['tweet_id'],\n",
        "                        'text':flat_text[0]['text'] + i['tweet'] + j['tweet'],\n",
        "                    })\n",
        "    return flat_text"
      ],
      "execution_count": 7,
      "outputs": []
    },
    {
      "cell_type": "code",
      "metadata": {
        "id": "_14FOdUdkK8Q"
      },
      "source": [
        "data_label = []\n",
        "#for train\n",
        "for i in range(len(labels)):\n",
        "    for j in tr_flatten(data[i], labels[i]):\n",
        "        data_label.append(j)\n",
        "train_len = len(data_label)"
      ],
      "execution_count": 8,
      "outputs": []
    },
    {
      "cell_type": "code",
      "metadata": {
        "id": "iVP4zROmkMu-"
      },
      "source": [
        "df = pd.DataFrame(data_label, columns = data_label[0].keys(), index = None)"
      ],
      "execution_count": 9,
      "outputs": []
    },
    {
      "cell_type": "code",
      "metadata": {
        "id": "iEcC5fgSkOzl"
      },
      "source": [
        "tweets = df.text\n",
        "y = df.label"
      ],
      "execution_count": 10,
      "outputs": []
    },
    {
      "cell_type": "markdown",
      "metadata": {
        "id": "YjStK--lkYv5"
      },
      "source": [
        "## Preprocessing"
      ]
    },
    {
      "cell_type": "code",
      "metadata": {
        "id": "xtW-zeFfkbdc"
      },
      "source": [
        "regex_for_english_hindi_emojis=\"[^a-zA-Z#\\U0001F300-\\U0001F5FF'|'\\U0001F600-\\U0001F64F'|'\\U0001F680-\\U0001F6FF'|'\\u2600-\\u26FF\\u2700-\\u27BF\\u0900-\\u097F]\"\n",
        "def clean_tweet(tweet):\n",
        "    tweet = re.sub(r\"@[A-Za-z0-9]+\",' ', tweet)\n",
        "    tweet = re.sub(r\"https?://[A-Za-z0-9./]+\",' ', tweet)\n",
        "    tweet = re.sub(regex_for_english_hindi_emojis,' ', tweet)\n",
        "    tweet = re.sub(\"RT \", \" \", tweet)\n",
        "    tweet = re.sub(\"\\n\", \" \", tweet)\n",
        "    tweet = re.sub(r\" +\", \" \", tweet)\n",
        "    tokens = []\n",
        "    for token in tweet.split():\n",
        "        if token not in stopwords:\n",
        "            token = english_stemmer.stem(token)\n",
        "            token = hindi_stemmer.hi_stem(token)\n",
        "            tokens.append(token)\n",
        "    return \" \".join(tokens)"
      ],
      "execution_count": 11,
      "outputs": []
    },
    {
      "cell_type": "code",
      "metadata": {
        "id": "8Bf4BrkzkdF_"
      },
      "source": [
        "cleaned_tweets = [clean_tweet(tweet) for tweet in tweets]"
      ],
      "execution_count": 12,
      "outputs": []
    },
    {
      "cell_type": "code",
      "metadata": {
        "colab": {
          "base_uri": "https://localhost:8080/",
          "height": 35
        },
        "id": "o38NRIX2kejz",
        "outputId": "ca4762d2-eb53-4233-ca8d-83df6c066477"
      },
      "source": [
        "'''\n",
        "vectorizer = TfidfVectorizer(min_df = 5)\n",
        "X = vectorizer.fit_transform(cleaned_tweets)\n",
        "X = X.todense()\n",
        "'''"
      ],
      "execution_count": 13,
      "outputs": [
        {
          "output_type": "execute_result",
          "data": {
            "application/vnd.google.colaboratory.intrinsic+json": {
              "type": "string"
            },
            "text/plain": [
              "'\\nvectorizer = TfidfVectorizer(min_df = 5)\\nX = vectorizer.fit_transform(cleaned_tweets)\\nX = X.todense()\\n'"
            ]
          },
          "metadata": {},
          "execution_count": 13
        }
      ]
    },
    {
      "cell_type": "code",
      "metadata": {
        "id": "8395mtBynRhw"
      },
      "source": [
        "X = cleaned_tweets"
      ],
      "execution_count": 14,
      "outputs": []
    },
    {
      "cell_type": "code",
      "metadata": {
        "id": "trIPKWOdtNAR"
      },
      "source": [
        "y = y.to_list()\n",
        "\n",
        "for i in range(len(y)):\n",
        "    if y[i] == 'HOF':\n",
        "        y[i] = 1\n",
        "    else:\n",
        "        y[i] = 0"
      ],
      "execution_count": 15,
      "outputs": []
    },
    {
      "cell_type": "markdown",
      "metadata": {
        "id": "_UCerUECkhZc"
      },
      "source": [
        "## Test-Train Split"
      ]
    },
    {
      "cell_type": "code",
      "metadata": {
        "id": "V249GDrbkkXo"
      },
      "source": [
        "X_train, X_val, y_train, y_val = train_test_split(X, y, test_size=0.2, random_state=42)"
      ],
      "execution_count": 16,
      "outputs": []
    },
    {
      "cell_type": "markdown",
      "metadata": {
        "id": "mllusAOFmpNJ"
      },
      "source": [
        "## Load Model"
      ]
    },
    {
      "cell_type": "code",
      "metadata": {
        "colab": {
          "base_uri": "https://localhost:8080/",
          "height": 186,
          "referenced_widgets": [
            "4441441790634f0fb4ba284991f37948",
            "989b0234a3ec44ec8c9230537a020a8e",
            "3c08e99557c34bbf960c6600f3d80f49",
            "3df6e4f37e0b47d99382b2b538231323",
            "094fa4849cf34e1cba2737014bd95634",
            "eb39b3a8028c4c80a60f9d5f369fadb5",
            "35316de4f800471894bb1d3448d7f353",
            "9e943db37ecc4cc09a72491daf542005",
            "e4f4f55e9390458d827b9965b4af64f1",
            "3531f369f7d44b728fe950f227d06d07",
            "8b34732bf0754b6b9129bd8bf3449897",
            "629b8ffd55c94fe98ed9b22c97a8f3b8",
            "2b52459079af408eb8254c522e9ddab0",
            "1fe3d9cd7a8d47f1bacb68fb5687f039",
            "49e8e2bf06e84be08b159ffaa4ade129",
            "e5f26750394947daaac7f21016a01592",
            "a342d792018543e9abfbcd7ba49f12aa",
            "dad30c743329454abd12ce772f1b81c0",
            "676b2d9b9a314797a84a2e7833f48b2a",
            "ddc315060bd8452581c2c5b84e606135",
            "87f4721aef5840eba770e729bfa1b2c0",
            "7095b1a196064bbf9b0e7bf924e46b09",
            "f18e2c5852554d1480ff9d3611896fc3",
            "430b870c25e94ffa907e2cf725568f02",
            "06eba47af180491b952fdaacc1785558",
            "8b7830ba165443ddbe754e305b1e0b59",
            "36626412f8074d8c93af0c9066f38d0e",
            "e4eeae4fc7304c1eac6079d92c9f7935",
            "4b44650a2fdf41b281f21e934cb3106d",
            "4f15ea5a57a14ed88c75a729f1619a5d",
            "e5f7ef645c2141e1aeb71e3e17a4cfae",
            "b0d360fdfeaa4d9c8780848ab751aa86",
            "b20945f402d047468845a51433a5540b"
          ]
        },
        "id": "8rTo_jB0hCIt",
        "outputId": "d231f42c-cc17-42a8-da4e-acd2a9d52e4c"
      },
      "source": [
        "from transformers import AutoTokenizer, AutoModel\n",
        "  \n",
        "tokenizer = AutoTokenizer.from_pretrained(\"ai4bharat/indic-bert\")\n",
        "\n",
        "model = AutoModel.from_pretrained(\"ai4bharat/indic-bert\")"
      ],
      "execution_count": 17,
      "outputs": [
        {
          "output_type": "display_data",
          "data": {
            "application/vnd.jupyter.widget-view+json": {
              "model_id": "4441441790634f0fb4ba284991f37948",
              "version_minor": 0,
              "version_major": 2
            },
            "text/plain": [
              "Downloading:   0%|          | 0.00/507 [00:00<?, ?B/s]"
            ]
          },
          "metadata": {}
        },
        {
          "output_type": "display_data",
          "data": {
            "application/vnd.jupyter.widget-view+json": {
              "model_id": "629b8ffd55c94fe98ed9b22c97a8f3b8",
              "version_minor": 0,
              "version_major": 2
            },
            "text/plain": [
              "Downloading:   0%|          | 0.00/5.65M [00:00<?, ?B/s]"
            ]
          },
          "metadata": {}
        },
        {
          "output_type": "display_data",
          "data": {
            "application/vnd.jupyter.widget-view+json": {
              "model_id": "f18e2c5852554d1480ff9d3611896fc3",
              "version_minor": 0,
              "version_major": 2
            },
            "text/plain": [
              "Downloading:   0%|          | 0.00/135M [00:00<?, ?B/s]"
            ]
          },
          "metadata": {}
        },
        {
          "output_type": "stream",
          "text": [
            "Some weights of the model checkpoint at ai4bharat/indic-bert were not used when initializing AlbertModel: ['sop_classifier.classifier.bias', 'sop_classifier.classifier.weight', 'predictions.dense.weight', 'predictions.bias', 'predictions.LayerNorm.bias', 'predictions.dense.bias', 'predictions.decoder.bias', 'predictions.LayerNorm.weight', 'predictions.decoder.weight']\n",
            "- This IS expected if you are initializing AlbertModel from the checkpoint of a model trained on another task or with another architecture (e.g. initializing a BertForSequenceClassification model from a BertForPreTraining model).\n",
            "- This IS NOT expected if you are initializing AlbertModel from the checkpoint of a model that you expect to be exactly identical (initializing a BertForSequenceClassification model from a BertForSequenceClassification model).\n"
          ],
          "name": "stderr"
        }
      ]
    },
    {
      "cell_type": "markdown",
      "metadata": {
        "id": "pakbHbfwFXx2"
      },
      "source": [
        "## Sample Output"
      ]
    },
    {
      "cell_type": "code",
      "metadata": {
        "colab": {
          "base_uri": "https://localhost:8080/"
        },
        "id": "8peN3MjFFXx2",
        "outputId": "819b9615-b9e4-4acd-a0d5-0307bdac806b"
      },
      "source": [
        "tokenized_input = tokenizer(\n",
        "        X_train[0],\n",
        "        padding=True,\n",
        "        truncation=False,\n",
        "        return_tensors='pt'\n",
        "    )\n",
        "\n",
        "sample_output = model(**tokenized_input)\n",
        "\n",
        "print(sample_output)\n",
        "print(sample_output.pooler_output.cpu().detach().numpy().shape)"
      ],
      "execution_count": 18,
      "outputs": [
        {
          "output_type": "stream",
          "text": [
            "BaseModelOutputWithPooling(last_hidden_state=tensor([[[-0.0107, -0.0023, -0.0206,  ..., -0.0217, -0.0068, -0.0107],\n",
            "         [ 0.3941, -0.7381,  0.0244,  ...,  0.3811, -0.1700,  0.1687],\n",
            "         [ 0.1566, -0.4402,  0.2589,  ...,  0.3415, -0.1641,  0.0793],\n",
            "         ...,\n",
            "         [ 0.2708, -0.3056, -0.0631,  ...,  0.1474,  0.2061,  0.0272],\n",
            "         [-0.1811, -0.0760, -0.1348,  ...,  0.0109,  0.0804,  0.0891],\n",
            "         [-0.0107, -0.0023, -0.0206,  ..., -0.0217, -0.0068, -0.0107]]],\n",
            "       grad_fn=<NativeLayerNormBackward>), pooler_output=tensor([[-0.0577,  0.0521,  0.0182, -0.0068,  0.0419,  0.0830,  0.0382, -0.0124,\n",
            "         -0.0127,  0.0590, -0.0062,  0.0485,  0.0181, -0.0147,  0.0536, -0.0135,\n",
            "         -0.0389,  0.0127, -0.1167, -0.0864,  0.0853,  0.0781, -0.0314, -0.0935,\n",
            "          0.0068, -0.0357, -0.0524, -0.0108,  0.0235,  0.0055,  0.0228,  0.0018,\n",
            "          0.0124,  0.0352,  0.0030, -0.0375, -0.0258, -0.0221,  0.1135,  0.0268,\n",
            "          0.0249, -0.0166, -0.1103,  0.0427, -0.0702, -0.0326,  0.0360, -0.0674,\n",
            "         -0.0440,  0.0097, -0.0449, -0.0155,  0.0204, -0.0262, -0.0293,  0.0514,\n",
            "         -0.0192, -0.0241,  0.0533, -0.0078,  0.0146,  0.0105,  0.0661,  0.0982,\n",
            "          0.0297, -0.0270,  0.0884,  0.1027,  0.0715,  0.0223,  0.0378, -0.0216,\n",
            "          0.0047,  0.1594,  0.0258,  0.0288,  0.0151,  0.0080, -0.0926,  0.0569,\n",
            "          0.0303, -0.0483,  0.0326,  0.0143, -0.0417,  0.0309,  0.0080,  0.0507,\n",
            "         -0.0151, -0.0281,  0.0206, -0.1012,  0.0902,  0.0852,  0.0665,  0.0148,\n",
            "          0.0096, -0.0126, -0.0394,  0.0468, -0.0537,  0.1118, -0.0682,  0.0868,\n",
            "          0.0593, -0.0403,  0.0379, -0.0599,  0.0465,  0.0614, -0.0197,  0.0492,\n",
            "          0.0278, -0.0194, -0.0646,  0.0763, -0.1193, -0.0830, -0.0633,  0.0542,\n",
            "         -0.0156,  0.0629,  0.0100, -0.0793, -0.0708,  0.0625,  0.0865,  0.0964,\n",
            "          0.0315, -0.0223, -0.0440,  0.0419, -0.0082,  0.0335,  0.0898, -0.0580,\n",
            "         -0.0062, -0.0002, -0.0125,  0.0082, -0.0347, -0.0065, -0.0727, -0.0143,\n",
            "         -0.0146, -0.0006, -0.0289, -0.0372, -0.0269,  0.0509,  0.0750,  0.0099,\n",
            "          0.0105, -0.0094, -0.0825, -0.0068,  0.0361, -0.1001,  0.0510,  0.0935,\n",
            "          0.0288,  0.0732, -0.0585,  0.0273,  0.0319, -0.0640,  0.0041, -0.0912,\n",
            "          0.0881, -0.0860,  0.0224,  0.0247,  0.0278, -0.0453, -0.0490, -0.0203,\n",
            "          0.0139, -0.0052, -0.0667, -0.0261, -0.0090,  0.0580,  0.0565,  0.0298,\n",
            "         -0.0581,  0.0171,  0.0510, -0.0681, -0.0078, -0.0823, -0.0665,  0.0647,\n",
            "          0.0532, -0.0842,  0.0216, -0.0012,  0.0408,  0.0168,  0.0914, -0.0640,\n",
            "         -0.0287,  0.0879, -0.0383, -0.0631, -0.0557, -0.0163, -0.0949,  0.0467,\n",
            "         -0.0081,  0.0343,  0.0295, -0.0168,  0.0589,  0.0376, -0.0389, -0.0012,\n",
            "         -0.0654,  0.0391,  0.0365,  0.0377, -0.0080, -0.0879, -0.0319, -0.0452,\n",
            "          0.0090, -0.0263, -0.0859, -0.0263,  0.0047,  0.0067, -0.0432, -0.1474,\n",
            "          0.0339, -0.0153, -0.0835,  0.0073,  0.0067,  0.0237,  0.0370, -0.0040,\n",
            "          0.0403,  0.0062,  0.0051, -0.0209, -0.0712,  0.0749,  0.0140, -0.0949,\n",
            "          0.0556,  0.0094,  0.1291,  0.0316, -0.0392,  0.0464,  0.0608,  0.0718,\n",
            "          0.0420,  0.0384, -0.0160, -0.0436,  0.0266,  0.0191, -0.0393, -0.0050,\n",
            "          0.0313, -0.0266, -0.0104,  0.0581,  0.0399, -0.0637, -0.0703,  0.0750,\n",
            "          0.0766,  0.0421, -0.0299,  0.0810, -0.0199,  0.0466,  0.1232,  0.0578,\n",
            "          0.0706, -0.0647, -0.0809, -0.0587,  0.0559, -0.0095,  0.0635,  0.0387,\n",
            "         -0.0524,  0.0535,  0.0722,  0.0634, -0.0543,  0.0247, -0.0064, -0.0380,\n",
            "          0.1119,  0.0976,  0.0987, -0.0128,  0.0047,  0.0176,  0.0498, -0.0068,\n",
            "         -0.0819, -0.0050, -0.0395,  0.0035, -0.0369,  0.0728,  0.0015,  0.0612,\n",
            "          0.1002, -0.0490,  0.0230,  0.1144, -0.0696,  0.0052,  0.0050,  0.0154,\n",
            "          0.0577, -0.0772, -0.0741,  0.0059, -0.0083,  0.0104,  0.0334, -0.0019,\n",
            "         -0.0331, -0.0874,  0.0546, -0.0138, -0.0648, -0.0199, -0.0171,  0.0189,\n",
            "          0.0035,  0.0515,  0.0456, -0.0217, -0.0745, -0.0440, -0.0412, -0.0249,\n",
            "          0.0259,  0.0527,  0.0078,  0.0174, -0.0603, -0.0553, -0.0953,  0.0476,\n",
            "         -0.0513,  0.0729, -0.0428,  0.0322, -0.0322, -0.1021, -0.0161, -0.0411,\n",
            "          0.0175, -0.0062, -0.0433,  0.0282,  0.0426, -0.0661, -0.0257,  0.1023,\n",
            "          0.0158,  0.0509,  0.0761,  0.0138,  0.0421, -0.1324,  0.0286, -0.0009,\n",
            "          0.0233, -0.0372,  0.0496,  0.0344,  0.0689, -0.0084,  0.0299, -0.0343,\n",
            "         -0.0044, -0.0278,  0.0483, -0.0048,  0.0233,  0.0636, -0.0074,  0.0186,\n",
            "         -0.0656, -0.0047,  0.0099,  0.0354,  0.0886, -0.0367, -0.0036, -0.0007,\n",
            "          0.0046,  0.0243, -0.0088,  0.0349, -0.0378, -0.1428,  0.0414,  0.0823,\n",
            "         -0.0506, -0.0457, -0.0488, -0.0138,  0.0380,  0.0881, -0.0262,  0.0861,\n",
            "          0.0200,  0.0810, -0.0162,  0.0081,  0.0630,  0.0510,  0.0358, -0.0101,\n",
            "          0.0807,  0.0723,  0.0097,  0.0420,  0.0033,  0.0543, -0.0127,  0.0510,\n",
            "          0.0741,  0.0815, -0.0234,  0.0300, -0.0037,  0.0051,  0.0592,  0.1103,\n",
            "         -0.0792,  0.0124,  0.0411, -0.0484, -0.0603, -0.0255,  0.0100, -0.0041,\n",
            "         -0.0293, -0.0771, -0.1026, -0.0165,  0.0880, -0.0567,  0.0110, -0.0504,\n",
            "         -0.1376, -0.0135, -0.0118, -0.0448, -0.0443,  0.0195, -0.0126,  0.0076,\n",
            "          0.0006,  0.0633,  0.0079,  0.0652, -0.0240,  0.0825, -0.1315, -0.0345,\n",
            "          0.0381,  0.0261, -0.0198, -0.0073,  0.0332,  0.0095, -0.0159,  0.0256,\n",
            "          0.0386, -0.0090, -0.0654,  0.0351, -0.0350, -0.0186,  0.0522, -0.0061,\n",
            "         -0.0240, -0.0681, -0.0017, -0.0445,  0.0941, -0.0480,  0.1067, -0.0017,\n",
            "          0.0687, -0.0703,  0.0311, -0.1006,  0.0046, -0.0363, -0.0540,  0.0599,\n",
            "         -0.0049, -0.0234, -0.0549,  0.0813, -0.0686,  0.0170,  0.0694, -0.0158,\n",
            "         -0.0365, -0.0648,  0.0454, -0.0678, -0.0086, -0.0599,  0.0419,  0.0206,\n",
            "          0.0243, -0.0238,  0.0264,  0.0237, -0.0244,  0.0123, -0.1257, -0.0474,\n",
            "         -0.0294, -0.0618, -0.0011,  0.0331,  0.0072, -0.0258, -0.0447, -0.1010,\n",
            "         -0.0255, -0.0049, -0.0311,  0.0503,  0.0316,  0.0534,  0.0170,  0.0085,\n",
            "         -0.0113, -0.0320, -0.0707,  0.0604, -0.0139,  0.0166, -0.0574,  0.0459,\n",
            "         -0.0038, -0.0456,  0.0990, -0.0320, -0.0109, -0.0420, -0.0575,  0.0419,\n",
            "         -0.0224, -0.0737,  0.0886, -0.0147,  0.0160,  0.0088,  0.0090,  0.0230,\n",
            "         -0.0399, -0.0497, -0.0537,  0.0061,  0.0577, -0.0242,  0.0510, -0.0249,\n",
            "         -0.0708,  0.0631,  0.0096,  0.0545,  0.0336, -0.0983,  0.0108, -0.0279,\n",
            "          0.1027,  0.0115, -0.0271,  0.0391,  0.0186, -0.0238, -0.0671,  0.0636,\n",
            "          0.0207, -0.0434,  0.0374,  0.0737,  0.0026,  0.0886, -0.0087, -0.0359,\n",
            "          0.0577,  0.0161,  0.0089, -0.0059, -0.0171,  0.0399, -0.0210,  0.0145,\n",
            "          0.0745, -0.0230,  0.0139, -0.0922,  0.0694,  0.0129, -0.0238, -0.0071,\n",
            "         -0.0636, -0.0536, -0.0661,  0.0683, -0.0071, -0.0213, -0.0385, -0.0287,\n",
            "         -0.0506, -0.0006,  0.0396,  0.0341, -0.0674,  0.0192,  0.0006, -0.0571,\n",
            "          0.0101, -0.0348, -0.1067, -0.0069, -0.0299,  0.0006, -0.0014, -0.0698,\n",
            "          0.0073, -0.0221, -0.0462, -0.1066, -0.0853,  0.0080,  0.0259,  0.1360,\n",
            "         -0.0109,  0.0835, -0.0154,  0.0908,  0.0326, -0.0302,  0.0489, -0.0994,\n",
            "          0.0142,  0.0026, -0.0460, -0.0989, -0.0863,  0.0355, -0.0062,  0.0506,\n",
            "          0.0891, -0.1083,  0.0491,  0.0502, -0.0257,  0.0335,  0.0542, -0.0638,\n",
            "          0.0483,  0.0410, -0.0297, -0.0385, -0.0888, -0.0734, -0.0060, -0.0594,\n",
            "         -0.0292, -0.0711,  0.0889, -0.0497, -0.0437, -0.0865, -0.0354, -0.0258,\n",
            "          0.0269,  0.0262, -0.0211,  0.0073, -0.0011,  0.0959,  0.0759, -0.0106,\n",
            "         -0.0052, -0.0557,  0.0550,  0.0463,  0.0750, -0.0176,  0.0253,  0.1217,\n",
            "         -0.0456,  0.0387,  0.0121, -0.0103, -0.0520, -0.0326, -0.0554, -0.1037,\n",
            "          0.0040, -0.0053, -0.0609, -0.0015, -0.0909,  0.0380,  0.0715, -0.0303,\n",
            "         -0.0444,  0.0643,  0.0366,  0.0473, -0.0193,  0.0271,  0.0368,  0.0094,\n",
            "          0.0351, -0.0746, -0.0743,  0.0232,  0.0383, -0.0099,  0.0368,  0.0514,\n",
            "         -0.0104,  0.0391, -0.0427,  0.0677,  0.0261,  0.0594,  0.0374,  0.0122,\n",
            "         -0.0505,  0.0120, -0.0313,  0.0822,  0.0567,  0.0019, -0.0399, -0.0606,\n",
            "         -0.0858, -0.0505,  0.0813,  0.0086, -0.0003, -0.0014,  0.0687, -0.0317,\n",
            "          0.0649,  0.1322, -0.0602, -0.0555, -0.0611, -0.0288,  0.0279,  0.0111]],\n",
            "       grad_fn=<TanhBackward>), hidden_states=None, attentions=None)\n",
            "(1, 768)\n"
          ],
          "name": "stdout"
        }
      ]
    },
    {
      "cell_type": "markdown",
      "metadata": {
        "id": "VnOLSnxVFXx3"
      },
      "source": [
        "## Embedding the Training Data"
      ]
    },
    {
      "cell_type": "code",
      "metadata": {
        "colab": {
          "base_uri": "https://localhost:8080/"
        },
        "id": "Srx9a1pyQmNo",
        "outputId": "47c6ec63-ac98-4736-ccc2-adfc4febe89d"
      },
      "source": [
        "print(len(X_train))"
      ],
      "execution_count": 19,
      "outputs": [
        {
          "output_type": "stream",
          "text": [
            "4592\n"
          ],
          "name": "stdout"
        }
      ]
    },
    {
      "cell_type": "code",
      "metadata": {
        "colab": {
          "base_uri": "https://localhost:8080/"
        },
        "id": "-jKH6wf2UyGx",
        "outputId": "1a6b867b-6af5-473c-96ed-b94a534211c3"
      },
      "source": [
        "input = []\n",
        "\n",
        "for text in X_train:\n",
        "    tokenized_input = tokenizer(\n",
        "        text,\n",
        "        padding=True,\n",
        "        truncation=False,\n",
        "        return_tensors='pt'\n",
        "    )\n",
        "    input.append(tokenized_input)\n",
        "\n",
        "print(len(input))"
      ],
      "execution_count": 20,
      "outputs": [
        {
          "output_type": "stream",
          "text": [
            "4592\n"
          ],
          "name": "stdout"
        }
      ]
    },
    {
      "cell_type": "markdown",
      "metadata": {
        "id": "jwA4tn7NSA3A"
      },
      "source": [
        "## Saving X_train to disk"
      ]
    },
    {
      "cell_type": "code",
      "metadata": {
        "colab": {
          "base_uri": "https://localhost:8080/"
        },
        "id": "7d-VaJJFFXx4",
        "outputId": "912592d8-3817-45aa-88f1-4529e44df389"
      },
      "source": [
        "output = []\n",
        "\n",
        "j = 1\n",
        "\n",
        "for i in range(len(input)):\n",
        "    model_output = model(**input[i])\n",
        "    model_output = model_output.pooler_output.cpu().detach().numpy()\n",
        "    output.append(model_output)\n",
        "    if ((i + 1) % 200) == 0:\n",
        "        file_name = \"./X_train/output\" + str(j) + \".txt\"\n",
        "        with open(file_name, \"wb\") as fp:   #Pickling\n",
        "            pickle.dump(output, fp)\n",
        "        print(file_name + \" done\")\n",
        "        output = []\n",
        "        j += 1\n",
        "        \n",
        "file_name = \"./X_train/output\" + str(j) + \".txt\"\n",
        "with open(file_name, \"wb\") as fp:   #Pickling\n",
        "    pickle.dump(output, fp)\n",
        "print(file_name + \" done\")\n",
        "output = []"
      ],
      "execution_count": 21,
      "outputs": [
        {
          "output_type": "stream",
          "text": [
            "./X_train/output1.txt done\n",
            "./X_train/output2.txt done\n",
            "./X_train/output3.txt done\n",
            "./X_train/output4.txt done\n",
            "./X_train/output5.txt done\n",
            "./X_train/output6.txt done\n",
            "./X_train/output7.txt done\n",
            "./X_train/output8.txt done\n",
            "./X_train/output9.txt done\n",
            "./X_train/output10.txt done\n",
            "./X_train/output11.txt done\n",
            "./X_train/output12.txt done\n",
            "./X_train/output13.txt done\n",
            "./X_train/output14.txt done\n",
            "./X_train/output15.txt done\n",
            "./X_train/output16.txt done\n",
            "./X_train/output17.txt done\n",
            "./X_train/output18.txt done\n",
            "./X_train/output19.txt done\n",
            "./X_train/output20.txt done\n",
            "./X_train/output21.txt done\n",
            "./X_train/output22.txt done\n",
            "./X_train/output23.txt done\n"
          ],
          "name": "stdout"
        }
      ]
    },
    {
      "cell_type": "markdown",
      "metadata": {
        "id": "Q9TBFZPdSZ39"
      },
      "source": [
        "## Loading X_train from disk"
      ]
    },
    {
      "cell_type": "code",
      "metadata": {
        "colab": {
          "base_uri": "https://localhost:8080/"
        },
        "id": "U6tfVKA9FXx4",
        "outputId": "45f09fd1-f72f-4b80-dcfd-ca9f725bfbb3"
      },
      "source": [
        "output = []\n",
        "\n",
        "for i in range(23):\n",
        "    file_name = \"./X_train/output\" + str(i + 1) + \".txt\"\n",
        "    with open(file_name, \"rb\") as fp:   #Pickling\n",
        "        file_output = pickle.load(fp)\n",
        "        for x in file_output:\n",
        "            output.append(x)\n",
        "    print(file_name + \" done\")"
      ],
      "execution_count": 22,
      "outputs": [
        {
          "output_type": "stream",
          "text": [
            "./X_train/output1.txt done\n",
            "./X_train/output2.txt done\n",
            "./X_train/output3.txt done\n",
            "./X_train/output4.txt done\n",
            "./X_train/output5.txt done\n",
            "./X_train/output6.txt done\n",
            "./X_train/output7.txt done\n",
            "./X_train/output8.txt done\n",
            "./X_train/output9.txt done\n",
            "./X_train/output10.txt done\n",
            "./X_train/output11.txt done\n",
            "./X_train/output12.txt done\n",
            "./X_train/output13.txt done\n",
            "./X_train/output14.txt done\n",
            "./X_train/output15.txt done\n",
            "./X_train/output16.txt done\n",
            "./X_train/output17.txt done\n",
            "./X_train/output18.txt done\n",
            "./X_train/output19.txt done\n",
            "./X_train/output20.txt done\n",
            "./X_train/output21.txt done\n",
            "./X_train/output22.txt done\n",
            "./X_train/output23.txt done\n"
          ],
          "name": "stdout"
        }
      ]
    },
    {
      "cell_type": "code",
      "metadata": {
        "id": "oyJqa7CSFXx5"
      },
      "source": [
        "X_train = output\n",
        "output = []"
      ],
      "execution_count": 23,
      "outputs": []
    },
    {
      "cell_type": "code",
      "metadata": {
        "colab": {
          "base_uri": "https://localhost:8080/"
        },
        "id": "-ZwbdpDmFXx5",
        "outputId": "671b3841-3d12-41e2-e68a-00deeda9f261"
      },
      "source": [
        "print(len(X_train))"
      ],
      "execution_count": 24,
      "outputs": [
        {
          "output_type": "stream",
          "text": [
            "4592\n"
          ],
          "name": "stdout"
        }
      ]
    },
    {
      "cell_type": "markdown",
      "metadata": {
        "id": "hNk9RJVsFXx6"
      },
      "source": [
        "## Embedding the Testing Data"
      ]
    },
    {
      "cell_type": "code",
      "metadata": {
        "colab": {
          "base_uri": "https://localhost:8080/"
        },
        "id": "IM5-JgUFFXx6",
        "outputId": "2b9f9eab-1150-464e-ef05-3052e7e368ff"
      },
      "source": [
        "input = []\n",
        "\n",
        "for text in X_val:\n",
        "    tokenized_input = tokenizer(\n",
        "        text,\n",
        "        padding=True,\n",
        "        truncation=False,\n",
        "        return_tensors='pt'\n",
        "    )\n",
        "    input.append(tokenized_input)\n",
        "\n",
        "print(len(input))"
      ],
      "execution_count": 25,
      "outputs": [
        {
          "output_type": "stream",
          "text": [
            "1148\n"
          ],
          "name": "stdout"
        }
      ]
    },
    {
      "cell_type": "markdown",
      "metadata": {
        "id": "-5qEKUmCSHdF"
      },
      "source": [
        "## Saving X_val to disk"
      ]
    },
    {
      "cell_type": "code",
      "metadata": {
        "colab": {
          "base_uri": "https://localhost:8080/"
        },
        "id": "tM2HvxgDFXx7",
        "outputId": "6078dc97-4165-4d30-cc12-908d1ea4b493"
      },
      "source": [
        "output = []\n",
        "\n",
        "j = 1\n",
        "\n",
        "for i in range(len(input)):\n",
        "    model_output = model(**input[i])\n",
        "    model_output = model_output.pooler_output.cpu().detach().numpy()\n",
        "    output.append(model_output)\n",
        "    if ((i + 1) % 200) == 0:\n",
        "        file_name = \"./X_val/output\" + str(j) + \".txt\"\n",
        "        with open(file_name, \"wb\") as fp:   #Pickling\n",
        "            pickle.dump(output, fp)\n",
        "        print(file_name + \" done\")\n",
        "        output = []\n",
        "        j += 1\n",
        "        \n",
        "file_name = \"./X_val/output\" + str(j) + \".txt\"\n",
        "with open(file_name, \"wb\") as fp:   #Pickling\n",
        "    pickle.dump(output, fp)\n",
        "print(file_name + \" done\")\n",
        "output = []"
      ],
      "execution_count": 26,
      "outputs": [
        {
          "output_type": "stream",
          "text": [
            "./X_val/output1.txt done\n",
            "./X_val/output2.txt done\n",
            "./X_val/output3.txt done\n",
            "./X_val/output4.txt done\n",
            "./X_val/output5.txt done\n",
            "./X_val/output6.txt done\n"
          ],
          "name": "stdout"
        }
      ]
    },
    {
      "cell_type": "markdown",
      "metadata": {
        "id": "0aVRHON8SUf5"
      },
      "source": [
        "## Loading X_val from disk"
      ]
    },
    {
      "cell_type": "code",
      "metadata": {
        "colab": {
          "base_uri": "https://localhost:8080/"
        },
        "id": "KGeeyUYAFXx7",
        "outputId": "5518f66a-2377-4e9e-8e25-e9071d6b9474"
      },
      "source": [
        "output = []\n",
        "\n",
        "for i in range(6):\n",
        "    file_name = \"./X_val/output\" + str(i + 1) + \".txt\"\n",
        "    with open(file_name, \"rb\") as fp:   #Pickling\n",
        "        file_output = pickle.load(fp)\n",
        "        for x in file_output:\n",
        "            output.append(x)\n",
        "    print(file_name + \" done\")"
      ],
      "execution_count": 27,
      "outputs": [
        {
          "output_type": "stream",
          "text": [
            "./X_val/output1.txt done\n",
            "./X_val/output2.txt done\n",
            "./X_val/output3.txt done\n",
            "./X_val/output4.txt done\n",
            "./X_val/output5.txt done\n",
            "./X_val/output6.txt done\n"
          ],
          "name": "stdout"
        }
      ]
    },
    {
      "cell_type": "code",
      "metadata": {
        "colab": {
          "base_uri": "https://localhost:8080/"
        },
        "id": "xbRAfWQCFXyG",
        "outputId": "04d8b3ec-9830-42dd-d201-4240f71d484a"
      },
      "source": [
        "X_val = output\n",
        "output = []\n",
        "print(len(X_val))"
      ],
      "execution_count": 28,
      "outputs": [
        {
          "output_type": "stream",
          "text": [
            "1148\n"
          ],
          "name": "stdout"
        }
      ]
    },
    {
      "cell_type": "markdown",
      "metadata": {
        "id": "laIE4ef-SMMF"
      },
      "source": [
        "## Saving y_train & y_val to disk"
      ]
    },
    {
      "cell_type": "code",
      "metadata": {
        "id": "ca7NLtk4SQFO"
      },
      "source": [
        "with open(\"./y_train/y_train.txt\", \"wb\") as fp:\n",
        "    pickle.dump(y_train, fp)\n",
        "\n",
        "with open(\"./y_val/y_val.txt\", \"wb\") as fp:\n",
        "    pickle.dump(y_val, fp)"
      ],
      "execution_count": 29,
      "outputs": []
    },
    {
      "cell_type": "markdown",
      "metadata": {
        "id": "8jeHhZqQS_eE"
      },
      "source": [
        "## Loading y_train & y_val from disk"
      ]
    },
    {
      "cell_type": "code",
      "metadata": {
        "id": "ZLyzJd2tTEVB"
      },
      "source": [
        "with open('./y_train/y_train.txt', \"rb\") as fp:\n",
        "        y_train = pickle.load(fp)\n",
        "\n",
        "with open('./y_val/y_val.txt', \"rb\") as fp:\n",
        "        y_val = pickle.load(fp)"
      ],
      "execution_count": 30,
      "outputs": []
    },
    {
      "cell_type": "markdown",
      "metadata": {
        "id": "fFdI9EUvFXyH"
      },
      "source": [
        "## Logistic Regression"
      ]
    },
    {
      "cell_type": "code",
      "metadata": {
        "id": "1_GYvduBFXyH"
      },
      "source": [
        "# Preprocessing\n",
        "\n",
        "X_train = np.array(X_train)\n",
        "X_train = X_train.reshape(4592,768)\n",
        "\n",
        "X_val = np.array(X_val)\n",
        "X_val = X_val.reshape(1148, 768)\n",
        "\n",
        "y_train = np.array(y_train)\n",
        "y_val = np.array(y_val)"
      ],
      "execution_count": 31,
      "outputs": []
    },
    {
      "cell_type": "code",
      "metadata": {
        "id": "rfaSAd5SFXyH"
      },
      "source": [
        "# Loading the Model\n",
        "\n",
        "classifier = LogisticRegression()"
      ],
      "execution_count": 32,
      "outputs": []
    },
    {
      "cell_type": "code",
      "metadata": {
        "colab": {
          "base_uri": "https://localhost:8080/"
        },
        "id": "LVHd2RbJFXyH",
        "outputId": "dccf9312-c429-4132-f30c-36e01638fe02"
      },
      "source": [
        "# Training the Model\n",
        "\n",
        "classifier.fit(X_train, y_train)"
      ],
      "execution_count": 33,
      "outputs": [
        {
          "output_type": "execute_result",
          "data": {
            "text/plain": [
              "LogisticRegression(C=1.0, class_weight=None, dual=False, fit_intercept=True,\n",
              "                   intercept_scaling=1, l1_ratio=None, max_iter=100,\n",
              "                   multi_class='auto', n_jobs=None, penalty='l2',\n",
              "                   random_state=None, solver='lbfgs', tol=0.0001, verbose=0,\n",
              "                   warm_start=False)"
            ]
          },
          "metadata": {},
          "execution_count": 33
        }
      ]
    },
    {
      "cell_type": "code",
      "metadata": {
        "colab": {
          "base_uri": "https://localhost:8080/"
        },
        "id": "9ZXI1ZrNFXyI",
        "outputId": "488ff848-06a7-4aa9-fd0f-569705f07312"
      },
      "source": [
        "# Evaluating the Model\n",
        "\n",
        "y_pred = classifier.predict(X_val)\n",
        "print(classification_report(y_val, y_pred))"
      ],
      "execution_count": 34,
      "outputs": [
        {
          "output_type": "stream",
          "text": [
            "              precision    recall  f1-score   support\n",
            "\n",
            "           0       0.62      0.63      0.62       579\n",
            "           1       0.62      0.60      0.61       569\n",
            "\n",
            "    accuracy                           0.62      1148\n",
            "   macro avg       0.62      0.62      0.62      1148\n",
            "weighted avg       0.62      0.62      0.62      1148\n",
            "\n"
          ],
          "name": "stdout"
        }
      ]
    },
    {
      "cell_type": "markdown",
      "metadata": {
        "id": "Sz-Xx25ecs0w"
      },
      "source": [
        "## Support Vector Machine"
      ]
    },
    {
      "cell_type": "code",
      "metadata": {
        "id": "Q9mOb7NPhKn_"
      },
      "source": [
        "from sklearn.svm import SVC"
      ],
      "execution_count": 37,
      "outputs": []
    },
    {
      "cell_type": "code",
      "metadata": {
        "colab": {
          "base_uri": "https://localhost:8080/"
        },
        "id": "iqYaLaIBcwt8",
        "outputId": "ad9e0924-6706-4608-d0a1-8edc7a4d751a"
      },
      "source": [
        "classifier = SVC()\n",
        "classifier.fit(X_train, y_train)"
      ],
      "execution_count": 39,
      "outputs": [
        {
          "output_type": "execute_result",
          "data": {
            "text/plain": [
              "SVC(C=1.0, break_ties=False, cache_size=200, class_weight=None, coef0=0.0,\n",
              "    decision_function_shape='ovr', degree=3, gamma='scale', kernel='rbf',\n",
              "    max_iter=-1, probability=False, random_state=None, shrinking=True,\n",
              "    tol=0.001, verbose=False)"
            ]
          },
          "metadata": {},
          "execution_count": 39
        }
      ]
    },
    {
      "cell_type": "code",
      "metadata": {
        "id": "t1rmI6x5hFo0"
      },
      "source": [
        "y_pred = classifier.predict(X_val)"
      ],
      "execution_count": 40,
      "outputs": []
    },
    {
      "cell_type": "code",
      "metadata": {
        "colab": {
          "base_uri": "https://localhost:8080/"
        },
        "id": "YvEZ-h1ehcN-",
        "outputId": "3ed4c254-c3c6-4823-937e-cef57a68e858"
      },
      "source": [
        "print(classification_report(y_val, y_pred))"
      ],
      "execution_count": 41,
      "outputs": [
        {
          "output_type": "stream",
          "text": [
            "              precision    recall  f1-score   support\n",
            "\n",
            "           0       0.58      0.75      0.65       579\n",
            "           1       0.63      0.44      0.52       569\n",
            "\n",
            "    accuracy                           0.59      1148\n",
            "   macro avg       0.60      0.59      0.58      1148\n",
            "weighted avg       0.60      0.59      0.58      1148\n",
            "\n"
          ],
          "name": "stdout"
        }
      ]
    },
    {
      "cell_type": "markdown",
      "metadata": {
        "id": "gjOB3HAgh-VZ"
      },
      "source": [
        "## Naive Bayes"
      ]
    },
    {
      "cell_type": "code",
      "metadata": {
        "id": "yeaFbbsHhtwY"
      },
      "source": [
        "from sklearn.naive_bayes import GaussianNB"
      ],
      "execution_count": 43,
      "outputs": []
    },
    {
      "cell_type": "code",
      "metadata": {
        "colab": {
          "base_uri": "https://localhost:8080/"
        },
        "id": "B0CRevdQiK-l",
        "outputId": "08ff9ec1-6724-4582-cacc-0aec2e4e75eb"
      },
      "source": [
        "classifier = GaussianNB()\n",
        "classifier.fit(X_train, y_train)"
      ],
      "execution_count": 44,
      "outputs": [
        {
          "output_type": "execute_result",
          "data": {
            "text/plain": [
              "GaussianNB(priors=None, var_smoothing=1e-09)"
            ]
          },
          "metadata": {},
          "execution_count": 44
        }
      ]
    },
    {
      "cell_type": "code",
      "metadata": {
        "colab": {
          "base_uri": "https://localhost:8080/"
        },
        "id": "v9av2t1YlVyM",
        "outputId": "7c463d31-a562-4b7c-9227-0aed76a224ea"
      },
      "source": [
        "y_pred = classifier.predict(X_val)\n",
        "print(classification_report(y_val, y_pred))"
      ],
      "execution_count": 45,
      "outputs": [
        {
          "output_type": "stream",
          "text": [
            "              precision    recall  f1-score   support\n",
            "\n",
            "           0       0.61      0.61      0.61       579\n",
            "           1       0.60      0.61      0.61       569\n",
            "\n",
            "    accuracy                           0.61      1148\n",
            "   macro avg       0.61      0.61      0.61      1148\n",
            "weighted avg       0.61      0.61      0.61      1148\n",
            "\n"
          ],
          "name": "stdout"
        }
      ]
    },
    {
      "cell_type": "markdown",
      "metadata": {
        "id": "fsF1v-Pgl2lV"
      },
      "source": [
        "## Stochastic Gradient Descent"
      ]
    },
    {
      "cell_type": "code",
      "metadata": {
        "id": "ICWxuKCElnGv"
      },
      "source": [
        "from sklearn.linear_model import SGDClassifier"
      ],
      "execution_count": 46,
      "outputs": []
    },
    {
      "cell_type": "code",
      "metadata": {
        "colab": {
          "base_uri": "https://localhost:8080/"
        },
        "id": "1a6Qcj74l_Gr",
        "outputId": "bc756671-ccc3-49b1-fd28-b542dee1e441"
      },
      "source": [
        "classifier = SGDClassifier()\n",
        "classifier.fit(X_train, y_train)"
      ],
      "execution_count": 47,
      "outputs": [
        {
          "output_type": "execute_result",
          "data": {
            "text/plain": [
              "SGDClassifier(alpha=0.0001, average=False, class_weight=None,\n",
              "              early_stopping=False, epsilon=0.1, eta0=0.0, fit_intercept=True,\n",
              "              l1_ratio=0.15, learning_rate='optimal', loss='hinge',\n",
              "              max_iter=1000, n_iter_no_change=5, n_jobs=None, penalty='l2',\n",
              "              power_t=0.5, random_state=None, shuffle=True, tol=0.001,\n",
              "              validation_fraction=0.1, verbose=0, warm_start=False)"
            ]
          },
          "metadata": {},
          "execution_count": 47
        }
      ]
    },
    {
      "cell_type": "code",
      "metadata": {
        "colab": {
          "base_uri": "https://localhost:8080/"
        },
        "id": "m2DzKdsnmG8b",
        "outputId": "4c451e43-7954-46ac-dd93-78bcf63d709b"
      },
      "source": [
        "y_pred = classifier.predict(X_val)\n",
        "print(classification_report(y_val, y_pred))"
      ],
      "execution_count": 48,
      "outputs": [
        {
          "output_type": "stream",
          "text": [
            "              precision    recall  f1-score   support\n",
            "\n",
            "           0       0.63      0.57      0.60       579\n",
            "           1       0.60      0.66      0.63       569\n",
            "\n",
            "    accuracy                           0.62      1148\n",
            "   macro avg       0.62      0.62      0.62      1148\n",
            "weighted avg       0.62      0.62      0.62      1148\n",
            "\n"
          ],
          "name": "stdout"
        }
      ]
    },
    {
      "cell_type": "markdown",
      "metadata": {
        "id": "RPClC8zcmOLv"
      },
      "source": [
        "## K-Nearest Neighbours"
      ]
    },
    {
      "cell_type": "code",
      "metadata": {
        "id": "G20YNDlRmJKY"
      },
      "source": [
        "from sklearn.neighbors import KNeighborsClassifier"
      ],
      "execution_count": 49,
      "outputs": []
    },
    {
      "cell_type": "code",
      "metadata": {
        "colab": {
          "base_uri": "https://localhost:8080/"
        },
        "id": "XMFFKcBknbIq",
        "outputId": "2c32e975-6c24-4381-a734-67f2ff2fb707"
      },
      "source": [
        "classifier = KNeighborsClassifier()\n",
        "classifier.fit(X_train, y_train)"
      ],
      "execution_count": 50,
      "outputs": [
        {
          "output_type": "execute_result",
          "data": {
            "text/plain": [
              "KNeighborsClassifier(algorithm='auto', leaf_size=30, metric='minkowski',\n",
              "                     metric_params=None, n_jobs=None, n_neighbors=5, p=2,\n",
              "                     weights='uniform')"
            ]
          },
          "metadata": {},
          "execution_count": 50
        }
      ]
    },
    {
      "cell_type": "code",
      "metadata": {
        "colab": {
          "base_uri": "https://localhost:8080/"
        },
        "id": "p6_6pCwfneRV",
        "outputId": "e7311374-9e8c-47cb-f1d4-6806d5ae1829"
      },
      "source": [
        "y_pred = classifier.predict(X_val)\n",
        "print(classification_report(y_val, y_pred))"
      ],
      "execution_count": 51,
      "outputs": [
        {
          "output_type": "stream",
          "text": [
            "              precision    recall  f1-score   support\n",
            "\n",
            "           0       0.66      0.60      0.63       579\n",
            "           1       0.63      0.68      0.65       569\n",
            "\n",
            "    accuracy                           0.64      1148\n",
            "   macro avg       0.64      0.64      0.64      1148\n",
            "weighted avg       0.64      0.64      0.64      1148\n",
            "\n"
          ],
          "name": "stdout"
        }
      ]
    },
    {
      "cell_type": "markdown",
      "metadata": {
        "id": "ETSBaG87nlxe"
      },
      "source": [
        "## Decision Tree"
      ]
    },
    {
      "cell_type": "code",
      "metadata": {
        "id": "ddOEqyQJnhRN"
      },
      "source": [
        "from sklearn.tree import DecisionTreeClassifier"
      ],
      "execution_count": 52,
      "outputs": []
    },
    {
      "cell_type": "code",
      "metadata": {
        "colab": {
          "base_uri": "https://localhost:8080/"
        },
        "id": "Es-0rTl7ntTQ",
        "outputId": "d5917993-a545-43df-d6ff-1ea0175aa356"
      },
      "source": [
        "classifier = DecisionTreeClassifier()\n",
        "classifier.fit(X_train, y_train)"
      ],
      "execution_count": 53,
      "outputs": [
        {
          "output_type": "execute_result",
          "data": {
            "text/plain": [
              "DecisionTreeClassifier(ccp_alpha=0.0, class_weight=None, criterion='gini',\n",
              "                       max_depth=None, max_features=None, max_leaf_nodes=None,\n",
              "                       min_impurity_decrease=0.0, min_impurity_split=None,\n",
              "                       min_samples_leaf=1, min_samples_split=2,\n",
              "                       min_weight_fraction_leaf=0.0, presort='deprecated',\n",
              "                       random_state=None, splitter='best')"
            ]
          },
          "metadata": {},
          "execution_count": 53
        }
      ]
    },
    {
      "cell_type": "code",
      "metadata": {
        "colab": {
          "base_uri": "https://localhost:8080/"
        },
        "id": "VAa6gNHKnwbX",
        "outputId": "6db5da02-0479-42cb-d1aa-e2ad94716e62"
      },
      "source": [
        "y_pred = classifier.predict(X_val)\n",
        "print(classification_report(y_val, y_pred))"
      ],
      "execution_count": 54,
      "outputs": [
        {
          "output_type": "stream",
          "text": [
            "              precision    recall  f1-score   support\n",
            "\n",
            "           0       0.58      0.58      0.58       579\n",
            "           1       0.57      0.57      0.57       569\n",
            "\n",
            "    accuracy                           0.58      1148\n",
            "   macro avg       0.58      0.58      0.58      1148\n",
            "weighted avg       0.58      0.58      0.58      1148\n",
            "\n"
          ],
          "name": "stdout"
        }
      ]
    },
    {
      "cell_type": "markdown",
      "metadata": {
        "id": "fyuvPG2Wn5bV"
      },
      "source": [
        "## Random Forest"
      ]
    },
    {
      "cell_type": "code",
      "metadata": {
        "id": "nIPEp33GnzPz"
      },
      "source": [
        "from sklearn.ensemble import RandomForestClassifier"
      ],
      "execution_count": 55,
      "outputs": []
    },
    {
      "cell_type": "code",
      "metadata": {
        "colab": {
          "base_uri": "https://localhost:8080/"
        },
        "id": "cV5IgtGUn_63",
        "outputId": "1903650e-4855-4019-d55f-72d65f2b07a5"
      },
      "source": [
        "classifier = RandomForestClassifier()\n",
        "classifier.fit(X_train, y_train)"
      ],
      "execution_count": 56,
      "outputs": [
        {
          "output_type": "execute_result",
          "data": {
            "text/plain": [
              "RandomForestClassifier(bootstrap=True, ccp_alpha=0.0, class_weight=None,\n",
              "                       criterion='gini', max_depth=None, max_features='auto',\n",
              "                       max_leaf_nodes=None, max_samples=None,\n",
              "                       min_impurity_decrease=0.0, min_impurity_split=None,\n",
              "                       min_samples_leaf=1, min_samples_split=2,\n",
              "                       min_weight_fraction_leaf=0.0, n_estimators=100,\n",
              "                       n_jobs=None, oob_score=False, random_state=None,\n",
              "                       verbose=0, warm_start=False)"
            ]
          },
          "metadata": {},
          "execution_count": 56
        }
      ]
    },
    {
      "cell_type": "markdown",
      "metadata": {
        "id": "o5960SkqoeXY"
      },
      "source": [
        "## Ensemble - Voting"
      ]
    },
    {
      "cell_type": "code",
      "metadata": {
        "id": "DXUQvJcGoF9_"
      },
      "source": [
        "# Logistic Regression\n",
        "\n",
        "lr = LogisticRegression()\n",
        "lr.fit(X_train, y_train)\n",
        "lr_pred = lr.predict(X_val)"
      ],
      "execution_count": 57,
      "outputs": []
    },
    {
      "cell_type": "code",
      "metadata": {
        "id": "Ac1KoogPpRxl"
      },
      "source": [
        "# Support Vector Machine\n",
        "\n",
        "svc = SVC()\n",
        "svc.fit(X_train, y_train)\n",
        "svc_pred = svc.predict(X_val)"
      ],
      "execution_count": 58,
      "outputs": []
    },
    {
      "cell_type": "code",
      "metadata": {
        "id": "Ygk_8pqGphxI"
      },
      "source": [
        "# Naive Bayes\n",
        "\n",
        "nb = GaussianNB()\n",
        "nb.fit(X_train, y_train)\n",
        "nb_pred = nb.predict(X_val)"
      ],
      "execution_count": 59,
      "outputs": []
    },
    {
      "cell_type": "code",
      "metadata": {
        "id": "rnYGqe-qpvWC"
      },
      "source": [
        "# Stochastic Gradient Descent\n",
        "\n",
        "sgd = SGDClassifier()\n",
        "sgd.fit(X_train, y_train)\n",
        "sgd_pred = sgd.predict(X_val)"
      ],
      "execution_count": 60,
      "outputs": []
    },
    {
      "cell_type": "code",
      "metadata": {
        "id": "hB4-SQq1qUSS"
      },
      "source": [
        "# K Nearest Neighbour\n",
        "\n",
        "knn = KNeighborsClassifier()\n",
        "knn.fit(X_train, y_train)\n",
        "knn_pred = knn.predict(X_val)"
      ],
      "execution_count": 61,
      "outputs": []
    },
    {
      "cell_type": "code",
      "metadata": {
        "id": "x2x3kXTZqg6c"
      },
      "source": [
        "# Decision Tree\n",
        "\n",
        "dt = DecisionTreeClassifier()\n",
        "dt.fit(X_train, y_train)\n",
        "dt_pred = dt.predict(X_val)"
      ],
      "execution_count": 62,
      "outputs": []
    },
    {
      "cell_type": "code",
      "metadata": {
        "id": "VSrCdmvKqrcX"
      },
      "source": [
        "# Random Forest\n",
        "\n",
        "rf = RandomForestClassifier()\n",
        "rf.fit(X_train, y_train)\n",
        "rf_pred = rf.predict(X_val)"
      ],
      "execution_count": 67,
      "outputs": []
    },
    {
      "cell_type": "code",
      "metadata": {
        "id": "ztTSL9KAq-JN"
      },
      "source": [
        "# Voting\n",
        "\n",
        "y_pred = []\n",
        "\n",
        "for i in range(len(lr_pred)):\n",
        "    one = 0\n",
        "    zero = 0\n",
        "    predictions = [lr_pred[i], svc_pred[i], nb_pred[i], sgd_pred[i], knn_pred[i], dt_pred[i], rf_pred[i]]\n",
        "    for pred in predictions:\n",
        "        if pred == 1: one += 1\n",
        "        if pred == 0: zero +=1\n",
        "    if one > zero: y_pred.append(1)\n",
        "    else: y_pred.append(0)\n",
        "\n",
        "y_pred = np.array(y_pred)"
      ],
      "execution_count": 73,
      "outputs": []
    },
    {
      "cell_type": "code",
      "metadata": {
        "colab": {
          "base_uri": "https://localhost:8080/"
        },
        "id": "adaH3hPCrEsb",
        "outputId": "41adfade-3b67-4ce6-e95d-1c028d0a2cde"
      },
      "source": [
        "print(classification_report(y_val, y_pred))"
      ],
      "execution_count": 74,
      "outputs": [
        {
          "output_type": "stream",
          "text": [
            "              precision    recall  f1-score   support\n",
            "\n",
            "           0       0.68      0.61      0.65       579\n",
            "           1       0.64      0.71      0.68       569\n",
            "\n",
            "    accuracy                           0.66      1148\n",
            "   macro avg       0.66      0.66      0.66      1148\n",
            "weighted avg       0.66      0.66      0.66      1148\n",
            "\n"
          ],
          "name": "stdout"
        }
      ]
    }
  ]
}